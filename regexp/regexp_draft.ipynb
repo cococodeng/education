{
 "cells": [
  {
   "cell_type": "code",
   "execution_count": null,
   "metadata": {},
   "outputs": [],
   "source": [
    "import re\n",
    "nslookup_log = \"\"\"\n",
    "# nslookup dist.elvees.com\n",
    "Server:                192.168.1.30\n",
    "Address:       192.168.1.30:53\n",
    "\n",
    "Name:  dist.elvees.com\n",
    "Address: 37.203.242.49\n",
    "\"\"\"\n",
    "\n",
    "\n",
    "nslookup_ip = re.search(\n",
    "            r\"Name:(.*[\\s\\S]*)Address:\\s*(?P<ip>\\d{1,3}\\.\\d{1,3}\\.\\d{1,3}\\.\\d{1,3})\", nslookup_log\n",
    "        ).group(\"ip\")\n",
    "print(nslookup_ip)"
   ]
  },
  {
   "cell_type": "code",
   "execution_count": null,
   "metadata": {},
   "outputs": [],
   "source": [
    "import re\n",
    "\n",
    "out = '''\\\n",
    "# mmcli -m Quectel-EG95-EX\n",
    "error: couldn't find modem\n",
    "'''\n",
    "modem_not_found = re.search(r\".*error: couldn't find modem.*\", out, re.MULTILINE)\n",
    "if modem_not_found: print('not found')\n",
    "\n",
    "out = '''\\\n",
    "# mmcli -m Quectel-EG95-EX\n",
    "error: \n",
    "'''\n",
    "modem_not_found = re.search(r\".*error: couldn't find modem.*\", out, re.MULTILINE)\n",
    "if modem_not_found: print('not found')"
   ]
  },
  {
   "cell_type": "code",
   "execution_count": null,
   "metadata": {},
   "outputs": [],
   "source": [
    "import re\n",
    "\n",
    "regexp1 = '^.*BB.*$'\n",
    "line1 = 'ABBBA'\n",
    "print(re.match(regexp1, line1))\n",
    "\n",
    "regexp1 = '^.*CC.*$'\n",
    "line1 = 'ABBBA'\n",
    "print(re.match(regexp1, line1))"
   ]
  },
  {
   "cell_type": "code",
   "execution_count": null,
   "metadata": {},
   "outputs": [],
   "source": [
    "import re\n",
    "catched_frames = \\\n",
    "\"\"\"\n",
    "enabled (MIPI) - frame count 0\n",
    "enabled (MIPI) - frame count 49\n",
    "enabled (MIPI) - frame count 99\n",
    "enabled (MIPI) - frame count 149\n",
    "enabled (MIPI) - frame count 199\n",
    "enabled (MIPI) - frame count 249\n",
    "\"\"\"\n",
    "catched_frames = catched_frames.splitlines()\n",
    "\n",
    "for i in catched_frames:\n",
    "    print(i)"
   ]
  },
  {
   "cell_type": "code",
   "execution_count": null,
   "metadata": {},
   "outputs": [],
   "source": [
    "import re\n",
    "ip_regex = r\"(\\d{1,3}\\.\\d{1,3}\\.\\d{1,3}\\.\\d{1,3})\"\n",
    "# ip_regex = r\".*\"\n",
    "ip_str = \"IP4.ADDRESS[1]:                         10.144.252.140/29\"\n",
    "ip_found = re.search(ip_regex, ip_str).group(0)\n",
    "print(ip_found)"
   ]
  },
  {
   "cell_type": "code",
   "execution_count": null,
   "metadata": {},
   "outputs": [],
   "source": [
    "import re\n",
    "ip = \"IP4.ADDRESS[1]:                         10.144.252.140/29\"\n",
    "ip = re.search(r\"(\\d{1,3}\\.\\d{1,3}\\.\\d{1,3}\\.\\d{1,3})\",).group()\n",
    "print(ip)"
   ]
  },
  {
   "cell_type": "code",
   "execution_count": null,
   "metadata": {},
   "outputs": [],
   "source": [
    "import re\n",
    "ip_regex = r\"^([0-9]+(\\.|$)){4}\"\n",
    "# ip_regex = r\".*\"\n",
    "ip_str = \"IP4.ADDRESS[1]:                         10.144.252.140/29\"\n",
    "ip_found = re.search(ip_regex, ip_str).group(1)\n",
    "print(ip_found)"
   ]
  },
  {
   "cell_type": "code",
   "execution_count": null,
   "metadata": {},
   "outputs": [],
   "source": [
    "import re\n",
    "line = \"#!/bin/env python\"\n",
    "shebang_looks_similar = re.match(r\"^#.*/.*python.*$\", line) is not None\n",
    "print(\"shebang looks similar:\", line, shebang_looks_similar)\n",
    "\n",
    "line = \"asdgasdgg\"\n",
    "shebang_looks_similar = re.match(r\"^#.*/.*python.*$\", line) is not None\n",
    "print(\"shebang looks similar:\", line, shebang_looks_similar)\n",
    "\n",
    "line = \"#!/bin/env python\"\n",
    "shebang_looks_similar = re.match(r\"^#.*/.*python.*$\", line) is None\n",
    "print(\"shebang looks similar:\", line, shebang_looks_similar)\n"
   ]
  },
  {
   "cell_type": "code",
   "execution_count": null,
   "metadata": {},
   "outputs": [],
   "source": [
    "import re\n",
    "\n",
    "out = \"\"\"\\\n",
    "2022-10-13 13:08:14.894 DEBUG      -----------------------------------\n",
    "2022-10-13 13:08:14.899 DEBUG      Status   |                   state: failed\n",
    "2022-10-13 13:08:14.905 DEBUG               |           failed reason: sim-missing\n",
    "2022-10-13 13:08:14.905 DEBUG               |             power state: on\n",
    "2022-10-13 13:08:14.910 DEBUG               |          signal quality: 0% (cached)\n",
    "2022-10-13 13:08:14.916 DEBUG      -----------------------------------\n",
    "\"\"\"\n",
    "if re.search(r\".*failed reason: sim-missing.*\", out, re.MULTILINE):\n",
    "    print('Sim missing')\n",
    "\n",
    "out = \"\"\"\\\n",
    "2022-10-13 13:08:14.894 DEBUG      -----------------------------------\n",
    "2022-10-13 13:08:14.899 DEBUG      Status   |                   state: failed\n",
    "2022-10-13 13:08:14.916 DEBUG      -----------------------------------\n",
    "\"\"\"\n",
    "if re.search(r\".*failed reason: sim-missing.*\", out, re.MULTILINE) is None:\n",
    "    print('Sim is not missing')\n"
   ]
  },
  {
   "cell_type": "code",
   "execution_count": null,
   "metadata": {},
   "outputs": [],
   "source": [
    "# lambda regexp\n",
    "found_ports = list(map(lambda s: re.compile(r\"\\((\\w+)\\)\").findall(s)[0], found_ports))"
   ]
  },
  {
   "cell_type": "code",
   "execution_count": null,
   "metadata": {},
   "outputs": [],
   "source": [
    "# group regexp\n",
    "def get_iface_by_con_name(self, connection_name):\n",
    "    out = self.terminal.run(f\"nmcli con show {connection_name}\")\n",
    "    interface = re.match(r\".*GENERAL\\.IP-IFACE:\\s*(?P<iface>[\\w\\d]*)\", out)\n",
    "    if interface:\n",
    "        return interface.group(\"iface\")\n",
    "    # Method 2\n",
    "    out = self.terminal.run(\"nmcli -g GENERAL.IP-IFACE\")\n",
    "    interface = re.match(\n",
    "        rf\"^.*connected to {connection_name}(.*[\\s\\S]*)iface.(?P<iface>[\\w\\d]*)\", out\n",
    "    )\n",
    "    if interface:\n",
    "        return interface.group(\"iface\")\n",
    "    return\n",
    "\n",
    "\n",
    "def get_destination_by_url(self):\n",
    "    out = self.terminal.run(f\"nslookup {self.url}\")\n",
    "    destination = re.match(\n",
    "        r\"Name:(.*[\\s\\S]*)Address: \\s*(?P<ip>\\d{1,3}\\.\\d{1,3}\\.\\d{1,3}\\.\\d{1,3})\", out\n",
    "    )\n",
    "    if destination:\n",
    "        return destination.group(\"ip\")"
   ]
  },
  {
   "cell_type": "code",
   "execution_count": 7,
   "metadata": {},
   "outputs": [
    {
     "name": "stdout",
     "output_type": "stream",
     "text": [
      "wwan1\n"
     ]
    }
   ],
   "source": [
    "import re\n",
    "\n",
    "out = \"\"\"\n",
    "2022-11-10 18:48:35.722 DEBUG    GENERAL.NAME:                           wwan\n",
    "2022-11-10 18:48:35.728 DEBUG    GENERAL.UUID:                           76bab8a8-f068-46ed-a0d8-22d102905ec8\n",
    "2022-11-10 18:48:35.733 DEBUG    GENERAL.DEVICES:                        cdc-wdm1\n",
    "2022-11-10 18:48:35.739 DEBUG    GENERAL.IP-IFACE:                       wwan1\n",
    "2022-11-10 18:48:35.744 DEBUG    GENERAL.STATE:                          activated\n",
    "2022-11-10 18:48:35.745 DEBUG    GENERAL.DEFAULT:                        no\n",
    "2022-11-10 18:48:35.750 DEBUG    GENERAL.DEFAULT6:                       no\n",
    "2022-11-10 18:48:35.756 DEBUG    GENERAL.SPEC-OBJECT:                    --\n",
    "2022-11-10 18:48:35.756 DEBUG    GENERAL.VPN:                            no\n",
    "2022-11-10 18:48:35.766 DEBUG    GENERAL.DBUS-PATH:                      /org/freedesktop/NetworkManager/ActiveConnection/16\n",
    "2022-11-10 18:48:35.772 DEBUG    GENERAL.CON-PATH:                       /org/freedesktop/NetworkManager/Settings/13\n",
    "2022-11-10 18:48:35.778 DEBUG    GENERAL.ZONE:                           --\n",
    "2022-11-10 18:48:35.780 DEBUG    GENERAL.MASTER-PATH:                    --\n",
    "\"\"\"\n",
    "\n",
    "interface = re.search(r\".*GENERAL\\.IP-IFACE:\\s*(?P<iface>[\\w\\d]*)\", out)\n",
    "if interface:\n",
    "    interface = interface.group(\"iface\")\n",
    "print(interface)\n"
   ]
  },
  {
   "cell_type": "code",
   "execution_count": 13,
   "metadata": {},
   "outputs": [],
   "source": [
    "out = \"\"\"\n",
    "2022-11-10 18:51:52.798 DEBUG    cdc-wdm1: connected to wwan\n",
    "2022-11-10 18:51:52.799 DEBUG           \"cdc-wdm1\"\n",
    "2022-11-10 18:51:52.803 DEBUG           gsm (option, qmi_wwan), hw, iface wwan1, mtu 1500\n",
    "2022-11-10 18:51:52.809 DEBUG           inet4 10.246.244.196/29\n",
    "2022-11-10 18:51:52.809 DEBUG           route4 10.246.244.192/29\n",
    "2022-11-10 18:51:52.809 DEBUG           route4 0.0.0.0/0\n",
    "\n",
    "\"\"\"\n",
    "\n",
    "interface = re.search(\n",
    "    r\"^.*connected to wwan(.*[\\s\\S]*)iface.(?P<iface>[\\w\\d]*)\", out\n",
    ")\n",
    "if interface:\n",
    "    print(interface.group(\"iface\"))"
   ]
  },
  {
   "cell_type": "code",
   "execution_count": null,
   "metadata": {},
   "outputs": [],
   "source": []
  }
 ],
 "metadata": {
  "kernelspec": {
   "display_name": "Python 3.8.12 64-bit",
   "language": "python",
   "name": "python3"
  },
  "language_info": {
   "codemirror_mode": {
    "name": "ipython",
    "version": 3
   },
   "file_extension": ".py",
   "mimetype": "text/x-python",
   "name": "python",
   "nbconvert_exporter": "python",
   "pygments_lexer": "ipython3",
   "version": "3.8.13"
  },
  "orig_nbformat": 4,
  "vscode": {
   "interpreter": {
    "hash": "5b3ded1ccb95c1d9bd405e7b823d9e85424cde40fbb5985eb47e999ef50e15b4"
   }
  }
 },
 "nbformat": 4,
 "nbformat_minor": 2
}
