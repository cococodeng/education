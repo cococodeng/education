{
 "cells": [
  {
   "attachments": {},
   "cell_type": "markdown",
   "metadata": {},
   "source": [
    "https://www.makeuseof.com/python-built-in-functions-methods-you-should-know/"
   ]
  },
  {
   "cell_type": "code",
   "execution_count": null,
   "metadata": {},
   "outputs": [],
   "source": [
    "# 1. reduce()\n",
    "# Python's reduce() function iterates over each item in a list, or any other iterable data type, and returns a single value. It's one of the methods of the built-in functools class of Python\n",
    "\n",
    "from functools import reduce\n",
    "def add_num(a, b):\n",
    "    return a+b\n",
    "a = [1, 2, 3, 10]\n",
    "print(reduce(add_num, a))"
   ]
  },
  {
   "cell_type": "code",
   "execution_count": null,
   "metadata": {},
   "outputs": [],
   "source": [
    "from functools import reduce\n",
    "def add_str(a,b):\n",
    " return a+' '+b\n",
    "a = ['MUO', 'is', 'a', 'media', 'website']\n",
    "print(reduce(add_str, a))"
   ]
  },
  {
   "cell_type": "code",
   "execution_count": null,
   "metadata": {},
   "outputs": [],
   "source": [
    "'''2. split()\n",
    "The split() function breaks a string based on set criteria. You can use it to split a string value from a web form. Or you can even use it to count the number of words in a piece of text.\n",
    "The example code below splits a list wherever there's a space:'''\n",
    "\n",
    "words = \"column1 column2 column3\"\n",
    "words = words.split(\" \")\n",
    "print(words)"
   ]
  },
  {
   "cell_type": "code",
   "execution_count": null,
   "metadata": {},
   "outputs": [],
   "source": [
    "'''\n",
    "3. enumerate()\n",
    "The enumerate() function returns the length of an iterable and loops through its items simultaneously. Thus, while printing each item in an iterable data type, it simultaneously outputs its index.\n",
    "\n",
    "Assume that you want a user to see the list of items available in your database. You can pass them into a list and use the enumerate() function to return this as a numbered list.\n",
    "\n",
    "Here's how you can achieve this using the enumerate() method:\n",
    "'''\n",
    "fruits = [\"grape\", \"apple\", \"mango\"]\n",
    "for index, item in enumerate(fruits):\n",
    "    print(index, item)\n",
    "    \n",
    "fruits = [\"grape\", \"apple\", \"mango\"]\n",
    "for index, item in enumerate(fruits, start=1):\n",
    "    print(index, item)\n",
    "\n"
   ]
  }
 ],
 "metadata": {
  "kernelspec": {
   "display_name": ".venv",
   "language": "python",
   "name": "python3"
  },
  "language_info": {
   "codemirror_mode": {
    "name": "ipython",
    "version": 3
   },
   "file_extension": ".py",
   "mimetype": "text/x-python",
   "name": "python",
   "nbconvert_exporter": "python",
   "pygments_lexer": "ipython3",
   "version": "3.6.8 (default, Oct 26 2022, 09:13:21) \n[GCC 8.5.0 20210514 (Red Hat 8.5.0-17)]"
  },
  "orig_nbformat": 4,
  "vscode": {
   "interpreter": {
    "hash": "8b4ed5e26e8f70440c74308bf05acd586e8e1867e406c4b0c485e602cf6ee9fb"
   }
  }
 },
 "nbformat": 4,
 "nbformat_minor": 2
}
