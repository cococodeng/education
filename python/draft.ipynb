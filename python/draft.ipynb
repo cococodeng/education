{
 "cells": [
  {
   "cell_type": "code",
   "execution_count": null,
   "metadata": {},
   "outputs": [],
   "source": [
    "# nested dict\n",
    "people = {1: {'Name': 'John', 'Age': '27', 'Sex': 'Male'},\n",
    "          2: {'Name': 'Marie', 'Age': '22', 'Sex': 'Female'}}\n",
    "\n",
    "print(people[1]['Name']) # John\n",
    "print(people[2]['Name']) # Marie\n",
    "\n",
    "people = {'Human1': {'Name': 'John', 'Age': '27', 'Sex': 'Male'},\n",
    "          'Human2': {'Name': 'Marie', 'Age': '22', 'Sex': 'Female'}}\n",
    "          \n",
    "print(people['Human1']['Name']) # John\n",
    "print(people['Human2']['Name']) # Marie\n"
   ]
  },
  {
   "cell_type": "code",
   "execution_count": null,
   "metadata": {},
   "outputs": [],
   "source": [
    "str_ = 'hello'\n",
    "print(list(enumerate(str_)))"
   ]
  },
  {
   "cell_type": "code",
   "execution_count": null,
   "metadata": {},
   "outputs": [],
   "source": [
    "def brightest(*rgb_colors):\n",
    "    if not rgb_colors: return\n",
    "    brightest = rgb_colors[0]\n",
    "    for color in rgb_colors:\n",
    "        br_component = max(int(color[:2], 16),\n",
    "                           int(color[2:4], 16),\n",
    "                           int(color[4:6], 16))\n",
    "    "
   ]
  },
  {
   "cell_type": "code",
   "execution_count": null,
   "metadata": {},
   "outputs": [],
   "source": [
    "print(int('a', 16))"
   ]
  },
  {
   "cell_type": "code",
   "execution_count": null,
   "metadata": {},
   "outputs": [],
   "source": [
    "txt = \\\n",
    "\"\"\"\n",
    "enabled (MIPI) - frame count 0\n",
    "enabled (MIPI) - frame count 49\n",
    "enabled (MIPI) - frame count 99\n",
    "enabled (MIPI) - frame count 149\n",
    "enabled (MIPI) - frame count 199\n",
    "enabled (MIPI) - frame count 249\n",
    "\"\"\"\n",
    "txt = [int(letter) for letter in txt.split() if letter.isdigit()]\n",
    "print(txt)\n",
    "print(txt == sorted(txt) and sum(txt))\n",
    "\n",
    "txt = \\\n",
    "\"\"\"\n",
    "enabled (MIPI) - frame count 0\n",
    "enabled (MIPI) - frame count 0\n",
    "enabled (MIPI) - frame count 0\n",
    "enabled (MIPI) - frame count 0\n",
    "enabled (MIPI) - frame count 0\n",
    "enabled (MIPI) - frame count 0\n",
    "\"\"\"\n",
    "txt = [int(letter) for letter in txt.split() if letter.isdigit()]\n",
    "print(txt)\n",
    "print(txt == sorted(txt) and sum(txt))"
   ]
  },
  {
   "cell_type": "code",
   "execution_count": null,
   "metadata": {},
   "outputs": [],
   "source": [
    "import time\n",
    "# Замеряем время начала выполнения программы\n",
    "t_start = time.monotonic()\n",
    "# здесь код 'main()' программы\n",
    "time.sleep(1)\n",
    "# Замеряем время окончания выполнения программы\n",
    "t_stop = time.monotonic()\n",
    "# вычисляем разницу во времени\n",
    "t_run = t_stop - t_start\n",
    "t_run"
   ]
  },
  {
   "cell_type": "code",
   "execution_count": null,
   "metadata": {},
   "outputs": [],
   "source": [
    "line1 = 'gdsagadssadg_gdsagasd.py'\n",
    "line2 = 'gdsagadssadg_gdsagasd.cpp'\n",
    "\n",
    "if \"_\" in line1 and not line1.endswith('.py'):\n",
    "    print('_ in line1')\n",
    "    \n",
    "if \"_\" in line2 and not line2.endswith('.py'):\n",
    "    print('_ in non python file')\n"
   ]
  },
  {
   "cell_type": "code",
   "execution_count": null,
   "metadata": {},
   "outputs": [],
   "source": [
    "path1 = 'dgsadsg/gsda/asdgadsgdasg/asgd/gsdasgd.py'\n",
    "print(path1.split('/')[-1])\n",
    "\n",
    "path1 = 'asgd/gsdasgd.py'\n",
    "print(path1.split('/')[-1])\n",
    "\n",
    "path1 = 'gsdasgd.py'\n",
    "print(path1.split('/')[-1])\n"
   ]
  },
  {
   "cell_type": "code",
   "execution_count": null,
   "metadata": {},
   "outputs": [],
   "source": [
    "import os\n",
    "path1 = 'dgsadsg/gsda/asdgadsgdasg/asgd/gsdasgd.py'\n",
    "print(os.path.basename(path1))\n",
    "\n",
    "path1 = 'gsdasgd.py'\n",
    "print(os.path.basename(path1))\n",
    "\n",
    "path1 = 'gasdgasd//asdg///gsdagsdasgd.py'\n",
    "print(os.path.basename(path1))"
   ]
  },
  {
   "cell_type": "code",
   "execution_count": null,
   "metadata": {},
   "outputs": [],
   "source": [
    "def printargs(arg1, arg2, arg3='default3', arg4='default4'):\n",
    "    print(arg1)\n",
    "    print(arg2)\n",
    "    print(arg3)\n",
    "    print(arg4)\n",
    "    \n",
    "printargs(6,7)\n",
    "print('--')\n",
    "printargs(6,7,8,9)\n",
    "print('--')\n",
    "printargs(6,7,8)"
   ]
  },
  {
   "cell_type": "code",
   "execution_count": null,
   "metadata": {},
   "outputs": [],
   "source": [
    "ip = \"IP4.ADDRESS[1]:                         10.144.252.140/29\"\n",
    "print(ip)\n",
    "ip = ip.split()[-1]\n",
    "print(ip)"
   ]
  },
  {
   "cell_type": "code",
   "execution_count": null,
   "metadata": {},
   "outputs": [],
   "source": [
    "out = \"\"\"\\\n",
    "2022-10-13 13:08:14.894 DEBUG      -----------------------------------\n",
    "2022-10-13 13:08:14.899 DEBUG      Status   |                   state: failed\n",
    "2022-10-13 13:08:14.905 DEBUG               |           failed reason: sim-missing\n",
    "2022-10-13 13:08:14.905 DEBUG               |             power state: on\n",
    "2022-10-13 13:08:14.910 DEBUG               |          signal quality: 0% (cached)\n",
    "2022-10-13 13:08:14.916 DEBUG      -----------------------------------\n",
    "\"\"\"\n",
    "\n",
    "assert \"sim-missing\" in out\n",
    "\n",
    "out = \"\"\"\\\n",
    "2022-10-13 13:08:14.894 DEBUG      -----------------------------------\n",
    "2022-10-13 13:08:14.899 DEBUG      Status   |                   state: failed\n",
    "2022-10-13 13:08:14.916 DEBUG      -----------------------------------\n",
    "\"\"\"\n",
    "assert \"sim-missing\" not in out\n"
   ]
  },
  {
   "cell_type": "code",
   "execution_count": null,
   "metadata": {},
   "outputs": [],
   "source": [
    "# does all try commands will execute\n",
    "\n",
    "print('Begin')\n",
    "a = 2\n",
    "try:\n",
    "    print('Command-try1')\n",
    "    print('Command-try2')\n",
    "    print('Block before Exception')\n",
    "    if a == 2:\n",
    "        raise Exception(\"Getting and exception.\")\n",
    "    print('Block after Exception')\n",
    "except:\n",
    "    print('Executing Exception Block')\n",
    "finally:\n",
    "    print('End')"
   ]
  },
  {
   "cell_type": "code",
   "execution_count": null,
   "metadata": {},
   "outputs": [],
   "source": [
    "from urllib.parse import urlparse\n",
    "\n",
    "url = 'http://dist.company.com/mcom03/buildroot/2022.06/rockpi/images/Image'\n",
    "parsed_url = urlparse(url)\n",
    "print(parsed_url.netloc)\n",
    "\n",
    "\n",
    "url = 'http://asdgasdg.gdsasdggsda.asgd.gasd/mcom03/buildroot/2022.06/rockpi/images/Image'\n",
    "parsed_url = urlparse(url)\n",
    "print(parsed_url.netloc)"
   ]
  },
  {
   "cell_type": "code",
   "execution_count": null,
   "metadata": {},
   "outputs": [],
   "source": [
    "for i in range(20):\n",
    "    print(i)\n",
    "    if i == 7:\n",
    "        break\n",
    "    \n",
    "print(\"iterator=\",i,sep=\"\")\n",
    "\n",
    "    "
   ]
  },
  {
   "cell_type": "code",
   "execution_count": null,
   "metadata": {},
   "outputs": [],
   "source": [
    "def no_return():\n",
    "    a = 2\n",
    "    if a == 2:\n",
    "        return\n",
    "    \n",
    "print(no_return())\n",
    "\n",
    "def no_return():\n",
    "    a = 2\n",
    "    if a == 3:\n",
    "        return\n",
    "    \n",
    "print(no_return())\n",
    "\n",
    "def no_return():\n",
    "    pass\n",
    "\n",
    "print(no_return())"
   ]
  }
 ],
 "metadata": {
  "kernelspec": {
   "display_name": "Python 3.8.12 64-bit",
   "language": "python",
   "name": "python3"
  },
  "language_info": {
   "codemirror_mode": {
    "name": "ipython",
    "version": 3
   },
   "file_extension": ".py",
   "mimetype": "text/x-python",
   "name": "python",
   "nbconvert_exporter": "python",
   "pygments_lexer": "ipython3",
   "version": "3.8.12"
  },
  "orig_nbformat": 4,
  "vscode": {
   "interpreter": {
    "hash": "5b3ded1ccb95c1d9bd405e7b823d9e85424cde40fbb5985eb47e999ef50e15b4"
   }
  }
 },
 "nbformat": 4,
 "nbformat_minor": 2
}
