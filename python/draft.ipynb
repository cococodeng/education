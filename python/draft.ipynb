{
 "cells": [
  {
   "cell_type": "code",
   "execution_count": null,
   "metadata": {},
   "outputs": [],
   "source": [
    "# nested dict\n",
    "people = {1: {'Name': 'John', 'Age': '27', 'Sex': 'Male'},\n",
    "          2: {'Name': 'Marie', 'Age': '22', 'Sex': 'Female'}}\n",
    "\n",
    "print(people[1]['Name']) # John\n",
    "print(people[2]['Name']) # Marie\n",
    "\n",
    "people = {'Human1': {'Name': 'John', 'Age': '27', 'Sex': 'Male'},\n",
    "          'Human2': {'Name': 'Marie', 'Age': '22', 'Sex': 'Female'}}\n",
    "          \n",
    "print(people['Human1']['Name']) # John\n",
    "print(people['Human2']['Name']) # Marie\n"
   ]
  },
  {
   "cell_type": "code",
   "execution_count": null,
   "metadata": {},
   "outputs": [],
   "source": [
    "# Flt Psw\n",
    "\n",
    "# [password, isTried, correctLetters]\n",
    "\n",
    "# CORR PASS = 'OZZIE'\n",
    "\n",
    "passwords = [\n",
    "    ['FEZZY', '', 0],\n",
    "    ['FIZZY', '', 0],\n",
    "    ['POZZY', '', 0],\n",
    "    ['FRIZZ', '', 0],\n",
    "    ['OZZIE', '', 0],\n",
    "    ['PIZZA', '', 0],\n",
    "    ]\n",
    "for password in passwords: password[0] = password[0].upper()\n",
    "possible_passwords = []\n",
    "numb_tries = 4\n",
    "### To do string same letters checker\n",
    "\n",
    "\n",
    "guess = 'POZZY'\n",
    "#       'OZZIE'\n",
    "corr_posns = 1\n",
    "\n",
    "# Return same letters\n",
    "def (str1, str2):\n",
    "    counter = 0\n",
    "    \n",
    "    \n",
    "\n",
    "for password in passwords:\n",
    "    if password[0] == guess:\n",
    "        password[1] = 'tried'\n",
    "        password[2] = corr_posns\n",
    "\n",
    "for password in passwords: print(password, end='\\n')\n",
    "\n",
    "\n",
    "#### Todo : create square matrix of passwords letters intersection"
   ]
  },
  {
   "cell_type": "code",
   "execution_count": 1,
   "metadata": {},
   "outputs": [
    {
     "name": "stdout",
     "output_type": "stream",
     "text": [
      "[(0, 'h'), (1, 'e'), (2, 'l'), (3, 'l'), (4, 'o')]\n"
     ]
    }
   ],
   "source": [
    "str_ = 'hello'\n",
    "print(list(enumerate(str_)))"
   ]
  },
  {
   "cell_type": "code",
   "execution_count": 7,
   "metadata": {},
   "outputs": [],
   "source": [
    "def brightest(*rgb_colors):\n",
    "    if not rgb_colors: return\n",
    "    brightest = rgb_colors[0]\n",
    "    for color in rgb_colors:\n",
    "        br_component = max(int(color[:2], 16),\n",
    "                           int(color[2:4], 16),\n",
    "                           int(color[4:6], 16))\n",
    "    "
   ]
  },
  {
   "cell_type": "code",
   "execution_count": 6,
   "metadata": {},
   "outputs": [
    {
     "name": "stdout",
     "output_type": "stream",
     "text": [
      "10\n"
     ]
    }
   ],
   "source": [
    "print(int('a', 16))"
   ]
  }
 ],
 "metadata": {
  "kernelspec": {
   "display_name": "Python 3.8.12 ('.venv': venv)",
   "language": "python",
   "name": "python3"
  },
  "language_info": {
   "codemirror_mode": {
    "name": "ipython",
    "version": 3
   },
   "file_extension": ".py",
   "mimetype": "text/x-python",
   "name": "python",
   "nbconvert_exporter": "python",
   "pygments_lexer": "ipython3",
   "version": "3.8.12"
  },
  "orig_nbformat": 4,
  "vscode": {
   "interpreter": {
    "hash": "c70dd07aa38cd22486787d551d0c9e70f43e724fdffa84eae4d98c900b2535ea"
   }
  }
 },
 "nbformat": 4,
 "nbformat_minor": 2
}
