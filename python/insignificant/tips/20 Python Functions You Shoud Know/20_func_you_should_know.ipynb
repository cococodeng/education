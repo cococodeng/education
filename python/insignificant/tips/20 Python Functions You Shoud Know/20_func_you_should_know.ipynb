{
 "cells": [
  {
   "attachments": {},
   "cell_type": "markdown",
   "metadata": {},
   "source": [
    "https://www.makeuseof.com/python-built-in-functions-methods-you-should-know/"
   ]
  },
  {
   "cell_type": "code",
   "execution_count": null,
   "metadata": {},
   "outputs": [],
   "source": [
    "# 1. reduce()\n",
    "# Python's reduce() function iterates over each item in a list, or any other iterable data type, and returns a single value. It's one of the methods of the built-in functools class of Python\n",
    "\n",
    "from functools import reduce\n",
    "def add_num(a, b):\n",
    "    return a+b\n",
    "a = [1, 2, 3, 10]\n",
    "print(reduce(add_num, a))"
   ]
  },
  {
   "cell_type": "code",
   "execution_count": null,
   "metadata": {},
   "outputs": [],
   "source": [
    "from functools import reduce\n",
    "def add_str(a,b):\n",
    " return a+' '+b\n",
    "a = ['MUO', 'is', 'a', 'media', 'website']\n",
    "print(reduce(add_str, a))"
   ]
  },
  {
   "cell_type": "code",
   "execution_count": null,
   "metadata": {},
   "outputs": [],
   "source": [
    "'''2. split()\n",
    "The split() function breaks a string based on set criteria. You can use it to split a string value from a web form. Or you can even use it to count the number of words in a piece of text.\n",
    "The example code below splits a list wherever there's a space:'''\n",
    "\n",
    "words = \"column1 column2 column3\"\n",
    "words = words.split(\" \")\n",
    "print(words)"
   ]
  },
  {
   "cell_type": "code",
   "execution_count": null,
   "metadata": {},
   "outputs": [],
   "source": [
    "'''\n",
    "3. enumerate()\n",
    "The enumerate() function returns the length of an iterable and loops through its items simultaneously. Thus, while printing each item in an iterable data type, it simultaneously outputs its index.\n",
    "\n",
    "Assume that you want a user to see the list of items available in your database. You can pass them into a list and use the enumerate() function to return this as a numbered list.\n",
    "\n",
    "Here's how you can achieve this using the enumerate() method:\n",
    "'''\n",
    "fruits = [\"grape\", \"apple\", \"mango\"]\n",
    "for index, item in enumerate(fruits):\n",
    "    print(index, item)\n",
    "    \n",
    "fruits = [\"grape\", \"apple\", \"mango\"]\n",
    "for index, item in enumerate(fruits, start=1):\n",
    "    print(index, item)\n",
    "\n"
   ]
  },
  {
   "cell_type": "code",
   "execution_count": null,
   "metadata": {},
   "outputs": [],
   "source": [
    "'''\n",
    "4. eval()\n",
    "Python's eval() function lets you perform mathematical operations on integers or floats, even in their string forms. It's often helpful if a mathematical calculation is in a string format.\n",
    "\n",
    "Here's how it works:\n",
    "'''\n",
    "g = \"(4 * 5)/4\"\n",
    "d = eval(g)\n",
    "print(d)"
   ]
  },
  {
   "cell_type": "code",
   "execution_count": null,
   "metadata": {},
   "outputs": [],
   "source": [
    "'''\n",
    "5. round()\n",
    "You can round up the result of a mathematical operation to a specific number of significant figures using round():\n",
    "'''\n",
    "\n",
    "raw_average = (4+5+7/3)\n",
    "rounded_average=round(raw_average, 2)\n",
    "print(\"The raw average is:\", raw_average)\n",
    "print(\"The rounded average is:\", rounded_average)"
   ]
  },
  {
   "cell_type": "code",
   "execution_count": null,
   "metadata": {},
   "outputs": [],
   "source": [
    "'''\n",
    "6. max()\n",
    "The max() function returns the highest ranked item in an iterable. Be careful not to confuse this with the most frequently occurring value, though.\n",
    "\n",
    "Let's print the highest ranked value in the dictionary below using the max() function:\n",
    "'''\n",
    "b = {1:\"grape\", 2:\"apple\", 3:\"applesss\", 4:\"zebra\", 5:\"mango\"}\n",
    "print(max(b.values()))"
   ]
  },
  {
   "cell_type": "code",
   "execution_count": null,
   "metadata": {},
   "outputs": [],
   "source": [
    "'''\n",
    "7. min()\n",
    "The min() function does the opposite of what max() does:\n",
    "'''\n",
    "fruits = [\"grape\", \"apple\", \"applesss\", \"zebra\", \"mango\"]\n",
    "b = {1:\"grape\", 2:\"apple\", 3:\"applesss\", 4:\"zebra\", 5:\"mango\"}\n",
    "a = [1, 65, 7, 9]\n",
    "print(min(a))\n",
    "print(min(b.values()))"
   ]
  },
  {
   "cell_type": "code",
   "execution_count": null,
   "metadata": {},
   "outputs": [],
   "source": [
    "'''\n",
    "8. map()\n",
    "Like reduce(), the map() function lets you iterate over each item in an iterable. However, instead of producing a single result, map() operates on each item independently.\n",
    "\n",
    "Ultimately, you can perform mathematical operations on two or more lists using the map() function. You can even use it to manipulate an array containing any data type.\n",
    "\n",
    "Here's how to find the combined sum of two lists containing integers using the map() function:\n",
    "'''\n",
    "b = [1, 3, 4, 6]\n",
    "a = [1, 65, 7, 9]\n",
    "\n",
    "# Declare a separate function to handle the addition\n",
    "def add(a, b):\n",
    "    return a+b\n",
    "\n",
    "# Pass the function and the two lists into the built-in map() function\n",
    "a = sum(map(add, b, a))\n",
    "print(a) "
   ]
  },
  {
   "cell_type": "code",
   "execution_count": null,
   "metadata": {},
   "outputs": [],
   "source": [
    "'''\n",
    "9. getattr()\n",
    "Python's getattr() returns the attribute of an object. It accepts two parameters: the class and the target attribute name.\n",
    "\n",
    "Here's an example:\n",
    "'''\n",
    "class ty:\n",
    "    def __init__(self, number, name):\n",
    "        self.number = number\n",
    "        self.name = name\n",
    "\n",
    "a = ty(5*8, \"Idowu\")\n",
    "\n",
    "b = getattr(a, 'name')\n",
    "print(b)"
   ]
  },
  {
   "cell_type": "code",
   "execution_count": null,
   "metadata": {},
   "outputs": [],
   "source": [
    "'''\n",
    "10. append()\n",
    "Whether you're delving into web development or machine learning with Python, append() is another Python method you'll often need. It works by writing new data into a list without overwriting its original content.\n",
    "'''\n",
    "nums = [1, 2, 3]\n",
    "appendedlist = [2, 4]\n",
    "for i in nums:\n",
    "    a = i*3\n",
    "    appendedlist.append(a)\n",
    "print(appendedlist)"
   ]
  },
  {
   "cell_type": "code",
   "execution_count": null,
   "metadata": {},
   "outputs": [],
   "source": [
    "'''\n",
    "11. range()\n",
    "You might already be familiar with range() in Python. It's handy if you want to create a list of integers ranging between specific numbers without explicitly writing them out.\n",
    "\n",
    "Let's create a list of the odd numbers between one and five using this function:\n",
    "'''\n",
    "a = range(1, 6)\n",
    "b = []\n",
    "for i in a:\n",
    "    if i%2!=0:\n",
    "        b.append(i)\n",
    "print(b)"
   ]
  },
  {
   "cell_type": "code",
   "execution_count": null,
   "metadata": {},
   "outputs": [],
   "source": [
    "'''\n",
    "12. slice()\n",
    "Although the slice() function and the traditional slice method give similar outputs, using slice() in your code can make it more readable.\n",
    "\n",
    "You can slice any mutable iterable using the slice method:\n",
    "'''\n",
    "b = [1, 3, 4, 6, 7, 10]\n",
    "st = \"Python tutorial\"\n",
    "sliceportion = slice(0, 4)\n",
    "\n",
    "print(b[sliceportion])\n",
    "print(st[sliceportion])\n",
    "\n",
    "print(b[0:4])\n",
    "print(st[0:4])"
   ]
  },
  {
   "cell_type": "code",
   "execution_count": null,
   "metadata": {},
   "outputs": [],
   "source": [
    "'''\n",
    "13. format()\n",
    "The format() method lets you manipulate your string output. Here's how it works:\n",
    "'''\n",
    "\n",
    "multiple = 5*2\n",
    "multiple2 = 7*2\n",
    "a = \"{} is the multiple of 5 and 2, but {} is for 7 and 2\"\n",
    "a = a.format(multiple, multiple2)\n",
    "print(a)"
   ]
  },
  {
   "cell_type": "code",
   "execution_count": null,
   "metadata": {},
   "outputs": [],
   "source": [
    "'''\n",
    "14. strip()\n",
    "Python's strip() removes leading characters from a string. It repeatedly removes the first character from the string, if it matches any of the supplied characters.\n",
    "\n",
    "If you don't specify a character, strip removes all leading whitespace characters from the string.\n",
    "\n",
    "The example code below removes the letter P and the space before it from the string:\n",
    "'''\n",
    "st = \" Python tutorial\"\n",
    "st = st.strip(\" P\")\n",
    "print(st)"
   ]
  },
  {
   "cell_type": "code",
   "execution_count": null,
   "metadata": {},
   "outputs": [],
   "source": [
    "'''\n",
    "15. abs()\n",
    "Do you want to neutralize negative mathematical outputs? Then try out the abs() function. It can come in handy in computational programming or data science operations.\n",
    "\n",
    "See the example below for how it works:\n",
    "'''\n",
    "neg = 4 - 9\n",
    "pos = abs(neg)\n",
    "print(pos)"
   ]
  },
  {
   "cell_type": "code",
   "execution_count": null,
   "metadata": {},
   "outputs": [],
   "source": [
    "'''\n",
    "16. upper()\n",
    "As the name implies, the upper() method converts string characters into their uppercase equivalent:\n",
    "'''\n",
    "y = \"Python tutorial\"\n",
    "y = y.upper()\n",
    "print(y)"
   ]
  },
  {
   "cell_type": "code",
   "execution_count": null,
   "metadata": {},
   "outputs": [],
   "source": [
    "'''\n",
    "17. lower()\n",
    "You guessed right! Python's lower() is the opposite of upper(). So it converts string characters to lowercases:\n",
    "'''\n",
    "y = \"PYTHON TUTORIAL\"\n",
    "y = y.lower()\n",
    "print(y)\n"
   ]
  },
  {
   "cell_type": "code",
   "execution_count": null,
   "metadata": {},
   "outputs": [],
   "source": [
    "'''\n",
    "18. sorted()\n",
    "The sorted() function works by making a list from an iterable and then arranging its values in descending or ascending order:\n",
    "'''\n",
    "f = {1, 4, 9, 3} # Try it on a set\n",
    "sort = {\"G\":8, \"A\":5, \"B\":9, \"F\":3} # Try it on a dictionary\n",
    "print(sorted(f, reverse=True)) # Descending\n",
    "print(sorted(sort.values())) # Ascending (default)"
   ]
  },
  {
   "cell_type": "code",
   "execution_count": null,
   "metadata": {},
   "outputs": [],
   "source": [
    "'''\n",
    "19. join()\n",
    "The join() function lets you merge string items in a list.\n",
    "\n",
    "You only need to specify a delimiter and the target list to use it:\n",
    "'''\n",
    "a = [\"Python\", \"tutorial\", \"on\", \"MUO\"]\n",
    "a = \" \".join(a)\n",
    "print(a)"
   ]
  },
  {
   "cell_type": "code",
   "execution_count": null,
   "metadata": {},
   "outputs": [],
   "source": [
    "'''\n",
    "20. replace()\n",
    "Python's replace() method lets you replace some parts of a string with another character. It's often handy in data science, especially during data cleaning.\n",
    "\n",
    "The replace() method accepts two parameters: the replaced character and the one you'll like to replace it with.\n",
    "\n",
    "Here's how it works:\n",
    "'''\n",
    "columns = [\"Cart_name\", \"First_name\", \"Last_name\"]\n",
    "for i in columns:\n",
    "    i = i.replace(\"_\", \" \")\n",
    "    print(i)\n"
   ]
  }
 ],
 "metadata": {
  "kernelspec": {
   "display_name": "Python 3",
   "language": "python",
   "name": "python3"
  },
  "language_info": {
   "codemirror_mode": {
    "name": "ipython",
    "version": 3
   },
   "file_extension": ".py",
   "mimetype": "text/x-python",
   "name": "python",
   "nbconvert_exporter": "python",
   "pygments_lexer": "ipython3",
   "version": "3.8.13"
  },
  "orig_nbformat": 4,
  "vscode": {
   "interpreter": {
    "hash": "5b3ded1ccb95c1d9bd405e7b823d9e85424cde40fbb5985eb47e999ef50e15b4"
   }
  }
 },
 "nbformat": 4,
 "nbformat_minor": 2
}
