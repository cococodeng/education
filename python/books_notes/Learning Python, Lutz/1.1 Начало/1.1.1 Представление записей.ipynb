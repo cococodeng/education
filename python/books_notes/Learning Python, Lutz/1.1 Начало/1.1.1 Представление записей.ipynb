{
 "cells": [
  {
   "cell_type": "code",
   "execution_count": null,
   "metadata": {},
   "outputs": [],
   "source": [
    "bob = [\"Bob Smith\", 42, 30000, \"software\"]\n",
    "sue = [\"Sue Jones\", 45, 40000, \"hardware\"]\n",
    "\n",
    "print(bob[0], sue[2])\n",
    "print(bob[0].split()[-1], sue[2])\n",
    "sue[2]*=1.25\n",
    "print(bob[0].split()[-1], sue[2])"
   ]
  },
  {
   "cell_type": "code",
   "execution_count": null,
   "metadata": {},
   "outputs": [],
   "source": [
    "bob = [\"Bob Smith\", 42, 30000, \"software\"]\n",
    "sue = [\"Sue Jones\", 45, 40000, \"hardware\"]\n",
    "\n",
    "people = [bob, sue]\n",
    "\n",
    "for person in people:\n",
    "    print(person)\n",
    "\n",
    "for person in people:\n",
    "    print(person[0].split()[-1])\n",
    "    person[2] *= 1.20\n",
    "\n",
    "for person in people: print(person[2])\n"
   ]
  },
  {
   "cell_type": "code",
   "execution_count": null,
   "metadata": {},
   "outputs": [],
   "source": [
    "\n",
    "\n"
   ]
  }
 ],
 "metadata": {
  "kernelspec": {
   "display_name": "Python 3.8.12 64-bit",
   "language": "python",
   "name": "python3"
  },
  "language_info": {
   "codemirror_mode": {
    "name": "ipython",
    "version": 3
   },
   "file_extension": ".py",
   "mimetype": "text/x-python",
   "name": "python",
   "nbconvert_exporter": "python",
   "pygments_lexer": "ipython3",
   "version": "3.8.12"
  },
  "orig_nbformat": 4,
  "vscode": {
   "interpreter": {
    "hash": "5b3ded1ccb95c1d9bd405e7b823d9e85424cde40fbb5985eb47e999ef50e15b4"
   }
  }
 },
 "nbformat": 4,
 "nbformat_minor": 2
}
