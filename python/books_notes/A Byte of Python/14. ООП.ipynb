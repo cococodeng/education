{
 "cells": [
  {
   "cell_type": "markdown",
   "metadata": {},
   "source": [
    "# OOP"
   ]
  },
  {
   "cell_type": "code",
   "execution_count": null,
   "metadata": {},
   "outputs": [],
   "source": [
    "# self\n",
    "class Person:\n",
    "    pass # empty block\n",
    "\n",
    "p = Person()\n",
    "print(p)"
   ]
  },
  {
   "cell_type": "code",
   "execution_count": null,
   "metadata": {},
   "outputs": [],
   "source": [
    "class Person:\n",
    "    def  sayHi(self):\n",
    "        print('Hello! How are You?')\n",
    "\n",
    "p = Person()\n",
    "p.sayHi()\n"
   ]
  },
  {
   "cell_type": "code",
   "execution_count": null,
   "metadata": {},
   "outputs": [],
   "source": [
    "class Person:\n",
    "    def __init__(self, name):\n",
    "        self.name = name\n",
    "\n",
    "    def sayHi(self):\n",
    "        print(f'Hello, my name is {self.name}')\n",
    "\n",
    "p = Person('Alex')\n",
    "p.sayHi()"
   ]
  },
  {
   "cell_type": "code",
   "execution_count": null,
   "metadata": {},
   "outputs": [],
   "source": [
    "class Robot:\n",
    "    '''Represents a robot with the  name'''\n",
    "    # class variable that counts objects\n",
    "    population = 0\n",
    "\n",
    "    def __init__(self, name):\n",
    "        self.name = name\n",
    "        print('(Initialization {0})'.format(self.name))\n",
    "        Robot.population += 1\n",
    "\n",
    "    def __del__(self):\n",
    "        '''Im dying'''\n",
    "        print('{0} is being destroyed!'.format(self.name))\n",
    "        Robot.population -= 1\n",
    "\n",
    "        if Robot.population == 0:\n",
    "            print('{0} was the last one!'.format(self.name))\n",
    "        else:\n",
    "            print('There are {0:d} robots left.'.format(Robot.population))\n",
    "\n",
    "    def sayHi(self):\n",
    "        print('Hello! My name is {0}!'.format(self.name))\n",
    "\n",
    "    def howMany():\n",
    "        print('We have {0:d} robots'.format(Robot.population))\n",
    "\n",
    "    howMany = staticmethod(howMany)\n",
    "\n",
    "print('Printing DOC:')\n",
    "print(Robot.__doc__)\n",
    "print('   ')\n",
    "\n",
    "droid1 = Robot('C3P0')\n",
    "droid1.sayHi()\n",
    "\n",
    "droid2 = Robot('R2D2')\n",
    "droid2.sayHi()\n",
    "\n",
    "Robot.howMany()\n",
    "\n",
    "print('..lets destroy robots!')\n",
    "\n",
    "del droid1\n",
    "del droid2\n",
    "\n",
    "Robot.howMany()"
   ]
  },
  {
   "cell_type": "markdown",
   "metadata": {},
   "source": [
    "### Примечание для программистов на C++/Java/C#\n",
    "В Python все члены класса (включая данные) являются публичными (public), а все методы\n",
    "– виртуальными (virtual).\n",
    "\n",
    "Исключение: Если имя переменной начинается с двойного подчёркивания, как, например,\n",
    "`__privatevar`, Python делает эту переменную приватной (private). Поэтому принято имя\n",
    "любой переменной, которая должна использоваться только внутри класса или объекта,\n",
    "начинать с подчёркивания; все же остальные имена являются публичными, и могут ис-\n",
    "пользоваться в других классах/объектах. Помните, что это лишь традиция, и Python вовсе\n",
    "не обязывает делать именно так (кроме двойного подчёркивания)."
   ]
  },
  {
   "cell_type": "markdown",
   "metadata": {},
   "source": [
    "# 14.6 Наследование"
   ]
  },
  {
   "cell_type": "code",
   "execution_count": null,
   "metadata": {},
   "outputs": [],
   "source": [
    "class SchoolMember:\n",
    "    '''Represents any person in school'''\n",
    "    \n",
    "    def __init__(self, name, age):\n",
    "        self.name = name\n",
    "        self.age = age\n",
    "        print('(School member: {0} was created)'.format(self.name))\n",
    "    def tell(self):\n",
    "        '''Print information'''\n",
    "        print('Name:\"{0}\" Age:\"{1}\"'.format(self.name, self.age), end=\" \")\n",
    "\n",
    "class Teacher(SchoolMember):\n",
    "    '''Represents a teacher'''\n",
    "    def __init__(self, name, age, salary):\n",
    "        SchoolMember.__init__(self, name, age)\n",
    "        self.salary = salary\n",
    "        print('(Teacher: {0} was created)'.format(self.name))\n",
    "    \n",
    "    def tell(self):\n",
    "        SchoolMember.tell(self)\n",
    "        print('Salary: \"{0:d}\"'.format(self.salary))\n",
    "    \n",
    "class Student(SchoolMember):\n",
    "    '''Represents a student'''\n",
    "    def __init__(self, name, age, marks):\n",
    "        SchoolMember.__init__(self, name, age)\n",
    "        self.marks = marks\n",
    "        print('(Student {0} was created)'.format(self.name))\n",
    "\n",
    "    def tell(self):\n",
    "        SchoolMember.tell(self)\n",
    "        print('Marks: \"{0:d}\"'.format(self.marks))\n",
    "\n",
    "t = Teacher('Mrs. Dundu', 40, 30000)\n",
    "s = Student('Alex', 26, 75)\n",
    "m = SchoolMember('John', 25) # nor studetn or teacher\n",
    "\n",
    "\n",
    "print()\n",
    "\n",
    "members = [t, s, m]\n",
    "for member in members:\n",
    "    member.tell()"
   ]
  },
  {
   "cell_type": "markdown",
   "metadata": {},
   "source": [
    "# 14.7 Метаклассы"
   ]
  },
  {
   "cell_type": "markdown",
   "metadata": {},
   "source": [
    "```\n",
    "В обширной теме объектно-ориентированного программирования существует ещё много\n",
    "всего, но мы лишь слегка коснёмся некоторых концепций, чтобы вы просто знали об их\n",
    "существовании.\n",
    "Точно так же, как классы используются для создания объектов, можно использовать ме-\n",
    "таклассы для создания классов. Метаклассы существуют для изменения или добавления\n",
    "нового поведения в классы.\n",
    "Давайте рассмотрим пример. Допустим, мы хотим быть уверены, что мы всегда создаём\n",
    "исключительно экземпляры подклассов класса SchoolMember, и не создаём экземпляры\n",
    "самого класса SchoolMember.\n",
    "Для достижения этой цели мы можем использовать концепцию под названием «абстракт-\n",
    "ные базовые классы». Это означает, что такой класс абстрактен, т.е. является лишь некой\n",
    "концепцией, не предназначенной для использования в качестве реального класса.\n",
    "Мы можем объявить наш класс как абстрактный базовый класс при помощи встроенного\n",
    "метакласса по имени ABCMeta.\n",
    "```"
   ]
  },
  {
   "cell_type": "code",
   "execution_count": null,
   "metadata": {},
   "outputs": [],
   "source": [
    "from abc import *\n",
    "\n",
    "class SchoolMember(metaclass=ABCMeta):\n",
    "    '''Represents any person in school.'''\n",
    "    def __init__(self, name, age):\n",
    "        self.name = name\n",
    "        self.age = age\n",
    "        print('(School member: {0} is created.)'.format(self.name))\n",
    "    @abstractmethod\n",
    "    def tell(self):\n",
    "        '''Print information'''\n",
    "        print('Name:\"{0}\" Age\"{1}\"'.format(self.name, self.age), end=\" \")\n",
    "\n",
    "class Teacher(SchoolMember):\n",
    "    '''Represents a teacher'''\n",
    "    def __init__(self, name, age, salary):\n",
    "        SchoolMember.__init__(self, name, age)\n",
    "        self.salary = salary\n",
    "        print('(Teacher: {0} is created.)'.format(self.name))\n",
    "\n",
    "    def tell(self):\n",
    "        SchoolMember.tell(self)\n",
    "        print('Salary: \"{0:d}\"'.format(self.salary))\n",
    "\n",
    "class Student(SchoolMember):\n",
    "    '''Represents a student'''\n",
    "    def __init__(self, name, age, marks):\n",
    "        SchoolMember.__init__(self, name, age)\n",
    "        self.marks = marks\n",
    "        print('(Student {0} is created.)'.format(self.name))\n",
    "\n",
    "    def tell(self):\n",
    "        SchoolMember.tell(self)\n",
    "        print('Marks: \"{0:d}\"'.format(self.marks))\n",
    "\n",
    "t = Teacher('Mrs. Dundu', 40, 30000)\n",
    "s = Student('Alex', 25, 75)\n",
    "\n",
    "# m = SchoolMember('John', 22)\n",
    "\n",
    "print()\n",
    "\n",
    "members = [t, s]\n",
    "for member in members:\n",
    "    member.tell()\n"
   ]
  }
 ],
 "metadata": {
  "interpreter": {
   "hash": "79c6ef728ce7125e0e08fa11deecfeee6951f7e2fee2b2299b8a48302b35c054"
  },
  "kernelspec": {
   "display_name": "Python 3.9.10 ('.venv': venv)",
   "language": "python",
   "name": "python3"
  },
  "language_info": {
   "codemirror_mode": {
    "name": "ipython",
    "version": 3
   },
   "file_extension": ".py",
   "mimetype": "text/x-python",
   "name": "python",
   "nbconvert_exporter": "python",
   "pygments_lexer": "ipython3",
   "version": "3.9.10"
  },
  "orig_nbformat": 4
 },
 "nbformat": 4,
 "nbformat_minor": 2
}
