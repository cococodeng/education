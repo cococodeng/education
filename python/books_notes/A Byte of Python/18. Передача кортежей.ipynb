{
 "cells": [
  {
   "cell_type": "code",
   "execution_count": null,
   "metadata": {},
   "outputs": [],
   "source": [
    "# 18.1 Передача кортежей\n",
    "def get_error_details():\n",
    "    return (2, 'описание ошибки №2')\n",
    "\n",
    "errnum, errstr = get_error_details()\n",
    "print(errnum)\n",
    "print(errstr)"
   ]
  },
  {
   "cell_type": "code",
   "execution_count": null,
   "metadata": {},
   "outputs": [],
   "source": [
    "a, *b = [1, 2, 3, 4]\n",
    "print(a)\n",
    "print(b)"
   ]
  },
  {
   "cell_type": "code",
   "execution_count": null,
   "metadata": {},
   "outputs": [],
   "source": [
    "a = 5; b = 8\n",
    "print(a, b)\n",
    "a, b = b, a\n",
    "print(a, b)"
   ]
  },
  {
   "cell_type": "markdown",
   "metadata": {},
   "source": [
    "# 18.2 Специальные методы\n",
    "\n",
    "__init__(self, ...)\n",
    "\n",
    "Вызывается прямо перед тем, как вновь созданный объект возвращается для использования.\n",
    "\n",
    "__del__(self)\n",
    "\n",
    "Вызывается перед уничтожением объекта\n",
    "\n",
    "__str__(self)\n",
    "\n",
    "Вызывается при использовании функции print или str().\n",
    "\n",
    "__lt__(self, other)\n",
    "\n",
    "Вызывается, когда используется оператор \"меньше\" (<).\n",
    "\n",
    "__getitem__(self, key)\n",
    "\n",
    "Вызывается при использовании оператора индексирвоания x[индекс].\n",
    "\n",
    "__len__(self)\n",
    "\n",
    "Вызывается при обращении к встроенной функции len() для объекта-последовательности.\n"
   ]
  },
  {
   "cell_type": "code",
   "execution_count": null,
   "metadata": {},
   "outputs": [],
   "source": [
    "# 18.3 Блоки в одно выражение\n",
    "\n",
    "flag = True\n",
    "if flag: print('Да')"
   ]
  },
  {
   "cell_type": "code",
   "execution_count": null,
   "metadata": {},
   "outputs": [],
   "source": [
    "# 18.4 lambda-формы\n",
    "\n",
    "points = [ {'x' : 2, 'y' : 3}, {'x' : 4, 'y' : 1} ]\n",
    "points.sort(key=lambda i : i['y'])\n",
    "print(points)"
   ]
  },
  {
   "cell_type": "code",
   "execution_count": null,
   "metadata": {},
   "outputs": [],
   "source": [
    "# 18.5 Генераторы списков\n",
    "\n",
    "listone = [2, 3, 4]\n",
    "listtwo = [2*i for i in listone if i > 2]\n",
    "print(listtwo)"
   ]
  },
  {
   "cell_type": "code",
   "execution_count": null,
   "metadata": {},
   "outputs": [],
   "source": [
    "# 18.6 Передача кортежей и словарей в функции\n",
    "\n",
    "def powersum(power, *args):\n",
    "    '''Возвращает сумму аргументов, возведённых в указанную степень.'''\n",
    "    total = 0\n",
    "    for i in args:\n",
    "        total += pow(i, power)\n",
    "    return total\n",
    "\n",
    "powersum(2, 3, 4)\n",
    "\n",
    "powersum(2, 10)"
   ]
  },
  {
   "cell_type": "code",
   "execution_count": null,
   "metadata": {},
   "outputs": [],
   "source": [
    "# 18.7 exec и eval\n",
    "\n",
    "exec('print(\"Hello World\")')\n"
   ]
  },
  {
   "cell_type": "code",
   "execution_count": null,
   "metadata": {},
   "outputs": [],
   "source": [
    "eval('2 * 3')"
   ]
  },
  {
   "cell_type": "code",
   "execution_count": null,
   "metadata": {},
   "outputs": [],
   "source": [
    "# 18.8 Оператор assert\n",
    "\n",
    "mylist = ['item']\n",
    "assert len(mylist) >= 1\n",
    "mylist.pop()\n",
    "mylist\n",
    "assert len(mylist) >= 1\n"
   ]
  },
  {
   "cell_type": "code",
   "execution_count": null,
   "metadata": {},
   "outputs": [],
   "source": [
    "# 18.9 Функция repr\n",
    "i = []\n",
    "i.append('item')\n",
    "repr(i)"
   ]
  },
  {
   "cell_type": "code",
   "execution_count": null,
   "metadata": {},
   "outputs": [],
   "source": [
    "i = []\n",
    "i.append('item')\n",
    "eval(repr(i))"
   ]
  },
  {
   "cell_type": "code",
   "execution_count": null,
   "metadata": {},
   "outputs": [],
   "source": [
    "i = []\n",
    "i.append('item')\n",
    "eval(repr(i)) == i"
   ]
  },
  {
   "cell_type": "code",
   "execution_count": null,
   "metadata": {},
   "outputs": [],
   "source": [
    "# 18.10 Управляющие последовательности\n",
    "# print('What's your name?')\n",
    "print('What\\'s your name?')\n",
    "print('\\\\')\n",
    "print('\\\\\\\\')\n",
    "print('\\\\\\\\\\\\\\\\\\\\\\\\')\n",
    "print('First line\\nSecond Line')\n",
    "print('\\\\\\\\\\\\\\\\\\\\\\\\')\n",
    "print('First lineXXXXXX\\rSecond Line')\n",
    "print('First word\\tSecond Word')\n",
    "print('First sentence. \\\n",
    "Second sentence.')"
   ]
  },
  {
   "cell_type": "code",
   "execution_count": null,
   "metadata": {},
   "outputs": [],
   "source": [
    "# 18.11 Необрабатываемые строки\n",
    "print('First line\\nSecond Line')\n",
    "print(r'First line\\nSecond Line')\n",
    "print(r'\\\\\\n\\\\n\\\\\\n\\n\\n\\\\') # Нужно не экранировать закрывающую кавычку!\n",
    "# print(r'\\\\\\n\\\\n\\\\\\n\\n\\n\\') # Нужно не экранировать закрывающую кавычку!\n",
    "print(r'test''\\\\') # Бэкслеш в конце строки можно добавить вот так"
   ]
  }
 ],
 "metadata": {
  "kernelspec": {
   "display_name": "Python 3.8.12 64-bit",
   "language": "python",
   "name": "python3"
  },
  "language_info": {
   "codemirror_mode": {
    "name": "ipython",
    "version": 3
   },
   "file_extension": ".py",
   "mimetype": "text/x-python",
   "name": "python",
   "nbconvert_exporter": "python",
   "pygments_lexer": "ipython3",
   "version": "3.8.12"
  },
  "orig_nbformat": 4,
  "vscode": {
   "interpreter": {
    "hash": "5b3ded1ccb95c1d9bd405e7b823d9e85424cde40fbb5985eb47e999ef50e15b4"
   }
  }
 },
 "nbformat": 4,
 "nbformat_minor": 2
}
