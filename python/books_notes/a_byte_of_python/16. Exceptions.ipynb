{
 "cells": [
  {
   "cell_type": "markdown",
   "metadata": {},
   "source": [
    "# Исключения"
   ]
  },
  {
   "cell_type": "code",
   "execution_count": null,
   "metadata": {},
   "outputs": [],
   "source": [
    "print('hello')"
   ]
  },
  {
   "cell_type": "code",
   "execution_count": null,
   "metadata": {},
   "outputs": [],
   "source": [
    "try:\n",
    "    text = input('Input your text . . .')\n",
    "except EOFError:\n",
    "    print('You entered EOF')\n",
    "except KeyboardInterrupt:\n",
    "    print('You interrupted input')\n",
    "else:\n",
    "    print(f'Your input is {text}')\n",
    "\n",
    "# Можно также добавить пункт else к соответствующему блоку try..except. Этот пункт\n",
    "# будет выполнен тогда, когда исключений не возникает."
   ]
  },
  {
   "cell_type": "code",
   "execution_count": null,
   "metadata": {},
   "outputs": [],
   "source": [
    "class ShortInputException(Exception):\n",
    "    '''User Class of Exception'''\n",
    "    def __init__(self, length, atleast):\n",
    "        Exception.__init__(self)\n",
    "        self.length = length\n",
    "        self.atleast = atleast\n",
    "\n",
    "try:\n",
    "    text = input('Input something - > ')\n",
    "    if len(text) < 3:\n",
    "        raise ShortInputException(len(text), 3)\n",
    "    # . . . ordinary work done here . . .\n",
    "except EOFError:\n",
    "    print(\"You've entered EOF\")\n",
    "except ShortInputException as ex:\n",
    "    print('ShortInputException: Length of input string -- {0};\\\n",
    "           At least {1} characters expected'.format(ex.length, ex.atleast))\n",
    "else:\n",
    "    print('There were no exceptions')"
   ]
  },
  {
   "cell_type": "code",
   "execution_count": null,
   "metadata": {},
   "outputs": [],
   "source": [
    "import time\n",
    "\n",
    "try:\n",
    "    f = open('poem.txt')\n",
    "    while True: \n",
    "        line = f.readline()\n",
    "        if len(line) == 0:\n",
    "            break\n",
    "        print(line, end='')\n",
    "        time.sleep(2)\n",
    "except KeyboardInterrupt:\n",
    "    print('!! You cancelled file reading')\n",
    "finally:\n",
    "    f.close()\n",
    "    print('Cleaning. Closing file.')"
   ]
  }
 ],
 "metadata": {
  "interpreter": {
   "hash": "79c6ef728ce7125e0e08fa11deecfeee6951f7e2fee2b2299b8a48302b35c054"
  },
  "kernelspec": {
   "display_name": "Python 3.9.10 ('.venv': venv)",
   "language": "python",
   "name": "python3"
  },
  "language_info": {
   "codemirror_mode": {
    "name": "ipython",
    "version": 3
   },
   "file_extension": ".py",
   "mimetype": "text/x-python",
   "name": "python",
   "nbconvert_exporter": "python",
   "pygments_lexer": "ipython3",
   "version": "3.9.10"
  },
  "orig_nbformat": 4
 },
 "nbformat": 4,
 "nbformat_minor": 2
}
