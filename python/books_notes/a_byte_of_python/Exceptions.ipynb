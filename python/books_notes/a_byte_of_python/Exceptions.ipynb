{
 "cells": [
  {
   "cell_type": "code",
   "execution_count": null,
   "metadata": {},
   "outputs": [],
   "source": [
    "# 16.1 Ошибки\n",
    "Print('Привет, Мир!')"
   ]
  },
  {
   "cell_type": "code",
   "execution_count": null,
   "metadata": {},
   "outputs": [],
   "source": [
    "print('Привет, Мир!')"
   ]
  },
  {
   "cell_type": "code",
   "execution_count": null,
   "metadata": {},
   "outputs": [],
   "source": [
    "# press ctrl+d (ctrl+z) after input request\n",
    "s = input('input something')\n",
    "# EOF error"
   ]
  },
  {
   "cell_type": "code",
   "execution_count": null,
   "metadata": {},
   "outputs": [],
   "source": [
    "# 16.2 Исключения\n",
    "\n",
    "s = input('Введите что-нибудь --> ')\n",
    "# EOFError: EOF when reading a line"
   ]
  },
  {
   "cell_type": "code",
   "execution_count": null,
   "metadata": {},
   "outputs": [],
   "source": [
    "# 16.3 Обработка исключений\n",
    "\n",
    "try:\n",
    "    text = input('Введите что-нибудь - > ')\n",
    "except EOFError:\n",
    "    print('Ну зачем вы сделали мне EOF?')\n",
    "except KeyboardInterrupt:\n",
    "    print('Вы отменили операцию')\n",
    "else:\n",
    "    print('Вы ввели {0}'.format(text))"
   ]
  },
  {
   "cell_type": "code",
   "execution_count": null,
   "metadata": {},
   "outputs": [],
   "source": [
    "# 16.4 Вызов исключения\n",
    "\n",
    "class ShortInputException(Exception):\n",
    "    '''Пользовательский класс исключения.'''\n",
    "    def __init__(self, length, atleast):\n",
    "        Exception.__init__(self)\n",
    "        self.length = length\n",
    "        self.atleast = atleast\n",
    "\n",
    "try:\n",
    "    text = input('Введите что-нибудь - > ')\n",
    "    if len(text) < 3:\n",
    "        raise ShortInputException(len(text), 3)\n",
    "    # Здесь может происходить обычная работа\n",
    "except EOFError:\n",
    "    print('Ну зачем вы сделали мне EOF?')\n",
    "except ShortInputException as ex:\n",
    "    print('ShortInputException: Длина введённой строки -- {0}; ' \\\n",
    "        'ожидалось, как минимум, {1}'.format(ex.length, ex.atleast))\n",
    "else:\n",
    "    print('Не было исключений.')"
   ]
  },
  {
   "cell_type": "code",
   "execution_count": null,
   "metadata": {},
   "outputs": [],
   "source": [
    "# 16.5 Try .. Finally"
   ]
  }
 ],
 "metadata": {
  "kernelspec": {
   "display_name": "Python 3.9.10 ('.venv': venv)",
   "language": "python",
   "name": "python3"
  },
  "language_info": {
   "codemirror_mode": {
    "name": "ipython",
    "version": 3
   },
   "file_extension": ".py",
   "mimetype": "text/x-python",
   "name": "python",
   "nbconvert_exporter": "python",
   "pygments_lexer": "ipython3",
   "version": "3.9.10"
  },
  "orig_nbformat": 4,
  "vscode": {
   "interpreter": {
    "hash": "ee5b7d8a7c17ac945ceff1b448c84f277669e4bf414729266781a6cc4bd61562"
   }
  }
 },
 "nbformat": 4,
 "nbformat_minor": 2
}
