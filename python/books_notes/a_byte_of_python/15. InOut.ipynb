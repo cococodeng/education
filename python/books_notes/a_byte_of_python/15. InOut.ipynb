{
 "cells": [
  {
   "cell_type": "markdown",
   "metadata": {},
   "source": [
    "# 15.1 Ввод от пользователя"
   ]
  },
  {
   "cell_type": "code",
   "execution_count": null,
   "metadata": {},
   "outputs": [],
   "source": [
    "def reverse(text):\n",
    "    return text[::-1]\n",
    "\n",
    "def is_palindrome(text):\n",
    "    return text == reverse(text)\n",
    "\n",
    "something = input('Input text: ')\n",
    "if (is_palindrome(something)):\n",
    "    print(\"Its palindrome\")\n",
    "else:\n",
    "    print(\"Its not palindrome\")\n"
   ]
  },
  {
   "cell_type": "markdown",
   "metadata": {},
   "source": [
    "# 15.2 Файлы"
   ]
  },
  {
   "cell_type": "code",
   "execution_count": null,
   "metadata": {},
   "outputs": [],
   "source": [
    "poem = '''\\\n",
    "Tell me not, in mournful numbers,\n",
    "Life is but an empty dream!—\n",
    "For the soul is dead that slumbers,\n",
    "And things are not what they seem.\n",
    "'''\n",
    "\n",
    "f = open('poem.txt', 'w') # open file for WRITING\n",
    "f.write(poem) # writing text to file\n",
    "f.close() # closing file\n",
    "\n",
    "f = open('poem.txt', 'r') # read mode 'r' by default, alseo a(append), w(write)\n",
    "\n",
    "\n",
    "while True:\n",
    "    line = f.readline()\n",
    "    if len(line) == 0: # zero len means EOF\n",
    "        break\n",
    "    print(line, end = '')\n",
    "\n",
    "f.close() # closing file"
   ]
  },
  {
   "cell_type": "code",
   "execution_count": null,
   "metadata": {},
   "outputs": [],
   "source": [
    "import pickle\n",
    "\n",
    "# file name that used for object saving\n",
    "shoplistfile = 'shoplist.data'\n",
    "# buy list\n",
    "shoplist = [\n",
    "    'apples',\n",
    "    'mango',\n",
    "    'carrot'\n",
    "]\n",
    "\n",
    "# write to file\n",
    "f = open(shoplistfile, 'wb') # write, binary mode\n",
    "pickle.dump(shoplist, f) # put object to file\n",
    "f.close()\n",
    "\n",
    "del shoplist # deleting shoplist variable\n",
    "\n",
    "# reading from saved file\n",
    "f = open(shoplistfile, 'rb') # read, binary mode\n",
    "storedlist = pickle.load(f) # loading object from file\n",
    "print(storedlist)"
   ]
  },
  {
   "cell_type": "code",
   "execution_count": null,
   "metadata": {},
   "outputs": [],
   "source": []
  }
 ],
 "metadata": {
  "kernelspec": {
   "display_name": "Python 3.9.10 ('.venv': venv)",
   "language": "python",
   "name": "python3"
  },
  "language_info": {
   "codemirror_mode": {
    "name": "ipython",
    "version": 3
   },
   "file_extension": ".py",
   "mimetype": "text/x-python",
   "name": "python",
   "nbconvert_exporter": "python",
   "pygments_lexer": "ipython3",
   "version": "3.9.10"
  },
  "orig_nbformat": 4,
  "vscode": {
   "interpreter": {
    "hash": "ee5b7d8a7c17ac945ceff1b448c84f277669e4bf414729266781a6cc4bd61562"
   }
  }
 },
 "nbformat": 4,
 "nbformat_minor": 2
}
