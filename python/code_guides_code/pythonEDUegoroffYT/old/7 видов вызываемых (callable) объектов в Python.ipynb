{
 "cells": [
  {
   "cell_type": "markdown",
   "metadata": {},
   "source": [
    "# 7 видов вызываемых (callable) объектов в Python\n"
   ]
  },
  {
   "cell_type": "code",
   "execution_count": null,
   "metadata": {},
   "outputs": [],
   "source": [
    "# к вызываемому объекту можно применить оператор вызова ()\n",
    "\n",
    "a = 10\n",
    "print(a)\n",
    "# a() error, int not callable"
   ]
  },
  {
   "cell_type": "code",
   "execution_count": null,
   "metadata": {},
   "outputs": [],
   "source": [
    "string111 = 'hello'\n",
    "print(string111)\n",
    "# string111() error, string not callable"
   ]
  },
  {
   "cell_type": "code",
   "execution_count": 5,
   "metadata": {},
   "outputs": [
    {
     "name": "stdout",
     "output_type": "stream",
     "text": [
      "5\n",
      "True\n",
      "True\n"
     ]
    }
   ],
   "source": [
    "#  1. len, abs, basic functions\n",
    "print(len('hello'))\n",
    "\n",
    "# to check\n",
    "print(callable(len))\n",
    "print(callable(int))"
   ]
  },
  {
   "cell_type": "code",
   "execution_count": 9,
   "metadata": {},
   "outputs": [
    {
     "name": "stdout",
     "output_type": "stream",
     "text": [
      "True\n",
      "[1, 2, 3]\n"
     ]
    }
   ],
   "source": [
    "# 2. methods\n",
    "a = [3,2,1]\n",
    "print(callable(a.sort))\n",
    "a.sort()\n",
    "print(a)"
   ]
  },
  {
   "cell_type": "code",
   "execution_count": 13,
   "metadata": {},
   "outputs": [
    {
     "name": "stdout",
     "output_type": "stream",
     "text": [
      "hello world\n",
      "True\n",
      "True\n"
     ]
    }
   ],
   "source": [
    "# 3. def user functions\n",
    "\n",
    "def f():\n",
    "    print('hello world')\n",
    "\n",
    "f()\n",
    "print(callable(f))\n",
    "\n",
    "d = lambda: 'hi'\n",
    "d()\n",
    "print(callable(d))"
   ]
  },
  {
   "cell_type": "code",
   "execution_count": 16,
   "metadata": {},
   "outputs": [
    {
     "name": "stdout",
     "output_type": "stream",
     "text": [
      "<__main__.Cat object at 0x00000285EEA25C40>\n",
      "True\n",
      "False\n"
     ]
    }
   ],
   "source": [
    "# 4. Class\n",
    "\n",
    "class Cat:\n",
    "    pass\n",
    "\n",
    "bob = Cat()\n",
    "print(bob)\n",
    "print(callable(Cat))\n",
    "\n",
    "print(callable(bob))\n",
    "\n"
   ]
  },
  {
   "cell_type": "code",
   "execution_count": 22,
   "metadata": {},
   "outputs": [
    {
     "name": "stdout",
     "output_type": "stream",
     "text": [
      "<__main__.Cat object at 0x00000285EEA25370>\n",
      "True\n",
      "True\n",
      "may\n"
     ]
    }
   ],
   "source": [
    "# 5 Callable magic class\n",
    "class Cat:\n",
    "    def __call__(self, *args, **kwargs):\n",
    "        print('may')\n",
    "\n",
    "bob = Cat()\n",
    "print(bob)\n",
    "print(callable(Cat))\n",
    "print(callable(bob))\n",
    "# bob\n",
    "bob()"
   ]
  },
  {
   "cell_type": "code",
   "execution_count": 23,
   "metadata": {},
   "outputs": [
    {
     "name": "stdout",
     "output_type": "stream",
     "text": [
      "<__main__.Cat object at 0x00000285EF724A30>\n",
      "True\n",
      "True\n",
      "True\n"
     ]
    }
   ],
   "source": [
    "# 6. Class methods\n",
    "class Cat:\n",
    "    def __call__(self, *args, **kwargs):\n",
    "        print('may')\n",
    "    \n",
    "    def say_hello(self):\n",
    "        print('hello')\n",
    "\n",
    "bob = Cat()\n",
    "print(bob)\n",
    "print(callable(Cat))\n",
    "print(callable(bob))\n",
    "print(callable(bob.say_hello))\n"
   ]
  },
  {
   "cell_type": "code",
   "execution_count": 51,
   "metadata": {},
   "outputs": [
    {
     "name": "stdout",
     "output_type": "stream",
     "text": [
      "True\n"
     ]
    },
    {
     "ename": "TypeError",
     "evalue": "unsupported operand type(s) for +: 'generator' and 'int'",
     "output_type": "error",
     "traceback": [
      "\u001b[1;31m---------------------------------------------------------------------------\u001b[0m",
      "\u001b[1;31mTypeError\u001b[0m                                 Traceback (most recent call last)",
      "\u001b[1;32m~\\AppData\\Local\\Temp/ipykernel_11776/3160200308.py\u001b[0m in \u001b[0;36m<module>\u001b[1;34m\u001b[0m\n\u001b[0;32m      9\u001b[0m \u001b[0mprint\u001b[0m\u001b[1;33m(\u001b[0m\u001b[0mcallable\u001b[0m\u001b[1;33m(\u001b[0m\u001b[0mf\u001b[0m\u001b[1;33m)\u001b[0m\u001b[1;33m)\u001b[0m\u001b[1;33m\u001b[0m\u001b[1;33m\u001b[0m\u001b[0m\n\u001b[0;32m     10\u001b[0m \u001b[1;33m\u001b[0m\u001b[0m\n\u001b[1;32m---> 11\u001b[1;33m \u001b[0mprint\u001b[0m\u001b[1;33m(\u001b[0m\u001b[0mf\u001b[0m\u001b[1;33m(\u001b[0m\u001b[1;33m)\u001b[0m\u001b[1;33m+\u001b[0m\u001b[1;36m1\u001b[0m\u001b[1;33m)\u001b[0m\u001b[1;33m\u001b[0m\u001b[1;33m\u001b[0m\u001b[0m\n\u001b[0m",
      "\u001b[1;31mTypeError\u001b[0m: unsupported operand type(s) for +: 'generator' and 'int'"
     ]
    }
   ],
   "source": [
    "# 7. Function-Generators\n",
    "\n",
    "def f():\n",
    "    n = 0\n",
    "    while True:\n",
    "        yield n\n",
    "        n+=1\n",
    "\n",
    "print(callable(f))\n",
    "\n",
    "print(f())"
   ]
  }
 ],
 "metadata": {
  "interpreter": {
   "hash": "c072b5b97b769e545e4a30fe0c2899590d05a0279abf2521fc01dee924670526"
  },
  "kernelspec": {
   "display_name": "Python 3.9.7 64-bit ('.venv': venv)",
   "language": "python",
   "name": "python3"
  },
  "language_info": {
   "codemirror_mode": {
    "name": "ipython",
    "version": 3
   },
   "file_extension": ".py",
   "mimetype": "text/x-python",
   "name": "python",
   "nbconvert_exporter": "python",
   "pygments_lexer": "ipython3",
   "version": "3.9.7"
  },
  "orig_nbformat": 4
 },
 "nbformat": 4,
 "nbformat_minor": 2
}
