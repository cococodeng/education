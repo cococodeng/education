{
 "cells": [
  {
   "cell_type": "markdown",
   "metadata": {},
   "source": [
    "# Урок 3 Знакомство с объектами. Числа и операции над ними Python\n"
   ]
  },
  {
   "cell_type": "code",
   "execution_count": null,
   "metadata": {},
   "outputs": [],
   "source": [
    "print(3+2)\n",
    "print(3.0+2)\n",
    "print(3.0*2)\n",
    "print(4.0/2)\n",
    "print(2**3)\n",
    "print(11//3)\n",
    "print(8//10)\n",
    "print(-8//10)\n",
    "print(8//-10)\n",
    "print(19%7)\n",
    "print(15%3)\n",
    "print(2%7)\n",
    "#Priortity\n",
    "# ()\n",
    "# **\n",
    "# * / // %\n",
    "# + -\n"
   ]
  },
  {
   "cell_type": "code",
   "execution_count": null,
   "metadata": {},
   "outputs": [],
   "source": [
    "print(74%10*5)\n",
    "# = 20\n",
    "print(74*5%10)\n",
    "# = 0\n",
    "print(abs(-7))\n",
    "print(min(3,4,5,6))\n",
    "print(max(3,4,5,6))\n",
    "print(pow(2,4))\n",
    "print(round(3.5))\n",
    "print(round(3.456,2))\n",
    "print(round(3.456,1))\n",
    "print(round(3.456,3))\n",
    "print(round(456,-1))\n",
    "print(round(456,-2))\n",
    "print(round(456,+2))\n",
    "\n",
    "# 1     2       3   ,   4   5   6\n",
    "# -2   -1       0       1   2   3"
   ]
  },
  {
   "cell_type": "code",
   "execution_count": null,
   "metadata": {},
   "outputs": [],
   "source": [
    "print(type(5))\n",
    "print(type(5.5))\n",
    "print(max(1,2,3,abs(-4)))\n",
    "print(5**0.5)\n",
    "print(pow(5,0.5))"
   ]
  },
  {
   "cell_type": "markdown",
   "metadata": {},
   "source": [
    "# Урок 4 Переменные в Python. Оператор присваивания"
   ]
  },
  {
   "cell_type": "code",
   "execution_count": null,
   "metadata": {},
   "outputs": [],
   "source": [
    "a = 4\n",
    "print(a)\n",
    "a=a+a\n",
    "print(a)\n",
    "\n",
    "age = 20\n",
    "print(type (age))\n",
    "\n",
    "money = 1.5\n",
    "print(type (money))"
   ]
  },
  {
   "cell_type": "markdown",
   "metadata": {},
   "source": [
    "# Keywords in Python programming language\n",
    "False\t    await\t    else\t    import\t    pass\n",
    "None\t    break\t    except\t    in\t        raise\n",
    "True\t    class\t    finally\t    is\t        return\n",
    "and\t        continue\tfor\t        lambda\t    try\n",
    "as\t        def\t        from\t    nonlocal\twhile\n",
    "assert\t    del\t        global\t    not\t        with\n",
    "async\t    elif\t    if\t        or\t        yield"
   ]
  },
  {
   "cell_type": "code",
   "execution_count": null,
   "metadata": {},
   "outputs": [],
   "source": [
    "import keyword\n",
    "print(keyword.kwlist)\n",
    "print(max(4,5))\n",
    "max = 27\n",
    "print(max)\n",
    "print(max(4,5)) # function lost\n"
   ]
  },
  {
   "cell_type": "code",
   "execution_count": null,
   "metadata": {},
   "outputs": [],
   "source": [
    "# my_money\n",
    "# myMoney\n",
    "a = 5\n",
    "a = 2.5\n",
    "a = 'hello'\n",
    "print(a)\n",
    "b = 10\n",
    "print (b)\n",
    "b = 2*b\n",
    "print (b)\n",
    "a=b=c=r=1\n",
    "print(a,b,c,r)\n",
    "\n",
    "a,b = 2,7\n",
    "print(a,b)\n",
    "\n",
    "a = 3\n",
    "b = 5\n",
    "print(a,b)\n",
    "(a,b)=(b,a)\n",
    "print(a,b)"
   ]
  },
  {
   "cell_type": "markdown",
   "metadata": {},
   "source": [
    "# Урок 5 Ввод и вывод данных python. Команда input()\n"
   ]
  },
  {
   "cell_type": "code",
   "execution_count": null,
   "metadata": {},
   "outputs": [],
   "source": [
    "s = input()\n",
    "print(s)\n",
    "print(type(s))\n",
    "i = int(input())\n",
    "print(i)\n",
    "print(type(i))\n",
    "f = float(input())\n",
    "print(f)\n",
    "print(type(f))\n",
    "a = float(input(\"Vvdeite a\"))\n",
    "b = float(input(\"Vvdeite b\"))\n",
    "c = float(input(\"Vvdeite c\"))\n",
    "p = a+b+c\n",
    "print(p)"
   ]
  },
  {
   "cell_type": "code",
   "execution_count": null,
   "metadata": {},
   "outputs": [],
   "source": [
    "# Ввод через пробел 1 2 3\n",
    "a,b,c = map(float,input().split())\n",
    "print(a,b,c)\n",
    "\n",
    "# Ввод через , 1 2 3\n",
    "a,b,c = map(float,input().split(','))\n",
    "print(a,b,c)\n",
    "# Задачи\n",
    "# Businy\n",
    "N = int(input())\n",
    "N = N + 1\n",
    "print(N)"
   ]
  },
  {
   "cell_type": "code",
   "execution_count": null,
   "metadata": {},
   "outputs": [],
   "source": [
    "#Журавлики \n",
    "S = int(input())\n",
    "output = (S * 1 // 6, S * 2 // 3, S * 1 // 6)\n",
    "print(*output)\n",
    "# Гипотенуза \n",
    "a = int(input())\n",
    "b = int(input())\n",
    "print(pow(((pow(a,2))+(pow(b,2))),0.5))\n",
    "#Магазин канцелярских товаров\n",
    "# x карандашей (ц 3р)\n",
    "# y ручек (ц карандаша + 2, ц флом - 7) 5р\n",
    "# z фломастеров 12р\n",
    "x,y,z=map(int,input().split())\n",
    "print(x*3 + y*5 + z*12)\n",
    "\n",
    "#Задача №2949. Обмен значений\n",
    "\n",
    "a = input ()\n",
    "b = input ()\n",
    "(a,b)=(b,a)\n",
    "print(a, b)\n",
    "\n",
    "# Эния\n",
    "n,a,b = map(int,input().split())\n",
    "print(n*a*b*2)\n",
    "\n",
    "# Задача №2952. Разность времен\n",
    "h1 = int(input())\n",
    "m1 = int(input())\n",
    "s1 = int(input())\n",
    "\n",
    "h2 = int(input())\n",
    "m2 = int(input())\n",
    "s2 = int(input())\n",
    "\n",
    "print(3600*(h2-h1)+60*(m2-m1)+(s2-s1))\n",
    "# Два бандита\n",
    "g,l=map(int,input().split())\n",
    "print(l-1,g-1)\n",
    "\n",
    "#Задача №3466. Шнурки\n",
    "a = int(input())\n",
    "b = int(input())\n",
    "l = int(input())\n",
    "N = int(input())\n",
    "\n",
    "print(b*(N-1)*2+a*2*(N-1)+a+2*l)\n",
    "# A. Выражение\n",
    "a = int(input())\n",
    "b = int(input())\n",
    "c = int(input())\n",
    "\n",
    "print(\n",
    "    max(\n",
    "    a+b*c,\n",
    "    a*(b+c),\n",
    "    a*b*c,\n",
    "    (a+b)*c     \n",
    "))\n",
    "# Урок 6 Ввод и вывод данных Python. Функция print() Python\n",
    "\n",
    "print(1,2,3)\n",
    "print(4,5)\n",
    "print(6)\n",
    "#default sep = \" \"\n",
    "#end default = \"\\n\"\n",
    "print(1,2,3,sep=', ',end=' ')\n",
    "print(4,5,sep=\"___\")\n",
    "print(6)\n",
    "rubles = 10\n",
    "kop = 99\n",
    "print(\"i have\", rubles, \"rubles and\", kop, \"pennies\")\n",
    "print(\"I have %s rubles and %s pennies\"%(rubles,kop))\n",
    "# Задачи\n",
    "print(\"Hello World!\")\n",
    "name = input('Enter your name')\n",
    "print('Hello, %s !' %(name))\n",
    "num = int(input('Input Number'))\n",
    "print(\"%s < %s < %s\"%(num-1,num,num+1))\n",
    "a = int (input('Input a'))\n",
    "b = int (input('Input b'))\n",
    "print(\"%s * %s = %s\"%(a,b,a*b))\n",
    "\n",
    "\n",
    "print(\"/\\_/\\\\\") #added \\ before last \\\n",
    "print(\">^,^<\")\n",
    "print(\"/   \\\\\") #added \\ before last \\\n",
    "print(\"(|_|)_/\")\n",
    "\n",
    "print(\"This kitty says \\\"Meow!\\\" \")\n",
    "#Задача №3456. Hello, Harry!\n",
    "name = input('Input Name')\n",
    "print(\"Hello, %s!\"%(name))\n",
    "number = int(input())\n",
    "print('''\n",
    "The next number for the number %s is %s.\n",
    "The previous number  for the number %s is %s.\n",
    "'''%(number,number+1,number,number-1))\n",
    "name = input('Enter your name')\n",
    "birth = int(input('Enter your age'))\n",
    "\n",
    "print('%s, you become 77 years old in %s'%(name,birth+77))"
   ]
  },
  {
   "cell_type": "code",
   "execution_count": null,
   "metadata": {},
   "outputs": [],
   "source": [
    "#Журавлики \n",
    "S = int(input())\n",
    "output = (S * 1 // 6, S * 2 // 3, S * 1 // 6)\n",
    "print(*output)"
   ]
  },
  {
   "cell_type": "code",
   "execution_count": null,
   "metadata": {},
   "outputs": [],
   "source": [
    "# Гипотенуза \n",
    "a = int(input())\n",
    "b = int(input())\n",
    "print(pow(((pow(a,2))+(pow(b,2))),0.5))"
   ]
  },
  {
   "cell_type": "code",
   "execution_count": null,
   "metadata": {},
   "outputs": [],
   "source": [
    "#Магазин канцелярских товаров\n",
    "# x карандашей (ц 3р)\n",
    "# y ручек (ц карандаша + 2, ц флом - 7) 5р\n",
    "# z фломастеров 12р\n",
    "x,y,z=map(int,input().split())\n",
    "print(x*3 + y*5 + z*12)"
   ]
  },
  {
   "cell_type": "code",
   "execution_count": null,
   "metadata": {},
   "outputs": [],
   "source": [
    "\n",
    "#Задача №2949. Обмен значений\n",
    "\n",
    "a = input ()\n",
    "b = input ()\n",
    "(a,b)=(b,a)\n",
    "print(a, b)"
   ]
  },
  {
   "cell_type": "code",
   "execution_count": null,
   "metadata": {},
   "outputs": [],
   "source": [
    "# Эния\n",
    "n,a,b = map(int,input().split())\n",
    "print(n*a*b*2)"
   ]
  },
  {
   "cell_type": "code",
   "execution_count": null,
   "metadata": {},
   "outputs": [],
   "source": [
    "\n",
    "# Задача №2952. Разность времен\n",
    "h1 = int(input())\n",
    "m1 = int(input())\n",
    "s1 = int(input())\n",
    "\n",
    "h2 = int(input())\n",
    "m2 = int(input())\n",
    "s2 = int(input())\n",
    "\n",
    "print(3600*(h2-h1)+60*(m2-m1)+(s2-s1))"
   ]
  },
  {
   "cell_type": "code",
   "execution_count": null,
   "metadata": {},
   "outputs": [],
   "source": [
    "# Два бандита\n",
    "g,l=map(int,input().split())\n",
    "print(l-1,g-1)"
   ]
  },
  {
   "cell_type": "code",
   "execution_count": null,
   "metadata": {},
   "outputs": [],
   "source": [
    "#Задача №3466. Шнурки\n",
    "a = int(input())\n",
    "b = int(input())\n",
    "l = int(input())\n",
    "N = int(input())\n",
    "\n",
    "print(b*(N-1)*2+a*2*(N-1)+a+2*l)"
   ]
  },
  {
   "cell_type": "code",
   "execution_count": null,
   "metadata": {},
   "outputs": [],
   "source": [
    "# A. Выражение\n",
    "a = int(input())\n",
    "b = int(input())\n",
    "c = int(input())\n",
    "\n",
    "print(\n",
    "    max(\n",
    "    a+b*c,\n",
    "    a*(b+c),\n",
    "    a*b*c,\n",
    "    (a+b)*c     \n",
    "))"
   ]
  },
  {
   "cell_type": "code",
   "execution_count": null,
   "metadata": {},
   "outputs": [],
   "source": [
    "# A. Выражение\n",
    "a = int(input())\n",
    "b = int(input())\n",
    "c = int(input())\n",
    "\n",
    "print(\n",
    "    max(\n",
    "    a+b*c,\n",
    "    a*(b+c),\n",
    "    a*b*c,\n",
    "    (a+b)*c     \n",
    "))"
   ]
  },
  {
   "cell_type": "markdown",
   "metadata": {},
   "source": [
    "# Урок 6 Ввод и вывод данных Python. Функция print() Python"
   ]
  },
  {
   "cell_type": "code",
   "execution_count": 1,
   "metadata": {},
   "outputs": [
    {
     "name": "stdout",
     "output_type": "stream",
     "text": [
      "1 2 3\n",
      "4 5\n",
      "6\n",
      "1, 2, 3 4___5\n",
      "6\n",
      "i have 10 rubles and 99 pennies\n",
      "I have 10 rubles and 99 pennies\n"
     ]
    }
   ],
   "source": [
    "\n",
    "print(1,2,3)\n",
    "print(4,5)\n",
    "print(6)\n",
    "#default sep = \" \"\n",
    "#end default = \"\\n\"\n",
    "print(1,2,3,sep=', ',end=' ')\n",
    "print(4,5,sep=\"___\")\n",
    "print(6)\n",
    "rubles = 10\n",
    "kop = 99\n",
    "print(\"i have\", rubles, \"rubles and\", kop, \"pennies\")\n",
    "print(\"I have %s rubles and %s pennies\"%(rubles,kop))"
   ]
  },
  {
   "cell_type": "code",
   "execution_count": null,
   "metadata": {},
   "outputs": [],
   "source": [
    "# Задачи\n",
    "print(\"Hello World!\")\n",
    "name = input('Enter your name')\n",
    "print('Hello, %s !' %(name))\n",
    "num = int(input('Input Number'))\n",
    "print(\"%s < %s < %s\"%(num-1,num,num+1))\n",
    "a = int (input('Input a'))\n",
    "b = int (input('Input b'))\n",
    "print(\"%s * %s = %s\"%(a,b,a*b))\n"
   ]
  },
  {
   "cell_type": "code",
   "execution_count": 2,
   "metadata": {},
   "outputs": [
    {
     "name": "stdout",
     "output_type": "stream",
     "text": [
      "/\\_/\\\n",
      ">^,^<\n",
      "/   \\\n",
      "(|_|)_/\n",
      "This kitty says \"Meow!\" \n"
     ]
    }
   ],
   "source": [
    "print(\"/\\_/\\\\\") #added \\ before last \\\n",
    "print(\">^,^<\")\n",
    "print(\"/   \\\\\") #added \\ before last \\\n",
    "print(\"(|_|)_/\")\n",
    "print(\"This kitty says \\\"Meow!\\\" \")"
   ]
  },
  {
   "cell_type": "code",
   "execution_count": null,
   "metadata": {},
   "outputs": [],
   "source": [
    "#Задача №3456. Hello, Harry!\n",
    "name = input('Input Name')\n",
    "print(\"Hello, %s!\"%(name))\n",
    "number = int(input())\n",
    "print('''\n",
    "The next number for the number %s is %s.\n",
    "The previous number  for the number %s is %s.\n",
    "'''%(number,number+1,number,number-1))\n",
    "name = input('Enter your name')\n",
    "birth = int(input('Enter your age'))\n",
    "\n",
    "print('%s, you become 77 years old in %s'%(name,birth+77))"
   ]
  }
 ],
 "metadata": {
  "interpreter": {
   "hash": "c072b5b97b769e545e4a30fe0c2899590d05a0279abf2521fc01dee924670526"
  },
  "kernelspec": {
   "display_name": "Python 3.9.7 64-bit ('.venv': venv)",
   "name": "python3"
  },
  "language_info": {
   "codemirror_mode": {
    "name": "ipython",
    "version": 3
   },
   "file_extension": ".py",
   "mimetype": "text/x-python",
   "name": "python",
   "nbconvert_exporter": "python",
   "pygments_lexer": "ipython3",
   "version": "3.9.7"
  },
  "orig_nbformat": 4
 },
 "nbformat": 4,
 "nbformat_minor": 2
}
