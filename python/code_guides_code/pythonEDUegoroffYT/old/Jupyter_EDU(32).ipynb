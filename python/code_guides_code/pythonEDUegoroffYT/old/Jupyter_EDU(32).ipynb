{
 "cells": [
  {
   "cell_type": "markdown",
   "metadata": {},
   "source": [
    "# 32 Словари (dict) Python. Операции и методы словаря.\n"
   ]
  },
  {
   "cell_type": "code",
   "execution_count": null,
   "metadata": {},
   "outputs": [],
   "source": [
    "# неупорядоченная коллекция произвольных объектов с доступом по ключу (ассоциативный список)\n",
    "\n",
    "a = ['Moscow', 'Piter', 'NYC']\n",
    "print(a)\n",
    "\n",
    "# d = {\n",
    "#     key:value,\n",
    "# }\n",
    "\n",
    "d = {\n",
    "'Moscow' : 495,\n",
    "'Piter' : 812,\n",
    "'NYC' : 55\n",
    "\n",
    "}\n",
    "print(d)"
   ]
  },
  {
   "cell_type": "code",
   "execution_count": null,
   "metadata": {},
   "outputs": [],
   "source": [
    "r = dict(moskva=495,piter=812,penza=222)\n",
    "print(r)"
   ]
  },
  {
   "cell_type": "code",
   "execution_count": null,
   "metadata": {},
   "outputs": [],
   "source": [
    "a = [['Moskva',495], ['Piter',812], ['Penza',555]]\n",
    "t = dict(a)\n",
    "print(t)"
   ]
  },
  {
   "cell_type": "code",
   "execution_count": null,
   "metadata": {},
   "outputs": [],
   "source": [
    "q = dict.fromkeys(['a','b','c'])\n",
    "print(q)\n",
    "q = dict.fromkeys(['a','b','c'],100)\n",
    "print(q)\n",
    "v = {}\n",
    "print(v,type(v))\n",
    "v = dict()\n",
    "print(v)"
   ]
  },
  {
   "cell_type": "code",
   "execution_count": null,
   "metadata": {},
   "outputs": [],
   "source": [
    "b = {}\n",
    "d = {\n",
    "    #Key:Value, key cannot be mutable object type\n",
    "    1: 'One',\n",
    "    2: 'Two',\n",
    "    3: 'Three',\n",
    "    'List': [1,2,3,4,5]\n",
    "}\n",
    "\n",
    "print(d[3])\n",
    "print(d['List'])\n",
    "d[4]='Four'\n",
    "print(d)\n",
    "d[4]='4'\n",
    "print(d)"
   ]
  },
  {
   "cell_type": "code",
   "execution_count": null,
   "metadata": {},
   "outputs": [],
   "source": [
    "person = {}\n",
    "s = \"Ivanov Ivan Samara SGU 5 4 4 5 3 3\"\n",
    "s = s.split()\n",
    "print(s)\n",
    "person['lastName'] = s[0]\n",
    "person['firstName'] = s[1]\n",
    "person['city'] = s[2]\n",
    "person['university'] = s[3]\n",
    "person['marks'] = []\n",
    "for i in s[4:]:\n",
    "    person['marks'].append(int(i))\n",
    "print(person)\n"
   ]
  },
  {
   "cell_type": "code",
   "execution_count": null,
   "metadata": {},
   "outputs": [],
   "source": [
    "d = {\n",
    "    #Key:Value, key cannot be mutable object type\n",
    "    1: 'One',\n",
    "    2: 'Two',\n",
    "    3: 'Three'\n",
    "}\n",
    "print(d)\n",
    "del d[3]\n",
    "print(d)\n",
    "print(len(d))\n",
    "print(1 in d, 5 in d, 3 not in d)\n",
    "\n",
    "if 4 in d:\n",
    "    print(d[4])\n",
    "else:\n",
    "    d[4]= 'Four'\n",
    "\n",
    "if 5 in d:\n",
    "    print(d[5])\n",
    "else:\n",
    "    d[5]= 'Five'\n",
    "\n",
    "print(d)\n",
    "\n",
    "for key in d:\n",
    "    print(key, d[key])\n"
   ]
  },
  {
   "cell_type": "code",
   "execution_count": null,
   "metadata": {},
   "outputs": [],
   "source": [
    "d = {\n",
    "    #Key:Value, key cannot be mutable object type\n",
    "    1: 'One',\n",
    "    2: 'Two',\n",
    "    3: 'Three'\n",
    "}\n",
    "d.clear()\n",
    "print(d)"
   ]
  },
  {
   "cell_type": "code",
   "execution_count": null,
   "metadata": {},
   "outputs": [],
   "source": [
    "d = {\n",
    "    #Key:Value, key cannot be mutable object type\n",
    "    1: 'One',\n",
    "    2: 'Two',\n",
    "    3: 'Three'\n",
    "}\n",
    "print(d.get(1))\n",
    "print(d.get(20))\n",
    "print(type(d.get(20)))\n",
    "print(d.get(20,'No such key'))\n",
    "print(type(d.get(20,'No such key')))"
   ]
  },
  {
   "cell_type": "code",
   "execution_count": null,
   "metadata": {},
   "outputs": [],
   "source": [
    "d = {\n",
    "    #Key:Value, key cannot be mutable object type\n",
    "    1: 'One',\n",
    "    2: 'Two',\n",
    "    3: 'Three',\n",
    "    4: 'Four'\n",
    "}\n",
    "print(d)\n",
    "print(d.setdefault(4))\n",
    "print(d.setdefault(6))\n",
    "print(d.setdefault(7,'Seven'))\n",
    "print(d)\n"
   ]
  },
  {
   "cell_type": "code",
   "execution_count": null,
   "metadata": {},
   "outputs": [],
   "source": [
    "d = {\n",
    "    #Key:Value, key cannot be mutable object type\n",
    "    1: 'One',\n",
    "    2: 'Two',\n",
    "    3: 'Three',\n",
    "    4: 'Four'\n",
    "}\n",
    "print(d)\n",
    "print(d.pop(3))\n",
    "print(d.pop(2))\n",
    "print(d)"
   ]
  },
  {
   "cell_type": "code",
   "execution_count": null,
   "metadata": {},
   "outputs": [],
   "source": [
    "d = {\n",
    "    #Key:Value, key cannot be mutable object type\n",
    "    1: 'One',\n",
    "    2: 'Two',\n",
    "    3: 'Three',\n",
    "    4: 'Four'\n",
    "}\n",
    "\n",
    "print(d)\n",
    "print(d.popitem())\n",
    "print(d.popitem())\n",
    "print(d)"
   ]
  },
  {
   "cell_type": "code",
   "execution_count": null,
   "metadata": {},
   "outputs": [],
   "source": [
    "d = {\n",
    "    #Key:Value, key cannot be mutable object type\n",
    "    1: 'One',\n",
    "    2: 'Two',\n",
    "    3: 'Three',\n",
    "    4: 'Four'\n",
    "}\n",
    "print(d.keys())\n",
    "for key in d.keys():\n",
    "    print(key,d[key])\n",
    "\n",
    "for value in d.values():\n",
    "    print(value)"
   ]
  },
  {
   "cell_type": "code",
   "execution_count": 11,
   "metadata": {},
   "outputs": [
    {
     "name": "stdout",
     "output_type": "stream",
     "text": [
      "dict_items([(1, 'One'), (2, 'Two'), (3, 'Three'), (4, 'Four')])\n",
      "(1, 'One')\n",
      "(2, 'Two')\n",
      "(3, 'Three')\n",
      "(4, 'Four')\n",
      "1 One\n",
      "2 Two\n",
      "3 Three\n",
      "4 Four\n",
      "1 One\n",
      "2 Two\n",
      "3 Three\n",
      "4 Four\n"
     ]
    }
   ],
   "source": [
    "d = {\n",
    "    #Key:Value, key cannot be mutable object type\n",
    "    1: 'One',\n",
    "    2: 'Two',\n",
    "    3: 'Three',\n",
    "    4: 'Four'\n",
    "}\n",
    "\n",
    "print(d.items())\n",
    "\n",
    "for pair in d.items():\n",
    "    print(pair)\n",
    "\n",
    "for pair in d.items():\n",
    "    print(pair[0],pair[1])\n",
    "\n",
    "for key,value in d.items():\n",
    "    print(key,value)"
   ]
  },
  {
   "cell_type": "code",
   "execution_count": null,
   "metadata": {},
   "outputs": [],
   "source": []
  }
 ],
 "metadata": {
  "interpreter": {
   "hash": "c072b5b97b769e545e4a30fe0c2899590d05a0279abf2521fc01dee924670526"
  },
  "kernelspec": {
   "display_name": "Python 3.9.7 64-bit ('.venv': venv)",
   "language": "python",
   "name": "python3"
  },
  "language_info": {
   "codemirror_mode": {
    "name": "ipython",
    "version": 3
   },
   "file_extension": ".py",
   "mimetype": "text/x-python",
   "name": "python",
   "nbconvert_exporter": "python",
   "pygments_lexer": "ipython3",
   "version": "3.9.7"
  },
  "orig_nbformat": 4
 },
 "nbformat": 4,
 "nbformat_minor": 2
}
