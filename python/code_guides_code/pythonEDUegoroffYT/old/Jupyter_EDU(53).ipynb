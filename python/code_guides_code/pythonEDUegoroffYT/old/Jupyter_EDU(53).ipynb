{
 "cells": [
  {
   "cell_type": "markdown",
   "metadata": {},
   "source": [
    "# 53 Сортировка коллекций в Python. Метод sort и функция sorted\n"
   ]
  },
  {
   "cell_type": "code",
   "execution_count": null,
   "metadata": {},
   "outputs": [],
   "source": [
    "# sort - метод списка\n",
    "# sorted - встроенная функция\n",
    "\n",
    "a = [40,-10,43,-300,54,89,-34]\n",
    "b = 'hello world'\n",
    "c = ('hi','zero','abracadabra','pikachu')\n",
    "a.sort()\n",
    "print(a)"
   ]
  },
  {
   "cell_type": "code",
   "execution_count": null,
   "metadata": {},
   "outputs": [],
   "source": [
    "# sort - метод списка\n",
    "# sorted - встроенная функция\n",
    "\n",
    "a = [40,-10,43,-300,54,89,-34]\n",
    "b = 'hello world'\n",
    "c = ('hi','zero','abracadabra','pikachu')\n",
    "print(sorted(a))\n",
    "print(a)"
   ]
  },
  {
   "cell_type": "code",
   "execution_count": null,
   "metadata": {},
   "outputs": [],
   "source": [
    "# sort - метод списка\n",
    "# sorted - встроенная функция\n",
    "\n",
    "a = [40,-10,43,-300,54,89,-34]\n",
    "b = 'hello world'\n",
    "c = ('hi','zero','abracadabra','pikachu')\n",
    "a=sorted(a)\n",
    "print(a)"
   ]
  },
  {
   "cell_type": "code",
   "execution_count": null,
   "metadata": {},
   "outputs": [],
   "source": [
    "# sort - метод списка\n",
    "# sorted - встроенная функция\n",
    "\n",
    "a = [40,-10,43,-300,54,89,-34]\n",
    "b = 'hello world'\n",
    "c = ('hi','zero','abracadabra','pikachu')\n",
    "b = sorted(b)\n",
    "print(b)"
   ]
  },
  {
   "cell_type": "code",
   "execution_count": null,
   "metadata": {},
   "outputs": [],
   "source": [
    "# sort - метод списка\n",
    "# sorted - встроенная функция\n",
    "\n",
    "a = [40,-10,43,-300,54,89,-34]\n",
    "b = 'hello world'\n",
    "c = ('hi','zero','abracadabra','pikachu')\n",
    "c = sorted(c)\n",
    "print(c)"
   ]
  },
  {
   "cell_type": "code",
   "execution_count": null,
   "metadata": {},
   "outputs": [],
   "source": [
    "# sort - метод списка\n",
    "# sorted - встроенная функция\n",
    "\n",
    "a = [40,-10,43,-300,54,89,-34]\n",
    "b = 'hello world'\n",
    "c = ('hi','zero','abracadabra','pikachu')\n",
    "# c = sorted(c key=function, reverse=False/True)\n",
    "# a.sort( key=function, reverse=False/True)\n",
    "c = sorted(c, reverse=True) # returns LIST, not tuple\n",
    "print(c)\n",
    "b = sorted(b, reverse=True)\n",
    "print(b)\n",
    "a = sorted(a, reverse=True)\n",
    "print(a)\n"
   ]
  },
  {
   "cell_type": "markdown",
   "metadata": {},
   "source": [
    "# Метод split и метод join Python\n"
   ]
  },
  {
   "cell_type": "code",
   "execution_count": null,
   "metadata": {},
   "outputs": [],
   "source": [
    "# split join\n",
    "s = 'Ivanov Ivan Ivanovich'\n",
    "print(s.split())\n",
    "print(s.split(' '))\n",
    "print(s.split('*'))\n",
    "print(s.split('I'))\n",
    "\n",
    "s = '1,2,3,4,5,6'\n",
    "print(s.split(','))\n",
    "\n",
    "s = 'aaaa'\n",
    "print(s.split('a'))\n",
    "\n"
   ]
  },
  {
   "cell_type": "code",
   "execution_count": null,
   "metadata": {},
   "outputs": [],
   "source": [
    "s = input('SPACE is separator').split()\n",
    "print(s)"
   ]
  },
  {
   "cell_type": "code",
   "execution_count": null,
   "metadata": {},
   "outputs": [],
   "source": [
    "s = ['43','54','32','65']\n",
    "print('#'.join(s)) # join works only with strings\n",
    "print('????'.join(s))\n",
    "print(''.join(s))\n",
    "\n"
   ]
  },
  {
   "cell_type": "code",
   "execution_count": null,
   "metadata": {},
   "outputs": [],
   "source": [
    "s  = [45,87,89,23]\n",
    "print(''.join([str(i) for i in s]))\n",
    "print(s)\n",
    "print('\\n'.join([str(i) for i in s]))\n",
    "print(s)\n",
    "print('\\t'.join([str(i) for i in s]))\n",
    "print(s)\n",
    "\n"
   ]
  },
  {
   "cell_type": "markdown",
   "metadata": {},
   "source": [
    "# Экранированные символы Python. Служебные символы в Python\n"
   ]
  },
  {
   "cell_type": "code",
   "execution_count": null,
   "metadata": {},
   "outputs": [],
   "source": [
    "'''\n",
    "\\           #ignored (new line)\n",
    "\\\\          backslash\n",
    "\\'          apostrophe\n",
    "\\\"          quatation mark\n",
    "\\a          ring\n",
    "\\b          \n",
    "\\f          format\n",
    "\\n          new line\n",
    "\\r\n",
    "\\t          horizontal tab\n",
    "\\v          vertical tab\n",
    "'''\n",
    "\n",
    "print('anewlin\\e')\n",
    "print('ab\\\\cd')\n",
    "print('ab\\'cd')\n",
    "print('ab\\\"')\n",
    "print('ab\\acd')\n",
    "print('ab\\bcd')\n",
    "print('ab\\fcd')\n",
    "print('ab\\ncd')\n",
    "print('ab\\rcd')\n",
    "print('ab\\tcd')\n",
    "print('ab\\vcd')"
   ]
  },
  {
   "cell_type": "code",
   "execution_count": null,
   "metadata": {},
   "outputs": [],
   "source": [
    "\n",
    "\n",
    "s = \"\"\"hello\n",
    "world\n",
    "hi\n",
    "bye\"\"\"\n",
    "print(s)\n",
    "\n",
    "a = 'abc\\ndef' #break\n",
    "print(a,'len of string = ', len(a))\n",
    "\n",
    "print('abc\\tdef')"
   ]
  },
  {
   "cell_type": "code",
   "execution_count": 70,
   "metadata": {},
   "outputs": [
    {
     "name": "stdout",
     "output_type": "stream",
     "text": [
      "D:\\Games\\Doom3\n",
      "abc\n",
      "re\tfgd\n",
      "gdsag\n",
      "-----\n",
      "abc\\nre\\tfgd\\ngdsag\n"
     ]
    }
   ],
   "source": [
    "print(r'D:\\Games\\Doom3')\n",
    "print('abc\\nre\\tfgd\\ngdsag')\n",
    "print('-----')\n",
    "print(r'abc\\nre\\tfgd\\ngdsag')\n"
   ]
  }
 ],
 "metadata": {
  "interpreter": {
   "hash": "c072b5b97b769e545e4a30fe0c2899590d05a0279abf2521fc01dee924670526"
  },
  "kernelspec": {
   "display_name": "Python 3.9.7 64-bit ('.venv': venv)",
   "language": "python",
   "name": "python3"
  },
  "language_info": {
   "codemirror_mode": {
    "name": "ipython",
    "version": 3
   },
   "file_extension": ".py",
   "mimetype": "text/x-python",
   "name": "python",
   "nbconvert_exporter": "python",
   "pygments_lexer": "ipython3",
   "version": "3.9.7"
  },
  "orig_nbformat": 4
 },
 "nbformat": 4,
 "nbformat_minor": 2
}
