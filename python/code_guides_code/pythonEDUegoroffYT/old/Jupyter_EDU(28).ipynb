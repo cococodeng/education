{
 "cells": [
  {
   "cell_type": "markdown",
   "metadata": {},
   "source": [
    "# 28 Вложенные циклы Python\n"
   ]
  },
  {
   "cell_type": "code",
   "execution_count": null,
   "metadata": {},
   "outputs": [],
   "source": [
    "for i in range(3):\n",
    "    for j in range(5):\n",
    "        print('*')"
   ]
  },
  {
   "cell_type": "code",
   "execution_count": 1,
   "metadata": {},
   "outputs": [
    {
     "name": "stdout",
     "output_type": "stream",
     "text": [
      "***************"
     ]
    }
   ],
   "source": [
    "for i in range(3):\n",
    "    for j in range(5):\n",
    "        print('*',end='')"
   ]
  },
  {
   "cell_type": "code",
   "execution_count": null,
   "metadata": {},
   "outputs": [],
   "source": [
    "for i in range(3):\n",
    "    for j in range(5):\n",
    "        print('*',end='')\n",
    "    print()"
   ]
  },
  {
   "cell_type": "code",
   "execution_count": null,
   "metadata": {},
   "outputs": [],
   "source": [
    "for i in range(3):\n",
    "    for j in range(5):\n",
    "        print(i,end='')\n",
    "    print()"
   ]
  },
  {
   "cell_type": "code",
   "execution_count": null,
   "metadata": {},
   "outputs": [],
   "source": [
    "for i in range(3):\n",
    "    for j in range(i):\n",
    "        print(j, end=\"\")\n",
    "    print()"
   ]
  },
  {
   "cell_type": "code",
   "execution_count": null,
   "metadata": {},
   "outputs": [],
   "source": [
    "for i in range(10):\n",
    "    for j in range(i):\n",
    "        print(j, end=\"\")\n",
    "    print()"
   ]
  },
  {
   "cell_type": "code",
   "execution_count": 2,
   "metadata": {},
   "outputs": [
    {
     "name": "stdout",
     "output_type": "stream",
     "text": [
      "1\n",
      "12\n",
      "123\n",
      "1234\n",
      "12345\n",
      "123456\n",
      "1234567\n",
      "12345678\n",
      "123456789\n"
     ]
    }
   ],
   "source": [
    "for i in range(1,10):\n",
    "    for j in range(1,i+1):\n",
    "        print(j, end=\"\")\n",
    "    print()"
   ]
  },
  {
   "cell_type": "code",
   "execution_count": null,
   "metadata": {},
   "outputs": [],
   "source": [
    "for i in range(1,4):\n",
    "    for j in range(10,13):\n",
    "        print(i,j)"
   ]
  },
  {
   "cell_type": "code",
   "execution_count": null,
   "metadata": {},
   "outputs": [],
   "source": [
    "for i in 'ab':\n",
    "    for j in 'cdef':\n",
    "        print(i,j)"
   ]
  },
  {
   "cell_type": "code",
   "execution_count": null,
   "metadata": {},
   "outputs": [],
   "source": [
    "# passw len = 3\n",
    "from string import printable\n",
    "\n",
    "# print(printable)\n",
    "for b1 in printable:\n",
    "    for b2 in printable:\n",
    "        for b3 in printable:\n",
    "            print(f'{b1}{b2}{b3}')\n"
   ]
  },
  {
   "cell_type": "code",
   "execution_count": null,
   "metadata": {},
   "outputs": [],
   "source": [
    "for j in range(1,11):\n",
    "    for i in range(1,11):\n",
    "        print(f' {i} * {j} = {i*j} ',end='')\n",
    "    print()"
   ]
  },
  {
   "cell_type": "code",
   "execution_count": null,
   "metadata": {},
   "outputs": [],
   "source": [
    "k=0\n",
    "for b1 in 'tukva':\n",
    "    for b2 in 'tukva':\n",
    "        for b3 in 'tukva':\n",
    "            for b4 in 'tukva':\n",
    "                for b5 in 'tukva':\n",
    "                    for b6 in 'tukva':\n",
    "                        rez = b1+b2+b3+b4+b5+b6\n",
    "                        if rez[0] in 'tkv' and rez[-1] in 'tkv':\n",
    "                            if rez.count('a')+rez.count('u')==2:\n",
    "                                k=k+1\n",
    "print(k)                                "
   ]
  },
  {
   "cell_type": "code",
   "execution_count": null,
   "metadata": {},
   "outputs": [],
   "source": [
    "x=int(input())\n",
    "s=0\n",
    "while x>0:\n",
    "    s=s+x%10\n",
    "    x=x//10\n",
    "print(s)"
   ]
  },
  {
   "cell_type": "code",
   "execution_count": null,
   "metadata": {},
   "outputs": [],
   "source": [
    "for i in range(1,100001):\n",
    "    x = i\n",
    "    s = 0\n",
    "    while x > 0:\n",
    "        s = s + x % 10\n",
    "        x = x // 10\n",
    "    print(s)\n",
    "    print(i,s)"
   ]
  },
  {
   "cell_type": "markdown",
   "metadata": {},
   "source": [
    "# 29 Вложенные списки Python\n"
   ]
  },
  {
   "cell_type": "code",
   "execution_count": null,
   "metadata": {},
   "outputs": [],
   "source": [
    "# nested list\n",
    "a = [[0, 2, 4, 6], [1, 5, 9, 13], [3, 5, [4, 5, 7, 11], 10, 17, 19]]\n",
    "print(len(a))\n",
    "print(a[2])\n",
    "print(a[2][2])\n",
    "print(a[0][3])\n",
    "print(a[2][2][1])\n"
   ]
  },
  {
   "cell_type": "code",
   "execution_count": null,
   "metadata": {},
   "outputs": [],
   "source": [
    "# nested list\n",
    "a = [[0, 2, 4, 6], [1, 5, 9, 13], [3, 5, [4, 5, 7, 11], 10, 17, 19]]\n",
    "b = ['hello', 'hi', 'world']\n",
    "print(b[2])\n",
    "print(b[2][0])\n",
    "print(b[2][-1])"
   ]
  },
  {
   "cell_type": "code",
   "execution_count": 3,
   "metadata": {},
   "outputs": [
    {
     "name": "stdout",
     "output_type": "stream",
     "text": [
      "[0, 2, 4, 6]\n",
      "[1, 5, 9, 13]\n",
      "[3, 10, 17, 19]\n"
     ]
    }
   ],
   "source": [
    "a = [\n",
    "    [0, 2, 4, 6],\n",
    "    [1, 5, 9, 13],\n",
    "    [3, 10, 17, 19]\n",
    "]\n",
    "\n",
    "for i in a:\n",
    "    print(i)"
   ]
  },
  {
   "cell_type": "code",
   "execution_count": 2,
   "metadata": {},
   "outputs": [
    {
     "name": "stdout",
     "output_type": "stream",
     "text": [
      "0\n",
      "2\n",
      "4\n",
      "6\n",
      "1\n",
      "5\n",
      "9\n",
      "13\n",
      "3\n",
      "10\n",
      "17\n",
      "19\n"
     ]
    }
   ],
   "source": [
    "a = [\n",
    "    [0, 2, 4, 6],\n",
    "    [1, 5, 9, 13],\n",
    "    [3, 10, 17, 19]\n",
    "]\n",
    "\n",
    "for i in a:\n",
    "    for j in i:\n",
    "        print(j)\n"
   ]
  },
  {
   "cell_type": "code",
   "execution_count": null,
   "metadata": {},
   "outputs": [],
   "source": [
    "a = [\n",
    "    [0, 2, 4, 6],\n",
    "    [1, 5, 9, 13],\n",
    "    [3, 10, 17, 19]\n",
    "]\n",
    "\n",
    "for i in a:\n",
    "    for j in i:\n",
    "        print(j, end=\" \")\n",
    "    print()\n"
   ]
  },
  {
   "cell_type": "code",
   "execution_count": null,
   "metadata": {},
   "outputs": [],
   "source": [
    "a = [\n",
    "    [0, 2, 4, 6],\n",
    "    [1, 5, 9, 13],\n",
    "    [3, 10, 17, 19]\n",
    "]\n",
    "\n",
    "for i in a:\n",
    "    for j in i:\n",
    "        j += 10\n",
    "        print(j, end=\" \")\n",
    "    print()\n",
    "print(a)\n"
   ]
  },
  {
   "cell_type": "code",
   "execution_count": null,
   "metadata": {},
   "outputs": [],
   "source": [
    "a = [\n",
    "    [0, 2, 4, 6],\n",
    "    [1, 5, 9, 13],\n",
    "    [3, 10, 17, 19]\n",
    "]\n",
    "\n",
    "for i in range(3):\n",
    "    for j in range(4):\n",
    "        print(a[i][j], end=\" \")\n",
    "    print()\n"
   ]
  },
  {
   "cell_type": "code",
   "execution_count": null,
   "metadata": {},
   "outputs": [],
   "source": [
    "a = [\n",
    "    [0, 2, 4, 6],\n",
    "    [1, 5, 9, 13],\n",
    "    [3, 10, 17, 19]\n",
    "]\n",
    "\n",
    "for i in range(3):\n",
    "    for j in range(4):\n",
    "        a[i][j] += 10\n",
    "        print(a[i][j], end=\" \")\n",
    "    print()\n",
    "print(a)\n"
   ]
  },
  {
   "cell_type": "code",
   "execution_count": null,
   "metadata": {},
   "outputs": [],
   "source": [
    "a = [\n",
    "    [0, 2, 4, 6],\n",
    "    [1, 5, 9, 13],\n",
    "    [3, 10, 17, 19]\n",
    "]\n",
    "for j in range(4):\n",
    "    for i in range(3):\n",
    "        print(a[i][j], end=\" \")\n",
    "    print()\n",
    "print(a)\n",
    "for i in range(2, -1, -1):\n",
    "    for j in range(3, -1, -1):\n",
    "        print(a[i][j], end=\" \")\n",
    "    print()\n"
   ]
  },
  {
   "cell_type": "code",
   "execution_count": null,
   "metadata": {},
   "outputs": [],
   "source": [
    "a = [\n",
    "    [0, 2, 4, 6],\n",
    "    [1, 5, 9, 13],\n",
    "    [3, 10, 17, 19]\n",
    "]\n",
    "for i in range(3):\n",
    "    s=0\n",
    "    for j in range(4):\n",
    "        s+=a[i][j]\n",
    "    print(s)"
   ]
  },
  {
   "cell_type": "code",
   "execution_count": null,
   "metadata": {},
   "outputs": [],
   "source": [
    "a = [\n",
    "    [0, 2, 4, 6],\n",
    "    [1, 5, 9, 13],\n",
    "    [3, 10, 17, 19]\n",
    "]\n",
    "for j in range(4):\n",
    "    s=0\n",
    "    for i in range(3):\n",
    "        s+=a[i][j]\n",
    "    print(s)"
   ]
  },
  {
   "cell_type": "code",
   "execution_count": null,
   "metadata": {},
   "outputs": [],
   "source": [
    "a=[]\n",
    "n=int(input('Stroka'))\n",
    "m=int(input('Stolbec'))\n",
    "for i in range(n):\n",
    "    a.append([0]*m)\n",
    "for i in a:\n",
    "    print(i)\n"
   ]
  },
  {
   "cell_type": "code",
   "execution_count": null,
   "metadata": {},
   "outputs": [],
   "source": [
    "a=[]\n",
    "n=int(input('Stroka'))\n",
    "m=int(input('Stolbec'))\n",
    "\n",
    "for i in range(n):\n",
    "    b=[]\n",
    "    for i in range(m):\n",
    "        b.append(int(input()))\n",
    "    a.append(b)\n",
    "for i in a:\n",
    "    print(i)\n",
    "print(a)"
   ]
  },
  {
   "cell_type": "code",
   "execution_count": null,
   "metadata": {},
   "outputs": [],
   "source": [
    "a=[]\n",
    "n=int(input())\n",
    "for i in range(n):\n",
    "    a.append([0]*(n))\n",
    "\n",
    "for i in a:\n",
    "    print(i)\n",
    "\n",
    "for i in range(n):\n",
    "    for j in range(n):\n",
    "        if i==j:\n",
    "            a[i][j]=10\n",
    "        elif i>j:\n",
    "            a[i][j]=3\n",
    "        else:\n",
    "            a[i][j]=5\n",
    "print(f'---')\n",
    "for i in a:\n",
    "    print(i)"
   ]
  },
  {
   "cell_type": "markdown",
   "metadata": {},
   "source": [
    "# Задачи"
   ]
  },
  {
   "cell_type": "code",
   "execution_count": null,
   "metadata": {},
   "outputs": [],
   "source": [
    "# Задана целочисленная квадратная матрица размером N x N. Требуется транспонировать ее относительно главной диагонали.\n",
    "\n",
    "n = 5\n",
    "a = [\n",
    "    [1, 2, 3, 4, 5],\n",
    "    [6, 7, 8, 9, 10],\n",
    "    [11, 12, 13, 14, 15],\n",
    "    [16, 17, 18, 19, 20],\n",
    "    [21, 22, 23, 24, 25]\n",
    "]\n",
    "for i in range(n):\n",
    "    for j in range(n):\n",
    "        print(a[i][j], end='  ')\n",
    "    print()\n",
    "print('---')\n",
    "\n",
    "for i in range(n):\n",
    "    for j in range(n):\n",
    "        print(a[j][i], end='  ')\n",
    "    print()\n"
   ]
  },
  {
   "cell_type": "code",
   "execution_count": null,
   "metadata": {},
   "outputs": [],
   "source": [
    "# random matrix\n",
    "import random\n",
    "n = int(input('N'))\n",
    "a=[]\n",
    "for i in range(n):\n",
    "    b=[]\n",
    "    for j in range(n):\n",
    "        b.append(random.randint(1,1001))\n",
    "    a.append(b)\n",
    "print(a)\n",
    "#########\n",
    "for i in range(n):\n",
    "    for j in range(n):\n",
    "        print(a[i][j], end='  ')\n",
    "    print()\n",
    "print('---')\n",
    "\n",
    "for i in range(n-1, -1, -1):\n",
    "    for j in range(n-1, -1, -1):\n",
    "        print(a[j][i], end='  ')\n",
    "    print()\n",
    "\n",
    "print('---')\n",
    "\n",
    "for i in range(n):\n",
    "    for j in range(n):\n",
    "        print(a[j][i], end=' ')\n",
    "    print()"
   ]
  },
  {
   "cell_type": "code",
   "execution_count": 1,
   "metadata": {},
   "outputs": [
    {
     "name": "stdout",
     "output_type": "stream",
     "text": [
      "1      2      3      4      5      \n",
      "16      17      18      19      1      \n",
      "15      24      25      1      1      \n",
      "14      23      22      1      1      \n",
      "13      12      11      10      1      \n",
      "------\n",
      "i=2 j=2 stepsToFill List=[0]\n"
     ]
    }
   ],
   "source": [
    "matrixSize=5\n",
    "mainMatrix=[]\n",
    "stepsToFill=[]\n",
    "initialNumber = 1\n",
    "\n",
    "for i in range(matrixSize): #Matrix Creation\n",
    "    b=[]\n",
    "    for j in range(matrixSize):\n",
    "        b.append(0)\n",
    "    mainMatrix.append(b)\n",
    "\n",
    "for k in range(matrixSize,0,-1): #Steps to \"Fill untill turn\" list Creation\n",
    "    stepsToFill.append(k)\n",
    "    stepsToFill.append(k-1)\n",
    "\n",
    "i,j=0,-1 #First Line Fills Specially!!!\n",
    "for step in range(stepsToFill[0]):\n",
    "    j+=1\n",
    "    mainMatrix[i][j]=initialNumber\n",
    "    initialNumber+=1\n",
    "stepsToFill.pop(0)\n",
    "\n",
    "# Rest Fill\n",
    "while len(stepsToFill)>1:\n",
    "\n",
    "    for step in range(stepsToFill[0]):\n",
    "        mainMatrix[i+1][j]=1\n",
    "        initialNumber=initialNumber+1\n",
    "        i=i+1\n",
    "    stepsToFill.pop(0)\n",
    "    if initialNumber>matrixSize*matrixSize:\n",
    "        break\n",
    "    for step in range(stepsToFill[0]):\n",
    "        mainMatrix[i][j-1]=initialNumber\n",
    "        initialNumber=initialNumber+1\n",
    "        j=j-1\n",
    "    stepsToFill.pop(0)\n",
    "    if initialNumber>matrixSize*matrixSize:\n",
    "        break\n",
    "    for step in range(stepsToFill[0]):\n",
    "        mainMatrix[i-1][j]=initialNumber\n",
    "        initialNumber=initialNumber+1\n",
    "        i=i-1\n",
    "    stepsToFill.pop(0)\n",
    "    if initialNumber>matrixSize*matrixSize:\n",
    "        break\n",
    "    for step in range(stepsToFill[0]):\n",
    "        mainMatrix[i][j+1]=initialNumber\n",
    "        initialNumber=initialNumber+1\n",
    "        j=j+1\n",
    "    stepsToFill.pop(0)\n",
    "    if initialNumber>matrixSize*matrixSize:\n",
    "        break\n",
    "\n",
    "for col in mainMatrix: #Matrix Print\n",
    "    for row in col:\n",
    "        print(row,end='      ')\n",
    "    print()\n",
    "\n",
    "print('------') #Debug\n",
    "print(f'i={i} j={j} stepsToFill List={stepsToFill}')\n",
    "\n",
    "\n"
   ]
  },
  {
   "cell_type": "code",
   "execution_count": 4,
   "metadata": {},
   "outputs": [
    {
     "name": "stdout",
     "output_type": "stream",
     "text": [
      "1  2  3  4  5  \n",
      "6  7  8  9  10  \n",
      "11  12  13  14  15  \n",
      "16  17  18  19  20  \n",
      "21  22  23  24  25  \n",
      "---\n",
      "25  20  15  10  5  \n",
      "24  19  14  9  4  \n",
      "23  18  13  8  3  \n",
      "22  17  12  7  2  \n",
      "21  16  11  6  1  \n"
     ]
    }
   ],
   "source": [
    "# Задана целочисленная квадратная матрица размером N x N. Требуется транспонировать ее относительно побочной диагонали.\n",
    "n = 5\n",
    "a = [\n",
    "    [1, 2, 3, 4, 5],\n",
    "    [6, 7, 8, 9, 10],\n",
    "    [11, 12, 13, 14, 15],\n",
    "    [16, 17, 18, 19, 20],\n",
    "    [21, 22, 23, 24, 25]\n",
    "]\n",
    "for i in range(n):\n",
    "    for j in range(n):\n",
    "        print(a[i][j], end='  ')\n",
    "    print()\n",
    "print('---')\n",
    "\n",
    "for i in range(n-1, -1, -1):\n",
    "    for j in range(n-1, -1, -1):\n",
    "        print(a[j][i], end='  ')\n",
    "    print()\n"
   ]
  },
  {
   "cell_type": "code",
   "execution_count": 1,
   "metadata": {},
   "outputs": [
    {
     "ename": "TypeError",
     "evalue": "list indices must be integers or slices, not list",
     "output_type": "error",
     "traceback": [
      "\u001b[1;31m---------------------------------------------------------------------------\u001b[0m",
      "\u001b[1;31mTypeError\u001b[0m                                 Traceback (most recent call last)",
      "\u001b[1;32m~\\AppData\\Local\\Temp/ipykernel_3780/1576714102.py\u001b[0m in \u001b[0;36m<module>\u001b[1;34m\u001b[0m\n\u001b[0;32m     16\u001b[0m \u001b[1;32mfor\u001b[0m \u001b[0mrow\u001b[0m \u001b[1;32min\u001b[0m \u001b[0mmat\u001b[0m\u001b[1;33m:\u001b[0m\u001b[1;33m\u001b[0m\u001b[1;33m\u001b[0m\u001b[0m\n\u001b[0;32m     17\u001b[0m     \u001b[1;32mfor\u001b[0m \u001b[0mcol\u001b[0m \u001b[1;32min\u001b[0m \u001b[0mrow\u001b[0m\u001b[1;33m:\u001b[0m\u001b[1;33m\u001b[0m\u001b[1;33m\u001b[0m\u001b[0m\n\u001b[1;32m---> 18\u001b[1;33m         \u001b[1;32mif\u001b[0m \u001b[0mmat\u001b[0m\u001b[1;33m[\u001b[0m\u001b[0mrow\u001b[0m\u001b[1;33m]\u001b[0m\u001b[1;33m[\u001b[0m\u001b[0mcol\u001b[0m\u001b[1;33m]\u001b[0m\u001b[1;33m==\u001b[0m\u001b[1;36m1\u001b[0m\u001b[1;33m:\u001b[0m\u001b[1;33m\u001b[0m\u001b[1;33m\u001b[0m\u001b[0m\n\u001b[0m\u001b[0;32m     19\u001b[0m             \u001b[0mcoord1x\u001b[0m\u001b[1;33m=\u001b[0m\u001b[0mcol\u001b[0m\u001b[1;33m\u001b[0m\u001b[1;33m\u001b[0m\u001b[0m\n\u001b[0;32m     20\u001b[0m             \u001b[0mcoord1y\u001b[0m\u001b[1;33m=\u001b[0m\u001b[0mrow\u001b[0m\u001b[1;33m\u001b[0m\u001b[1;33m\u001b[0m\u001b[0m\n",
      "\u001b[1;31mTypeError\u001b[0m: list indices must be integers or slices, not list"
     ]
    }
   ],
   "source": [
    "# Не решил\n",
    "\n",
    "\n",
    "# Перед Вами матрица размера 5 × 5, состоящая из 24-x нулей и единственной единицы. Строки матрицы пронумеруем числами от 1 до 5 сверху вниз, столбцы матрицы пронумеруем числами от 1 до 5 слева направо. За один ход разрешается применить к матрице одно из двух следующих преобразований:\n",
    "\n",
    "# Поменять местами две соседние строки матрицы, то есть строки с номерами i и i + 1 для некоторого целого i (1 ≤ i < 5).\n",
    "# Поменять местами два соседних столбца матрицы, то есть столбцы с номерами j и j + 1 для некоторого целого j (1 ≤ j < 5).\n",
    "# Вы считаете, что матрица будет выглядеть красиво, если единственная единица этой матрицы будет находиться в ее центре (в клетке, которая находится на пересечении третьей строки и третьего столбца). Посчитайте, какое минимальное количество ходов потребуется, чтобы сделать матрицу красивой.\n",
    "\n",
    "mat =[\n",
    "    [0,0,0,0,0],\n",
    "    [0,0,0,0,1],\n",
    "    [0,0,0,0,0],\n",
    "    [0,0,0,0,0],\n",
    "    [0,0,0,0,0]\n",
    "]\n",
    "coord1x = 0\n",
    "coord1y = 0\n",
    "for row in mat:\n",
    "    for col in row:\n",
    "        if mat[row][col]==1:\n",
    "            coord1x=col\n",
    "            coord1y=row\n",
    "print(coord1x,coord1y)"
   ]
  },
  {
   "cell_type": "code",
   "execution_count": 5,
   "metadata": {},
   "outputs": [
    {
     "name": "stdout",
     "output_type": "stream",
     "text": [
      "square found at left square corner coordinates I J 2 1\n",
      "square found at left square corner coordinates I J 2 2\n"
     ]
    }
   ],
   "source": [
    "# На днях Иван у себя в прихожей выложил кафель, состоящий из квадратных черных и белых плиток. Прихожая Ивана имеет квадратную форму 4х4, вмещающую 16 плиток. Теперь Иван переживает, что узор из плиток, который у него получился, может быть не симпатичным. С точки зрения дизайна симпатичным узором считается тот, который не содержит в себе квадрата 2х2, состоящего из плиток одного цвета.\n",
    "A = [\n",
    "    ['B','W','B','W'],\n",
    "    ['B','B','W','B'],\n",
    "    ['W','W','B','B'],\n",
    "    ['B','W','W','W']\n",
    "]\n",
    "\n",
    "A = [\n",
    "    ['B','W','B','W'],\n",
    "    ['B','W','B','W'],\n",
    "    ['B','W','W','W'],\n",
    "    ['B','W','W','W']\n",
    "]\n",
    "\n",
    "\n",
    "for i in range(len(A)-1):\n",
    "    for j in range(len(A[i])-1):\n",
    "        if (A[i][j]==A[i+1][j]==A[i][j+1]==A[i+1][j+1]):\n",
    "            print('square found at left square corner coordinates I J',i,j)\n",
    "\n",
    "        \n",
    "\n"
   ]
  },
  {
   "cell_type": "code",
   "execution_count": 12,
   "metadata": {},
   "outputs": [
    {
     "name": "stdout",
     "output_type": "stream",
     "text": [
      "[[1, 0], [1, 1]]\n",
      "Matrix is  not symmetrical\n"
     ]
    }
   ],
   "source": [
    "#Задача №355. Симметричная ли матрица?\n",
    "n = int(input('Rows and columns = '))\n",
    "A = []\n",
    "symmetrical=True\n",
    "\n",
    "for i in range(n):\n",
    "    A.append(list(map(int, input('Enter row').split(' ',2))))\n",
    "print(A)\n",
    "\n",
    "for row in range(len(A)):\n",
    "    for col in range(row):\n",
    "        if A[col][row] != A[row][col]:\n",
    "            symmetrical=False\n",
    "            break\n",
    "\n",
    "print('Matrix is ', (not symmetrical)*'not', 'symmetrical')\n",
    "\n",
    "\n"
   ]
  }
 ],
 "metadata": {
  "interpreter": {
   "hash": "c072b5b97b769e545e4a30fe0c2899590d05a0279abf2521fc01dee924670526"
  },
  "kernelspec": {
   "display_name": "Python 3.9.7 64-bit ('.venv': venv)",
   "name": "python3"
  },
  "language_info": {
   "codemirror_mode": {
    "name": "ipython",
    "version": 3
   },
   "file_extension": ".py",
   "mimetype": "text/x-python",
   "name": "python",
   "nbconvert_exporter": "python",
   "pygments_lexer": "ipython3",
   "version": "3.9.7"
  },
  "orig_nbformat": 4
 },
 "nbformat": 4,
 "nbformat_minor": 2
}
