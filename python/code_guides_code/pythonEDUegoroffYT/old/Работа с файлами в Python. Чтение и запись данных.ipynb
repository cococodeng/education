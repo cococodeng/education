{
 "cells": [
  {
   "cell_type": "markdown",
   "metadata": {},
   "source": [
    "# Работа с файлами в Python. Чтение и запись данных\n"
   ]
  },
  {
   "cell_type": "code",
   "execution_count": null,
   "metadata": {},
   "outputs": [],
   "source": [
    "file = open(r'.\\Files\\111.txt', encoding = 'utf-8') #utf-8 for cyrillic\n",
    "# file = open(r'D:\\Someshit\\Coding\\Python\\eduEgoroffYT\\Files\\111.txt', encoding = 'utf-8')  # RMB -> copy path\n",
    "print(file.read())\n",
    "\n"
   ]
  },
  {
   "cell_type": "code",
   "execution_count": null,
   "metadata": {},
   "outputs": [],
   "source": [
    "file = open(r'.\\Files\\111.txt', encoding = 'utf-8') #utf-8 for cyrillic\n",
    "# file = open(r'D:\\Someshit\\Coding\\Python\\eduEgoroffYT\\Files\\111.txt', encoding = 'utf-8')  # RMB -> copy path\n",
    "print(file.read(2)) #read first 2 symbols\n"
   ]
  },
  {
   "cell_type": "code",
   "execution_count": null,
   "metadata": {},
   "outputs": [],
   "source": [
    "file = open(r'.\\Files\\111.txt', encoding = 'utf-8') #utf-8 for cyrillic\n",
    "# file = open(r'D:\\Someshit\\Coding\\Python\\eduEgoroffYT\\Files\\111.txt', encoding = 'utf-8')  # RMB -> copy path\n",
    "print(file.read(3))\n",
    "print(file.read(3))\n",
    "file.seek(0) # сдвинуть каретку на начало\n",
    "print(file.read(3))\n"
   ]
  },
  {
   "cell_type": "code",
   "execution_count": null,
   "metadata": {},
   "outputs": [],
   "source": [
    "file = open(r'.\\Files\\111.txt', encoding = 'utf-8') #utf-8 for cyrillic\n",
    "# file = open(r'D:\\Someshit\\Coding\\Python\\eduEgoroffYT\\Files\\111.txt', encoding = 'utf-8')  # RMB -> copy path\n",
    "print(file.readline())\n",
    "print(file.readline())\n",
    "print(file.readline())\n"
   ]
  },
  {
   "cell_type": "code",
   "execution_count": null,
   "metadata": {},
   "outputs": [],
   "source": [
    "file = open(r'.\\Files\\111.txt', encoding = 'utf-8') #utf-8 for cyrillic\n",
    "\n",
    "for row in file:\n",
    "    print(row,end='') # print every row"
   ]
  },
  {
   "cell_type": "code",
   "execution_count": null,
   "metadata": {},
   "outputs": [],
   "source": [
    "file = open(r'.\\Files\\111.txt', encoding = 'utf-8') #utf-8 for cyrillic\n",
    "\n",
    "for row in file:\n",
    "    for letter in row:\n",
    "        print(letter,end='#')"
   ]
  },
  {
   "cell_type": "code",
   "execution_count": null,
   "metadata": {},
   "outputs": [],
   "source": [
    "file = open(r'.\\Files\\111.txt', encoding = 'utf-8') #utf-8 for cyrillic\n",
    "s = file.readlines()\n",
    "print(s) # creates a list"
   ]
  },
  {
   "cell_type": "markdown",
   "metadata": {},
   "source": [
    "# WRITE\n"
   ]
  },
  {
   "cell_type": "code",
   "execution_count": null,
   "metadata": {},
   "outputs": [],
   "source": [
    "file = open(r'.\\Files\\222write.txt', 'r', encoding='utf-8') # opens for read only # r - default\n",
    "file.write('hello') #not writable error\n"
   ]
  },
  {
   "cell_type": "code",
   "execution_count": null,
   "metadata": {},
   "outputs": [],
   "source": [
    "file = open(r'.\\Files\\222write.txt', 'w', encoding='utf-8') # write only\n",
    "file.write('hello') \n",
    "file.write('hello') \n",
    "file.write('hello') "
   ]
  },
  {
   "cell_type": "code",
   "execution_count": null,
   "metadata": {},
   "outputs": [],
   "source": [
    "file = open(r'.\\Files\\222write.txt', 'w', encoding='utf-8')\n",
    "file.write('hello1\\n') \n",
    "file.write('hello2\\n') \n",
    "file.write('hello3\\n') "
   ]
  },
  {
   "cell_type": "code",
   "execution_count": null,
   "metadata": {},
   "outputs": [],
   "source": [
    "file = open(r'.\\Files\\222write.txt', 'a', encoding='utf-8') #append mode #write only\n",
    "file.write('hello1\\n') \n",
    "file.write('hello2\\n') \n",
    "file.write('hello3\\n') "
   ]
  },
  {
   "cell_type": "code",
   "execution_count": 65,
   "metadata": {},
   "outputs": [
    {
     "data": {
      "text/plain": [
       "''"
      ]
     },
     "execution_count": 65,
     "metadata": {},
     "output_type": "execute_result"
    }
   ],
   "source": [
    "file = open(r'.\\Files\\222write.txt', 'a+', encoding='utf-8') #write and read\n",
    "file.write('hello1\\n') \n",
    "file.write('hello2\\n') \n",
    "file.write('hello3\\n') \n",
    "file.read()"
   ]
  },
  {
   "cell_type": "code",
   "execution_count": 68,
   "metadata": {},
   "outputs": [
    {
     "data": {
      "text/plain": [
       "''"
      ]
     },
     "execution_count": 68,
     "metadata": {},
     "output_type": "execute_result"
    }
   ],
   "source": [
    "# Сначала открываем\n",
    "file = open(r'.\\Files\\222write.txt', 'a+', encoding='utf-8') #write and read\n",
    "file.read()\n",
    "# Обработка файла\n",
    "\n",
    "# Закрытие файла\n",
    "file.close() # необходимо делать чтобы освободить память\n"
   ]
  },
  {
   "cell_type": "code",
   "execution_count": null,
   "metadata": {},
   "outputs": [],
   "source": [
    "# Сначала открываем\n",
    "file = open(r'.\\Files\\222write.txt', 'a+', encoding='utf-8') #write and read\n",
    "file.read()\n",
    "# Обработка файла\n",
    "# Если тут ошибка то не закроется, лучше обворачивать в try/except, менеджер контекстов\n",
    "\n",
    "# Закрытие файла\n",
    "file.close() # необходимо делать чтобы освободить память\n"
   ]
  }
 ],
 "metadata": {
  "interpreter": {
   "hash": "c072b5b97b769e545e4a30fe0c2899590d05a0279abf2521fc01dee924670526"
  },
  "kernelspec": {
   "display_name": "Python 3.9.7 64-bit ('.venv': venv)",
   "language": "python",
   "name": "python3"
  },
  "language_info": {
   "codemirror_mode": {
    "name": "ipython",
    "version": 3
   },
   "file_extension": ".py",
   "mimetype": "text/x-python",
   "name": "python",
   "nbconvert_exporter": "python",
   "pygments_lexer": "ipython3",
   "version": "3.9.7"
  },
  "orig_nbformat": 4
 },
 "nbformat": 4,
 "nbformat_minor": 2
}
