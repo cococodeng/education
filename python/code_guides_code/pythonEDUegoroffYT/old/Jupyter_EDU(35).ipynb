{
 "cells": [
  {
   "cell_type": "markdown",
   "metadata": {},
   "source": [
    "# 35 Функции (def) в Python. Определение и вызов функции\n"
   ]
  },
  {
   "cell_type": "code",
   "execution_count": null,
   "metadata": {},
   "outputs": [],
   "source": [
    "def sayHello():\n",
    "    print('hello')\n",
    "    print('world')\n",
    "    print('and everybody')\n",
    "\n",
    "sayHello()\n",
    "print('pause')\n",
    "sayHello()\n"
   ]
  },
  {
   "cell_type": "code",
   "execution_count": null,
   "metadata": {},
   "outputs": [],
   "source": [
    "def square(x):\n",
    "    print(f'Square of {x} =', x**2)\n",
    "\n",
    "square(5)\n",
    "\n",
    "for i in range(1,11):\n",
    "    square(i)"
   ]
  },
  {
   "cell_type": "code",
   "execution_count": null,
   "metadata": {},
   "outputs": [],
   "source": [
    "if 5>2:\n",
    "    def exampleF():\n",
    "        print('Condition is true')\n",
    "else:        \n",
    "    def exampleF():\n",
    "        print('Condition if False')\n",
    "\n",
    "exampleF()"
   ]
  },
  {
   "cell_type": "markdown",
   "metadata": {},
   "source": [
    "# 37 Возвращаемое значение функции. Оператор return Python\n"
   ]
  },
  {
   "cell_type": "code",
   "execution_count": null,
   "metadata": {},
   "outputs": [],
   "source": [
    "a = abs(-22)\n",
    "print(a)\n",
    "b = max(4,abs(-90),4,min(100,200))\n",
    "print(b)"
   ]
  },
  {
   "cell_type": "code",
   "execution_count": null,
   "metadata": {},
   "outputs": [],
   "source": [
    "def square(x):\n",
    "    print(x**2)\n",
    "\n",
    "a = square(6)\n",
    "print(a)\n",
    "\n",
    "# def square(x):\n",
    "    # print(x**2)\n",
    "    # return None\n"
   ]
  },
  {
   "cell_type": "code",
   "execution_count": null,
   "metadata": {},
   "outputs": [],
   "source": [
    "def square(x):\n",
    "    return x**2\n",
    "\n",
    "a = square(6)\n",
    "print(a)\n",
    "print(square(square(3)))"
   ]
  },
  {
   "cell_type": "code",
   "execution_count": null,
   "metadata": {},
   "outputs": [],
   "source": [
    "def exampleF2():\n",
    "    print(1)\n",
    "    print(2)\n",
    "    return 'hello'\n",
    "    print(3)\n",
    "    print(4)\n",
    "\n",
    "print(exampleF2())"
   ]
  },
  {
   "cell_type": "code",
   "execution_count": null,
   "metadata": {},
   "outputs": [],
   "source": [
    "def even(x):\n",
    "    if x%2==0:\n",
    "        return True\n",
    "    else:\n",
    "        return False\n",
    "\n",
    "for i in range(1,11):\n",
    "    print(i,even(i))"
   ]
  },
  {
   "cell_type": "code",
   "execution_count": null,
   "metadata": {},
   "outputs": [],
   "source": [
    "def even(x):\n",
    "    if x%2==0:\n",
    "        return True\n",
    "    return False\n",
    "\n",
    "for i in range(1,11):\n",
    "    print(i,even(i))"
   ]
  },
  {
   "cell_type": "code",
   "execution_count": null,
   "metadata": {},
   "outputs": [],
   "source": [
    "def even(x):\n",
    "    return x%2==0\n",
    "\n",
    "for i in range(1,11):\n",
    "    print(i,even(i))"
   ]
  },
  {
   "cell_type": "code",
   "execution_count": null,
   "metadata": {},
   "outputs": [],
   "source": [
    "def factorial(x):\n",
    "    pr = 1\n",
    "    for i in range(2,x+1):\n",
    "        pr=pr*i\n",
    "    return pr\n",
    "\n",
    "for i in range(1,8):\n",
    "    print(i,factorial(i))\n",
    "\n",
    "\n",
    "def sochet(n,k):\n",
    "    return factorial(n)/(factorial(k)*factorial(n-k))\n",
    "\n",
    "print(sochet(5,3))"
   ]
  },
  {
   "cell_type": "code",
   "execution_count": null,
   "metadata": {},
   "outputs": [],
   "source": [
    "def sqAndPer(a,b):\n",
    "    return a*b, 2*(a+b)\n",
    "\n",
    "print(sqAndPer(3,6))    \n",
    "square, perimeter = sqAndPer(2,5)\n",
    "print(square, perimeter)"
   ]
  },
  {
   "cell_type": "markdown",
   "metadata": {},
   "source": [
    "# 40 *args и **kwargs Python. Передача аргументов в функцию\n"
   ]
  },
  {
   "cell_type": "code",
   "execution_count": null,
   "metadata": {},
   "outputs": [],
   "source": [
    "a,b,c=True,7,'Hello'\n",
    "print(a,b,c)"
   ]
  },
  {
   "cell_type": "code",
   "execution_count": null,
   "metadata": {},
   "outputs": [],
   "source": [
    "a,b,c=True,7,'Hello',4\n",
    "print(a,b,c)"
   ]
  },
  {
   "cell_type": "code",
   "execution_count": null,
   "metadata": {},
   "outputs": [],
   "source": [
    "a,b,c,d,g=True,7,'Hello'\n",
    "print(a,b,c)"
   ]
  },
  {
   "cell_type": "code",
   "execution_count": 5,
   "metadata": {},
   "outputs": [
    {
     "name": "stdout",
     "output_type": "stream",
     "text": [
      "True [7, 'Hello', 9, '54', 65, 3] 4\n",
      "True [7, 'Hello', 9, '54', 65, 3] 4\n"
     ]
    }
   ],
   "source": [
    "a,*b,c= [True, 7, 'Hello', 9,'54',65,3,4]\n",
    "print(a,b,c)\n",
    "a,*b,c= (True, 7, 'Hello', 9,'54',65,3,4)\n",
    "print(a,b,c)"
   ]
  },
  {
   "cell_type": "code",
   "execution_count": 6,
   "metadata": {},
   "outputs": [
    {
     "name": "stdout",
     "output_type": "stream",
     "text": [
      "True 7 ['Hello', 9, '54', 65, 3, 4]\n"
     ]
    }
   ],
   "source": [
    "a,b,*c= [True, 7, 'Hello', 9,'54',65,3,4]\n",
    "print(a,b,c)"
   ]
  },
  {
   "cell_type": "code",
   "execution_count": 8,
   "metadata": {},
   "outputs": [
    {
     "ename": "SyntaxError",
     "evalue": "multiple starred expressions in assignment (Temp/ipykernel_15148/3514891596.py, line 1)",
     "output_type": "error",
     "traceback": [
      "\u001b[1;36m  File \u001b[1;32m\"C:\\Users\\pingvi\\AppData\\Local\\Temp/ipykernel_15148/3514891596.py\"\u001b[1;36m, line \u001b[1;32m1\u001b[0m\n\u001b[1;33m    *a,b,*c= [True, 7, 'Hello', 9,'54',65,3,4]\u001b[0m\n\u001b[1;37m    ^\u001b[0m\n\u001b[1;31mSyntaxError\u001b[0m\u001b[1;31m:\u001b[0m multiple starred expressions in assignment\n"
     ]
    }
   ],
   "source": [
    "*a,b,c= [True, 7, 'Hello', 9,'54',65,3,4]\n",
    "print(a,b,c)"
   ]
  },
  {
   "cell_type": "code",
   "execution_count": 9,
   "metadata": {},
   "outputs": [
    {
     "name": "stdout",
     "output_type": "stream",
     "text": [
      "['H', 'e', 'l'] l o\n"
     ]
    }
   ],
   "source": [
    "*a,b,c = 'Hello'\n",
    "print(a,b,c)\n",
    "\n"
   ]
  },
  {
   "cell_type": "code",
   "execution_count": 10,
   "metadata": {},
   "outputs": [
    {
     "name": "stdout",
     "output_type": "stream",
     "text": [
      "[] 2 3\n"
     ]
    }
   ],
   "source": [
    "*a,b,c=[2,3]\n",
    "print(a,b,c)"
   ]
  },
  {
   "cell_type": "code",
   "execution_count": 15,
   "metadata": {},
   "outputs": [
    {
     "name": "stdout",
     "output_type": "stream",
     "text": [
      "[1, 2, 3, 4]\n",
      "[4, 5, 6, 7, 8, 9]\n"
     ]
    }
   ],
   "source": [
    "s = [4,10]\n",
    "print(list(range(1,5)))\n",
    "print(list(range(*s)))"
   ]
  },
  {
   "cell_type": "code",
   "execution_count": 18,
   "metadata": {},
   "outputs": [
    {
     "name": "stdout",
     "output_type": "stream",
     "text": [
      "1 2 3 4\n",
      "hello True 78 [3, 4, 5]\n"
     ]
    }
   ],
   "source": [
    "def f(a,b,c,d):\n",
    "    print(a,b,c,d)\n",
    "\n",
    "f(1,2,3,4)\n",
    "a=('hello',True,78,[3,4,5])\n",
    "f(*a)\n"
   ]
  },
  {
   "cell_type": "code",
   "execution_count": 21,
   "metadata": {},
   "outputs": [
    {
     "name": "stdout",
     "output_type": "stream",
     "text": [
      "(1, 2, 3, 4, 5, 6) <class 'tuple'>\n",
      "(1, 2) <class 'tuple'>\n",
      "() <class 'tuple'>\n"
     ]
    }
   ],
   "source": [
    "def f(*args):\n",
    "    print(args,type(args))\n",
    "\n",
    "f(1,2,3,4,5,6)\n",
    "f(1,2)\n",
    "f()"
   ]
  },
  {
   "cell_type": "code",
   "execution_count": 23,
   "metadata": {},
   "outputs": [
    {
     "name": "stdout",
     "output_type": "stream",
     "text": [
      "6\n"
     ]
    }
   ],
   "source": [
    "def f(*args):\n",
    "    s=0\n",
    "    for i in args:\n",
    "        s+=i\n",
    "    return s\n",
    "\n",
    "print(f(1,2,3))"
   ]
  },
  {
   "cell_type": "code",
   "execution_count": 24,
   "metadata": {},
   "outputs": [
    {
     "name": "stdout",
     "output_type": "stream",
     "text": [
      "{'a': 1, 'b': 2, 'c': 3}\n"
     ]
    }
   ],
   "source": [
    "def f(**kwargs):\n",
    "    print(kwargs)\n",
    "\n",
    "f(a=1,b=2,c=3)"
   ]
  },
  {
   "cell_type": "code",
   "execution_count": 25,
   "metadata": {},
   "outputs": [
    {
     "name": "stdout",
     "output_type": "stream",
     "text": [
      "a 1\n",
      "b 5\n",
      "c 6\n",
      "name 89\n"
     ]
    }
   ],
   "source": [
    "def f(**kwargs):\n",
    "    for k,v in kwargs.items():\n",
    "        print(k,v)\n",
    "\n",
    "f(a=1,b=5,c=6,name=89)"
   ]
  },
  {
   "cell_type": "code",
   "execution_count": 27,
   "metadata": {},
   "outputs": [
    {
     "name": "stdout",
     "output_type": "stream",
     "text": [
      "(5, 4, 3, 2, 1) {'a': 5, 'b': 2, 'c': 'hhh'}\n"
     ]
    }
   ],
   "source": [
    "def f(*args,**kwargs):\n",
    "    print(args,kwargs)\n",
    "f(5,4,3,2,1,a=5,b=2,c='hhh')"
   ]
  },
  {
   "cell_type": "code",
   "execution_count": 31,
   "metadata": {},
   "outputs": [
    {
     "name": "stdout",
     "output_type": "stream",
     "text": [
      "(1, 2, 3, 5) # @\n",
      "(1, 2, 3, 5) 900 @\n",
      "(1, 2, 3, 5) 900 @@@\n"
     ]
    }
   ],
   "source": [
    "def outPrint(*args, sep='#', end='@'):\n",
    "    print(args,sep,end)\n",
    "outPrint(1,2,3,5)\n",
    "\n",
    "outPrint(1,2,3,5,sep='900')\n",
    "outPrint(1,2,3,5,sep='900',end='@@@')"
   ]
  },
  {
   "cell_type": "code",
   "execution_count": 32,
   "metadata": {},
   "outputs": [
    {
     "name": "stdout",
     "output_type": "stream",
     "text": [
      "[3, 4, 5, 6, 7]\n",
      "3 4 5 6 7\n"
     ]
    }
   ],
   "source": [
    "a=[3,4,5,6,7]\n",
    "print(a)\n",
    "print(*a)"
   ]
  },
  {
   "cell_type": "code",
   "execution_count": null,
   "metadata": {},
   "outputs": [],
   "source": []
  }
 ],
 "metadata": {
  "interpreter": {
   "hash": "c072b5b97b769e545e4a30fe0c2899590d05a0279abf2521fc01dee924670526"
  },
  "kernelspec": {
   "display_name": "Python 3.9.7 64-bit ('.venv': venv)",
   "language": "python",
   "name": "python3"
  },
  "language_info": {
   "codemirror_mode": {
    "name": "ipython",
    "version": 3
   },
   "file_extension": ".py",
   "mimetype": "text/x-python",
   "name": "python",
   "nbconvert_exporter": "python",
   "pygments_lexer": "ipython3",
   "version": "3.9.7"
  },
  "orig_nbformat": 4
 },
 "nbformat": 4,
 "nbformat_minor": 2
}
