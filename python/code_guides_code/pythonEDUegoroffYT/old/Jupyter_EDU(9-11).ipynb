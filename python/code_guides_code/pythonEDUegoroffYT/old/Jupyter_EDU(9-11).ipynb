{
 "cells": [
  {
   "cell_type": "markdown",
   "metadata": {},
   "source": [
    "# 9 Cтроки и операции над ними Python"
   ]
  },
  {
   "cell_type": "code",
   "execution_count": null,
   "metadata": {},
   "outputs": [],
   "source": [
    "string = 'hello'\n",
    "string2 = \"hello world\"\n",
    "string3 = '''hello1\n",
    "hello2\n",
    "hello3\n",
    "'''\n",
    "\n",
    "print(string,string2,string3)\n",
    "print(string3)"
   ]
  },
  {
   "cell_type": "code",
   "execution_count": null,
   "metadata": {},
   "outputs": [],
   "source": [
    "s = 'hello'\n",
    "r = input()\n",
    "d = \" \"\n",
    "e = \"\"\n",
    "\n",
    "print('abc'+'def')\n",
    "print(s+' '+r)"
   ]
  },
  {
   "cell_type": "code",
   "execution_count": null,
   "metadata": {},
   "outputs": [],
   "source": [
    "a = 'hello'\n",
    "print(a*5)\n",
    "print(a*5+str(100))"
   ]
  },
  {
   "cell_type": "code",
   "execution_count": null,
   "metadata": {},
   "outputs": [],
   "source": [
    "print(len('abcd'))\n",
    "s = input()\n",
    "print(len(s))\n",
    "print('a'in s)\n"
   ]
  },
  {
   "cell_type": "code",
   "execution_count": null,
   "metadata": {},
   "outputs": [],
   "source": [
    "print('aaa'=='aaa')\n",
    "print('aaa'=='AAA')\n",
    "print('abc'>'r')\n",
    "print(ord('a'))\n",
    "print(ord('b'))\n",
    "print(ord('c'))\n",
    "print(ord('r'))\n",
    "print(ord('A'))\n",
    "print('GSGSAGS'<'gdsagsd')\n",
    "print('abc'<'abcd')"
   ]
  },
  {
   "cell_type": "markdown",
   "metadata": {},
   "source": [
    "# Урок 10 Строки: индексы и срезы Python"
   ]
  },
  {
   "cell_type": "code",
   "execution_count": null,
   "metadata": {},
   "outputs": [],
   "source": [
    "string = 'hello world'\n",
    "#         012345678910 index\n",
    "print(string)\n",
    "print(string[6])\n",
    "print(string[10])\n",
    "print('abcd'[1])\n",
    "print(string[len(string)-1])"
   ]
  },
  {
   "cell_type": "code",
   "execution_count": null,
   "metadata": {},
   "outputs": [],
   "source": [
    "s = 'hello world'\n",
    "#  -11         -1 reverse index\n",
    "print(s[-1])"
   ]
  },
  {
   "cell_type": "code",
   "execution_count": null,
   "metadata": {},
   "outputs": [],
   "source": [
    "d = 'privet'\n",
    "for i in range (0,len(d),1):\n",
    "    print(d[i])"
   ]
  },
  {
   "cell_type": "code",
   "execution_count": null,
   "metadata": {},
   "outputs": [],
   "source": [
    "# срез\n",
    "s = 'hello world'\n",
    "#   h   e   l   l   o       w   o   r   l   d\n",
    "#   0   1   2   3   4   5   6   7   8   9   10\n",
    "print(s[2:6]) # act like [2 : 6) , 6 not included\n",
    "print(s[2:7]) \n",
    "print(s[6:11])\n",
    "print(s[4])\n",
    "print(s[4:])\n",
    "print(s[:4])\n",
    "print(s[:])\n",
    "#   h   e   l   l   o       w   o   r   l   d\n",
    "#   0   1   2   3   4   5   6   7   8   9   10\n",
    "#   *   1   *   3   *   5   *   7   *   9   *\n",
    "# s[::2] - 2 is a step\n",
    "# s[::-1] - 2 is a invert step\n",
    "print(s[::2])\n",
    "print(s[1::2])\n",
    "print(s[::-1]) #invert\n",
    "print(s[2:8:3]) # \"l \""
   ]
  },
  {
   "cell_type": "code",
   "execution_count": null,
   "metadata": {},
   "outputs": [],
   "source": [
    "s = 'hello world'\n",
    "print(s[:4])\n",
    "print(s)\n",
    "print(s[:4]+'a'+s[5:])\n",
    "s=s[:4]+'a'+s[5:]\n",
    "print(s)"
   ]
  },
  {
   "cell_type": "markdown",
   "metadata": {},
   "source": [
    "# Урок 11 Строки и их методы Python"
   ]
  },
  {
   "cell_type": "code",
   "execution_count": null,
   "metadata": {},
   "outputs": [],
   "source": [
    "#Вызов метода\n",
    "#object.methodName(arguments)\n",
    "\n",
    "s = 'hello123#@!,./;:'\n",
    "print(s)\n",
    "print(s.upper())\n",
    "s=s.upper()\n",
    "print(s)"
   ]
  },
  {
   "cell_type": "code",
   "execution_count": null,
   "metadata": {},
   "outputs": [],
   "source": [
    "s = 'FGASGGggdsaggdaAS'\n",
    "print(s)\n",
    "print(s.lower())\n",
    "s=s.lower()\n",
    "print(s)"
   ]
  },
  {
   "cell_type": "code",
   "execution_count": null,
   "metadata": {},
   "outputs": [],
   "source": [
    "s = 'hello world'\n",
    "print(s.count('o')) # подсчёт вхождений подстроки в строке 'o' \n",
    "print(s.count('o',6))\n",
    "print(s.count('o',8))\n",
    "print(s.count('l',1,4))\n",
    "\n",
    "\n"
   ]
  },
  {
   "cell_type": "code",
   "execution_count": null,
   "metadata": {},
   "outputs": [],
   "source": [
    "s = 'hello world'\n",
    "print(s.find('e'))\n",
    "print(s.find('l'))\n",
    "print(s.find('ll'))\n",
    "print(s.find('zzzzz'))\n",
    "print(s.rfind('l'))"
   ]
  },
  {
   "cell_type": "code",
   "execution_count": null,
   "metadata": {},
   "outputs": [],
   "source": [
    "s = 'hello world'\n",
    "print(s.index('o')) # return 4\n",
    "print(s.index('z')) # return exception error"
   ]
  },
  {
   "cell_type": "code",
   "execution_count": null,
   "metadata": {},
   "outputs": [],
   "source": [
    "s = 'hello world'\n",
    "print(s)\n",
    "print('o->???')\n",
    "print(s.replace('o','???'))\n",
    "\n",
    "print(s.replace('l',''))\n",
    "print(s.replace('l','L'))\n",
    "print(s.replace('l','',2))\n",
    "print(s.replace(' ',''))"
   ]
  },
  {
   "cell_type": "code",
   "execution_count": null,
   "metadata": {},
   "outputs": [],
   "source": [
    "# Содержит только буквы? isaplha\n",
    "s = 'hello world'\n",
    "print(s.isalpha())\n",
    "s = 'helloworld'\n",
    "print(s.isalpha())"
   ]
  },
  {
   "cell_type": "code",
   "execution_count": null,
   "metadata": {},
   "outputs": [],
   "source": [
    "# Содержит только цифры\n",
    "s = 'gsasgg53523523'\n",
    "print(s.isdigit())\n",
    "s = '32131'\n",
    "print(s.isdigit())"
   ]
  },
  {
   "cell_type": "code",
   "execution_count": null,
   "metadata": {},
   "outputs": [],
   "source": [
    "# Выравнивание\n",
    "d = '111'\n",
    "print(d)\n",
    "print(d.rjust(5))\n",
    "print(d.rjust(50,'0'))\n",
    "\n",
    "print(d)\n",
    "print(d.ljust(5))\n",
    "print(d.ljust(50,'0'))\n",
    "print(d.ljust(50,'-'))\n",
    "#print(d.ljust(50,'--')) # ONLY ONE SYMBOL\n",
    "\n"
   ]
  },
  {
   "cell_type": "code",
   "execution_count": null,
   "metadata": {},
   "outputs": [],
   "source": [
    "#split strip\n",
    "\n",
    "w = 'Ivanov Ivan Ivanovich'\n",
    "print(w)\n",
    "print(w.split())\n",
    "print(len(w.split()))\n",
    "\n",
    "print(w.split('n'))\n",
    "print(len(w.split('n')))\n",
    "\n",
    "print('123,456,789,4,56,4,65,15,61,0'.split(','))\n",
    "\n",
    "t = '123,456,789,4,56,4,65,15,61,0'.split(',')\n",
    "print('='.join(t))\n",
    "print('hello'.join(t))\n",
    "print(','.join(w.split()))\n",
    "\n"
   ]
  },
  {
   "cell_type": "code",
   "execution_count": null,
   "metadata": {},
   "outputs": [],
   "source": [
    "q = '   hello      \\n'\n",
    "print(q)\n",
    "print('--------------')\n",
    "print(q.strip()) #deletes spaces and breaks\n",
    "print('--------------')\n",
    "print(q.lstrip())\n",
    "print('--------------')\n",
    "print(q.rstrip())\n"
   ]
  },
  {
   "cell_type": "code",
   "execution_count": null,
   "metadata": {},
   "outputs": [],
   "source": [
    "s = input()\n",
    "print(s)\n",
    "s = input().upper()\n",
    "print(s)"
   ]
  },
  {
   "cell_type": "code",
   "execution_count": null,
   "metadata": {},
   "outputs": [],
   "source": [
    "s = input().lower().replace('e','w')\n",
    "print(s)"
   ]
  },
  {
   "cell_type": "markdown",
   "metadata": {},
   "source": [
    "# Задачи"
   ]
  },
  {
   "cell_type": "code",
   "execution_count": null,
   "metadata": {},
   "outputs": [],
   "source": [
    "# Задача №3736. Количество слов\n",
    "# Дана строка, состоящая из слов, разделенных пробелами. Определите, сколько в ней слов. Используйте для решения задачи метод count.\n",
    "\n",
    "# Входные данные\n",
    "# Вводится строка.\n",
    "\n",
    "# Выходные данные\n",
    "# Выведите ответ на задачу.\n",
    "\n",
    "print(input().count(' ')+1)"
   ]
  },
  {
   "cell_type": "code",
   "execution_count": null,
   "metadata": {},
   "outputs": [],
   "source": [
    "# Задача №3745. Удаление символа\n",
    "# Дана строка. Удалите из этой строки все символы @.\n",
    "\n",
    "print(input().replace('@',''))"
   ]
  },
  {
   "cell_type": "code",
   "execution_count": null,
   "metadata": {},
   "outputs": [],
   "source": [
    "# Задача №3747. Вставка символов\n",
    "# Дана строка. Получите новую строку, вставив между двумя символами исходной строки символ *. Выведите полученную строку.\n",
    "\n",
    "s = input()\n",
    "print('*'.join(s))"
   ]
  },
  {
   "cell_type": "code",
   "execution_count": null,
   "metadata": {},
   "outputs": [],
   "source": [
    "# Капитализация — это запись слова, в которой первая буква слова записывается как прописная буква. Ваша задача, вывести капитализацию заданного слова.\n",
    "\n",
    "# Обратите внимание, что в капитализации все буквы слова кроме первой остаются не измененными.\n",
    "\n",
    "s = input().lower()\n",
    "s=s[0].upper()+s[1:]\n",
    "print(s)\n",
    "\n",
    "# print(input().capitalize())"
   ]
  },
  {
   "cell_type": "code",
   "execution_count": null,
   "metadata": {},
   "outputs": [],
   "source": [
    "# Петя записался в кружок по программированию. На первом занятии Пете задали написать простую программу. Программа должна делать следующее: в заданной строке, которая состоит из прописных и строчных латинских букв, она:\n",
    "\n",
    "# удаляет все гласные буквы,\n",
    "# перед каждой согласной буквой ставит символ \".\",\n",
    "# все прописные согласные буквы заменяет на строчные.\n",
    "# Гласными буквами считаются буквы \"A\", \"O\", \"Y\", \"E\", \"U\", \"I\", а согласными — все остальные. На вход программе подается ровно одна строка, она должна вернуть результат в виде одной строки, получившейся после обработки.\n",
    "\n",
    "# Помогите Пете справиться с этим несложным заданием.\n",
    "\n",
    "# Входные данные\n",
    "# Первая строка представляет собой входные данные для Петиной программы. Эта строка состоит только из прописных и строчных латинских букв и имеет длину от 1 до 100 включительно.\n",
    "\n",
    "# Выходные данные\n",
    "# Выведите получившуюся строку. Гарантируется, что эта строка не пуста.\n",
    "\n",
    "s = input().lower()\n",
    "s=s.replace('a','',-1).replace('o','',-1).replace('y','',-1).replace('e','',-1).replace('u','',-1).replace('i','',-1)\n",
    "s='.' + '.'.join(s)\n",
    "if len(s)==1:\n",
    "    s=''\n",
    "print(s)"
   ]
  },
  {
   "cell_type": "code",
   "execution_count": null,
   "metadata": {},
   "outputs": [],
   "source": [
    "# решено чужим решением\n",
    "#не решено!\n",
    "#дает ложноотрицательное\n",
    "\n",
    "# Совсем недавно Вася научился печатать на клавиатуре и выходить в интернет. Он сразу же зашел в чат и решил поздороваться со всеми. Вася напечатал слово s. Считается, что у Васи получилось поздороваться, если из напечатанного слова можно удалить некоторые буквы так, чтобы получилось слово \"hello\". Например, если Вася напечатал слово \"ahhellllloou\", считается, что он поздоровался, а если он напечатал \"hlelo\", считается, что Васю не поняли, и ему не удалось поздороваться. По заданному слову s определите, удалось ли Васе поздороваться.\n",
    "\n",
    "# Входные данные\n",
    "# В первой и единственной строке записано слово s, которое напечатал Вася. Это слово состоит из маленьких букв латинского алфавита, его длина не меньше 1 и не больше 100 букв.\n",
    "\n",
    "# Выходные данные\n",
    "# Если Васе удалось поздороваться, выведите \"YES\", иначе выведите \"NO\".\n",
    "\n",
    "# s = input()\n",
    "# print(s.find('h'))\n",
    "# print(s.find('e'))\n",
    "# print(s.find('ll'))\n",
    "# print(s.find('o'))\n",
    "# if str(s[s.find('h')]+s[s.find('e')]+s[s.find('l')]+s[s.rfind('l')]+s[s.find('o')])=='hello' and (s.find('h')<s.find('e')<s.find('l')<s.rfind('l')<s.find('o')):\n",
    "#     print('YES')\n",
    "# else:\n",
    "#     print('NO')\n",
    "\n",
    "# s = input()\n",
    "# l = list(s)\n",
    "# w = []\n",
    "# #zzzHzxxExxLxxLxxOxxx\n",
    "\n",
    "s=input()\n",
    "\n",
    "i1=s.find('h')\n",
    "i2=s.find('e',i1+1)\n",
    "i3=s.find('l',i2+1)\n",
    "i4=s.find('l',i3+1)\n",
    "i5=s.find('o',i4+1)\n",
    "if(s.count('h')!=0 and s.count('e')!=0 and s.count('l')!=0 and s.count('o')!=0)and(i1<i2<i3<i4<i5):\n",
    "    print('Yes, Hello is possible')\n",
    "else:\n",
    "    print('Hello is not possible')"
   ]
  },
  {
   "cell_type": "code",
   "execution_count": null,
   "metadata": {},
   "outputs": [],
   "source": [
    "# A. Карточки\n",
    "\n",
    "# Когда Серёже было три года, ему подарили на день рождения набор карточек с буквами. С их помощью было записано словами любимое число мамы мальчика в двоичной системе счисления. Серёжа тотчас же принялся с ними играть, но так как не умел читать, перемешал их в случайном порядке. Папа решил привести в порядок карточки. Помогите ему восстановить исходное число при условии, что оно было максимально возможным.\n",
    "\n",
    "# Входные данные\n",
    "# Первая строка содержит одно целое число n (1⩽n⩽105) — длина строки. Вторая строка содержит строку из строчных латинских букв: «z», «e», «r», «o» и «n».\n",
    "\n",
    "# Гарантируется, что буквы можно переупорядочить таким образом, чтобы они образовывали последовательность слов, каждое из которых является либо словом «zero», что соответствует цифре 0, либо словом «one», что соответствует цифре 1.\n",
    "\n",
    "# Выходные данные\n",
    "# Выведите максимально возможное число в двоичной системе счисления. Выводите двоичные цифры, разделяя их пробелами. Лидирующие нули допустимы.\n",
    "\n",
    "# входные данныеСкопировать\n",
    "# 4\n",
    "# ezor\n",
    "# выходные данныеСкопировать\n",
    "# 0 \n",
    "# входные данныеСкопировать\n",
    "# 10\n",
    "# nznooeeoer\n",
    "# выходные данныеСкопировать\n",
    "# 1 1 0 \n",
    "\n",
    "s=input()\n",
    "print(f's={s}')\n",
    "print(s)\n",
    "print(f\"o_count = {s.count('o')}\")\n",
    "print(f\"n_count = {s.count('n')}\")\n",
    "print(f\"e_count = {s.count('e')}\")\n",
    "print(f\"z_count = {s.count('z')}\")\n",
    "print(f\"r_count = {s.count('r')}\")\n",
    "one_count = min(s.count('o'),s.count('n'),s.count('e'))\n",
    "print(f'one count = {one_count}')\n",
    "zero_count = min(s.count('z'),s.count('e')-one_count,s.count('r'),s.count('o')-one_count)\n",
    "print(f'zero count = {zero_count}')\n",
    "# print(int('1'*one_count,'0'*zero_count))\n",
    "print(int('1'*one_count+'0'*zero_count))\n"
   ]
  },
  {
   "cell_type": "code",
   "execution_count": null,
   "metadata": {},
   "outputs": [],
   "source": [
    "# Задача №3736. Количество слов\n",
    "# Дана строка, состоящая из слов, разделенных пробелами. Определите, сколько в ней слов. Используйте для решения задачи метод count.\n",
    "\n",
    "# Входные данные\n",
    "# Вводится строка.\n",
    "\n",
    "# Выходные данные\n",
    "# Выведите ответ на задачу.\n",
    "\n",
    "# Примеры\n",
    "# входные данные\n",
    "# Hello world\n",
    "# выходные данные\n",
    "# 2\n",
    "\n",
    "print(input().count(' ')+1)"
   ]
  },
  {
   "cell_type": "code",
   "execution_count": null,
   "metadata": {},
   "outputs": [],
   "source": [
    "# Задача №3738. Переставить два слова\n",
    "# Дана строка, состоящая ровно из двух слов, разделенных пробелом. Переставьте эти слова местами. Результат запишите в строку и выведите получившуюся строку.\n",
    "\n",
    "# При решении этой задачи нельзя пользоваться циклами и инструкцией if.\n",
    "\n",
    "# Входные данные\n",
    "# Вводится строка.\n",
    "\n",
    "# Выходные данные\n",
    "# Выведите ответ на задачу.\n",
    "\n",
    "# Примеры\n",
    "# входные данные\n",
    "# Hello, world!\n",
    "# выходные данные\n",
    "# world! Hello,\n",
    "\n",
    "s=input().split()\n",
    "s=s[::-1]\n",
    "s=' '.join(s)\n",
    "print(s)"
   ]
  },
  {
   "cell_type": "code",
   "execution_count": null,
   "metadata": {},
   "outputs": [],
   "source": [
    "# Задача №3741. Удаление фрагмента\n",
    "# Дана строка, в которой буква h встречается минимум два раза. Удалите из этой строки первое и последнее вхождение буквы h, а также все символы, находящиеся между ними.\n",
    "\n",
    "# Входные данные\n",
    "# Вводится строка.\n",
    "\n",
    "# Выходные данные\n",
    "# Выведите ответ на задачу.\n",
    "\n",
    "# Примеры\n",
    "# входные данные\n",
    "# In the hole in the ground there lived a hobbit\n",
    "# выходные данные\n",
    "# In tobbit\n",
    "\n",
    "s=input()\n",
    "leftH = s.index('h')\n",
    "rightH = s.rindex('h')\n",
    "print(s[:leftH:]+s[rightH+1::])"
   ]
  },
  {
   "cell_type": "code",
   "execution_count": null,
   "metadata": {},
   "outputs": [],
   "source": [
    "# Задача №3739. Первое и последнее вхождение\n",
    "# Дана строка. Если в этой строке буква f встречается только один раз, выведите её индекс. Если она встречается два и более раз, выведите индекс её первого и последнего появления. Если буква f в данной строке не встречается, ничего не выводите.\n",
    "\n",
    "# При решении этой задачи нельзя использовать метод count и циклы.\n",
    "\n",
    "# Входные данные\n",
    "# Вводится строка.\n",
    "\n",
    "# Выходные данные\n",
    "# Выведите ответ на задачу.\n",
    "\n",
    "s=input()\n",
    "if s.find('f')==s.rfind('f')!=-1:\n",
    "    print(s.find('f'))\n",
    "elif s.find('f')==-1:\n",
    "    print('')\n",
    "else:\n",
    "    print(s.find('f'),s.rfind('f'))"
   ]
  },
  {
   "cell_type": "code",
   "execution_count": null,
   "metadata": {},
   "outputs": [],
   "source": [
    "# 1108. Defanging an IP Address\n",
    "# Easy\n",
    "\n",
    "# 841\n",
    "\n",
    "# 1323\n",
    "\n",
    "# Add to List\n",
    "\n",
    "# Share\n",
    "# Given a valid (IPv4) IP address, return a defanged version of that IP address.\n",
    "\n",
    "# A defanged IP address replaces every period \".\" with \"[.]\".\n",
    "\n",
    " \n",
    "\n",
    "# Example 1:\n",
    "\n",
    "# Input: address = \"1.1.1.1\"\n",
    "# Output: \"1[.]1[.]1[.]1\"\n",
    "# Example 2:\n",
    "\n",
    "# Input: address = \"255.100.50.0\"\n",
    "# Output: \"255[.]100[.]50[.]0\"\n",
    "\n",
    "adress=input()\n",
    "defAdress=adress.replace('.','[.]')\n",
    "print(defAdress)"
   ]
  },
  {
   "cell_type": "markdown",
   "metadata": {},
   "source": [
    "# F-строка. F-string. Программирование на Python\n"
   ]
  },
  {
   "cell_type": "code",
   "execution_count": null,
   "metadata": {},
   "outputs": [],
   "source": [
    "name = 'Семен'\n",
    "mid_name = 'Семенович'\n",
    "balance = 32.56\n",
    "\n",
    "text = \"\"\"Дорогой {n} {m}, баланс вашего лицевого счета составляет {b} руб\"\"\".format(b=balance,m=mid_name,n=name)\n",
    "\n",
    "print(text)"
   ]
  },
  {
   "cell_type": "code",
   "execution_count": null,
   "metadata": {},
   "outputs": [],
   "source": [
    "name = 'Семен'\n",
    "mid_name = 'Семенович'\n",
    "balance = 32.56\n",
    "\n",
    "def f(x):\n",
    "    return x**2\n",
    "\n",
    "text = f\"\"\"Дорогой {name.upper()} {mid_name.upper()}, баланс вашего лицевого счета составляет {-balance*2} руб {2+7} abs {abs(-45)} f(x)={f(5)}\"\"\"\n",
    "\n",
    "print(text)"
   ]
  },
  {
   "cell_type": "code",
   "execution_count": null,
   "metadata": {},
   "outputs": [],
   "source": [
    "d = {\n",
    "\"name\" : 'Семен',\n",
    "\"mid_name\" : 'Семенович',\n",
    "\"balance\" : 32.56\n",
    "\n",
    "}\n",
    "\n",
    "text = f\"\"\"Дорогой {d['name']} {d['mid_name']}, баланс вашего лицевого счета составляет {d.get('balance')}\"\"\"\n",
    "# text = f\"\"\"Дорогой {d['name']} {d['mid_name']}, баланс вашего лицевого счета составляет {d.get('balance')} {aaa}\"\"\"\n",
    "print(text)"
   ]
  },
  {
   "cell_type": "code",
   "execution_count": null,
   "metadata": {},
   "outputs": [],
   "source": [
    "gender = {\n",
    "    'm' : 'Дорогой',\n",
    "    'f' : 'Дорогая'\n",
    "}\n",
    "\n",
    "a = [\n",
    "    ['Семен', 'Семенович', 32.56, 'm'],\n",
    "    ['Тамара', 'Ивановна', 12.44, 'f'],\n",
    "    ['Михаил', 'Анатольевич', 555.12, 'm'],\n",
    "]\n",
    "\n",
    "for name,midname,balance,g in a:\n",
    "    # print(name,midname,balance)\n",
    "    text=f\"\"\"{gender[g]} {name} {midname}, баланс вашего лицевого счета составляет {balance} руб.\"\"\"\n",
    "    print(text)\n"
   ]
  }
 ],
 "metadata": {
  "interpreter": {
   "hash": "856d3b0b82f66cdc734fd320041960aabb58f24e72a50cf80d1b4b97d1d67ae7"
  },
  "kernelspec": {
   "display_name": "Python 3.9.7 64-bit",
   "name": "python3"
  },
  "language_info": {
   "codemirror_mode": {
    "name": "ipython",
    "version": 3
   },
   "file_extension": ".py",
   "mimetype": "text/x-python",
   "name": "python",
   "nbconvert_exporter": "python",
   "pygments_lexer": "ipython3",
   "version": "3.9.7"
  },
  "orig_nbformat": 4
 },
 "nbformat": 4,
 "nbformat_minor": 2
}
