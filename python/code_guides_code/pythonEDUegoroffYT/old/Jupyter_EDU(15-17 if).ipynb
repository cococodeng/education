{
 "cells": [
  {
   "cell_type": "markdown",
   "metadata": {},
   "source": [
    "# 15 Условный оператор if Python. Если Python\n"
   ]
  },
  {
   "cell_type": "code",
   "execution_count": null,
   "metadata": {},
   "outputs": [],
   "source": [
    "if 4>1:\n",
    "    print(1)\n",
    "    print(2)\n",
    "print(3)\n",
    "\n",
    "if 4<1:\n",
    "    print(4)\n",
    "    print(5)\n",
    "print(6)"
   ]
  },
  {
   "cell_type": "code",
   "execution_count": null,
   "metadata": {},
   "outputs": [],
   "source": [
    "money = 100\n",
    "bilet = 90\n",
    "if money>bilet:\n",
    "    print('idu v kino')\n",
    "print('idu domoy')"
   ]
  },
  {
   "cell_type": "code",
   "execution_count": null,
   "metadata": {},
   "outputs": [],
   "source": [
    "a=int(input())\n",
    "b=int(input())\n",
    "c=a\n",
    "if b>a:\n",
    "    c=b\n",
    "print(c)\n"
   ]
  },
  {
   "cell_type": "code",
   "execution_count": null,
   "metadata": {},
   "outputs": [],
   "source": [
    "a=int(input())\n",
    "b=int(input())\n",
    "if b>a:\n",
    "    a,b=b,a\n",
    "print(a,b)"
   ]
  },
  {
   "cell_type": "code",
   "execution_count": null,
   "metadata": {},
   "outputs": [],
   "source": [
    "if 4==4:\n",
    "    print(1)\n",
    "    print(2)\n",
    "else:\n",
    "    print(6)\n",
    "print(7)"
   ]
  },
  {
   "cell_type": "code",
   "execution_count": null,
   "metadata": {},
   "outputs": [],
   "source": [
    "if 5:\n",
    "    print(1)\n",
    "    print(2)\n",
    "else:\n",
    "    print(6)\n",
    "print(7)\n",
    "\n",
    "print(bool(5))"
   ]
  },
  {
   "cell_type": "code",
   "execution_count": null,
   "metadata": {},
   "outputs": [],
   "source": [
    "a=int(input())\n",
    "if a%2==0 and a%3==0:\n",
    "    print('Kratno 3 and 2')\n",
    "else:\n",
    "    print('Ne kratno 3 and 2')"
   ]
  },
  {
   "cell_type": "markdown",
   "metadata": {},
   "source": [
    "# Задачи"
   ]
  },
  {
   "cell_type": "code",
   "execution_count": null,
   "metadata": {},
   "outputs": [],
   "source": [
    "a,b = map(int,input().split(','))\n",
    "if a>b:\n",
    "    print(a)\n",
    "else:\n",
    "    print(b)"
   ]
  },
  {
   "cell_type": "code",
   "execution_count": null,
   "metadata": {},
   "outputs": [],
   "source": [
    "a,b = map(int,input().split(','))\n",
    "if a>b:\n",
    "    print(a)\n",
    "if b>a:\n",
    "    print(b)\n",
    "if a==b:\n",
    "    print('0')"
   ]
  },
  {
   "cell_type": "code",
   "execution_count": null,
   "metadata": {},
   "outputs": [],
   "source": [
    "a,b,c = map(int,input().split(','))\n",
    "if a*b==c:\n",
    "    print('YES')\n",
    "else:\n",
    "    print('NO')\n"
   ]
  },
  {
   "cell_type": "code",
   "execution_count": null,
   "metadata": {},
   "outputs": [],
   "source": [
    "n = input()\n",
    "if int(n[0])+int(n[1])+int(n[2])==int(n[3])+int(n[4])+int(n[5]):\n",
    "    print('Happy')\n",
    "else:\n",
    "    print('NO')"
   ]
  },
  {
   "cell_type": "code",
   "execution_count": null,
   "metadata": {},
   "outputs": [],
   "source": [
    "x1,y1,x2,y2=map(int,input().split(' '))\n",
    "if (x1==x2)or(y1==y2):\n",
    "    print('YES')\n",
    "else:\n",
    "    print('NO')"
   ]
  },
  {
   "cell_type": "code",
   "execution_count": null,
   "metadata": {},
   "outputs": [],
   "source": [
    "x1,y1,x2,y2=map(int,input().split(' '))\n",
    "if (abs(x1-x2))==(abs(y1-y2)):\n",
    "    print('yes')\n",
    "else:\n",
    "    print('no')"
   ]
  },
  {
   "cell_type": "markdown",
   "metadata": {},
   "source": [
    "# 16 Вложенный оператор if Python"
   ]
  },
  {
   "cell_type": "code",
   "execution_count": null,
   "metadata": {},
   "outputs": [],
   "source": [
    "a=25\n",
    "if a%5==0:\n",
    "    if a>9 and a<100:\n",
    "        print('1')\n",
    "        print('2')\n",
    "    else:\n",
    "        print('3')\n",
    "        print('4')\n",
    "else:\n",
    "    if a%2==0:\n",
    "        print('5')\n",
    "        print('6')\n",
    "    else:\n",
    "        print('7')\n",
    "        print('8')\n",
    "print('end')"
   ]
  },
  {
   "cell_type": "code",
   "execution_count": null,
   "metadata": {},
   "outputs": [],
   "source": [
    "a=int(input())\n",
    "b=int(input())\n",
    "c=int(input())\n",
    "#print min\n",
    "if a<b:\n",
    "    if a<c:\n",
    "        print(a)\n",
    "    else:\n",
    "        print(c)\n",
    "else:\n",
    "    if b<c:\n",
    "        print(b)\n",
    "    else:\n",
    "        print(c)"
   ]
  },
  {
   "cell_type": "code",
   "execution_count": null,
   "metadata": {},
   "outputs": [],
   "source": [
    "x=int(input())\n",
    "y=int(input())\n",
    "if x>0:\n",
    "    if y>0:\n",
    "        print('1')\n",
    "    else:\n",
    "        print('4')\n",
    "else:\n",
    "    if y>0:\n",
    "        print('2')\n",
    "    else:\n",
    "        print('3')"
   ]
  },
  {
   "cell_type": "code",
   "execution_count": null,
   "metadata": {},
   "outputs": [],
   "source": [
    "a=int(input())\n",
    "if a%4==0:\n",
    "    print('Ost  = 0')\n",
    "else:\n",
    "    if a%4==1:\n",
    "        print('Ost = 1')\n",
    "    else:\n",
    "        if a%4==2:\n",
    "            print('Ost = 2')\n",
    "        else:\n",
    "            print('Ost = 3')\n"
   ]
  },
  {
   "cell_type": "markdown",
   "metadata": {},
   "source": [
    "# 17 Множественный выбор elif Python"
   ]
  },
  {
   "cell_type": "code",
   "execution_count": null,
   "metadata": {},
   "outputs": [],
   "source": [
    "if 2>1:\n",
    "    print('1')\n",
    "    print('2')\n",
    "elif 3>2:\n",
    "    print('3')\n",
    "    print('4')\n",
    "elif 6>4:\n",
    "    print('5')\n",
    "    print('6')\n",
    "elif 6>4:\n",
    "    print('7')\n",
    "    print('8')"
   ]
  },
  {
   "cell_type": "code",
   "execution_count": null,
   "metadata": {},
   "outputs": [],
   "source": [
    "if 2>2:\n",
    "    print('1')\n",
    "    print('2')\n",
    "elif 3>3:\n",
    "    print('3')\n",
    "    print('4')\n",
    "elif 6>6:\n",
    "    print('5')\n",
    "    print('6')\n",
    "elif 6>6:\n",
    "    print('7')\n",
    "    print('8')\n",
    "print('end')"
   ]
  },
  {
   "cell_type": "code",
   "execution_count": null,
   "metadata": {},
   "outputs": [],
   "source": [
    "if 2>2:\n",
    "    print('1')\n",
    "    print('2')\n",
    "elif 3>3:\n",
    "    print('3')\n",
    "    print('4')\n",
    "elif 6>6:\n",
    "    print('5')\n",
    "    print('6')\n",
    "elif 6>6:\n",
    "    print('7')\n",
    "    print('8')\n",
    "print('end')"
   ]
  },
  {
   "cell_type": "code",
   "execution_count": null,
   "metadata": {},
   "outputs": [],
   "source": [
    "if 2>2:\n",
    "    print('1')\n",
    "    print('2')\n",
    "elif 3>3:\n",
    "    print('3')\n",
    "    print('4')\n",
    "elif 6>6:\n",
    "    print('5')\n",
    "    print('6')\n",
    "elif 6>6:\n",
    "    print('7')\n",
    "    print('8')\n",
    "else:\n",
    "    print('else')\n",
    "print('end')"
   ]
  },
  {
   "cell_type": "code",
   "execution_count": null,
   "metadata": {},
   "outputs": [],
   "source": [
    "road = int(input())\n",
    "if road==1:\n",
    "    print('1 doroga')\n",
    "elif road==2:\n",
    "    print('2 doroga')\n",
    "elif road==3:\n",
    "    print('3 doroga')\n",
    "else:\n",
    "    print('wrong way')"
   ]
  },
  {
   "cell_type": "code",
   "execution_count": null,
   "metadata": {},
   "outputs": [],
   "source": [
    "day=int(input())\n",
    "if day==1:\n",
    "    print('monday')\n",
    "elif day==2:\n",
    "    print('tuesday')\n",
    "elif day==3:\n",
    "    print('wednesday')\n",
    "elif day==4:\n",
    "    print('thursday')\n",
    "elif day==5:\n",
    "    print('friday')\n",
    "elif day==6:\n",
    "    print('saturday')\n",
    "elif day==7:\n",
    "    print('sunday')\n",
    "else:\n",
    "    print('error')"
   ]
  },
  {
   "cell_type": "code",
   "execution_count": null,
   "metadata": {},
   "outputs": [],
   "source": [
    "a=int(input()) #a<10000\n",
    "if a<0 or a>=10000:\n",
    "    print('error')\n",
    "elif a<10:\n",
    "    print('1 digit')\n",
    "elif a<100:\n",
    "    print('2 digit')\n",
    "elif a<1000:\n",
    "    print('3 digit')\n",
    "elif a<10000:\n",
    "    print('4 digit')"
   ]
  },
  {
   "cell_type": "code",
   "execution_count": null,
   "metadata": {},
   "outputs": [],
   "source": [
    "a=int(input()) #a<10000\n",
    "if a<0 or a>=10000:\n",
    "    print('error')\n",
    "elif a<10:\n",
    "    print('1 digit')\n",
    "    if a%2==0:\n",
    "        print('chet')\n",
    "    else:\n",
    "        print('nechet')\n",
    "elif a<100:\n",
    "    print('2 digit')\n",
    "elif a<1000:\n",
    "    print('3 digit')\n",
    "elif a<10000:\n",
    "    print('4 digit')"
   ]
  }
 ],
 "metadata": {
  "interpreter": {
   "hash": "856d3b0b82f66cdc734fd320041960aabb58f24e72a50cf80d1b4b97d1d67ae7"
  },
  "kernelspec": {
   "display_name": "Python 3.9.2 64-bit",
   "name": "python3"
  },
  "language_info": {
   "codemirror_mode": {
    "name": "ipython",
    "version": 3
   },
   "file_extension": ".py",
   "mimetype": "text/x-python",
   "name": "python",
   "nbconvert_exporter": "python",
   "pygments_lexer": "ipython3",
   "version": "3.9.2"
  },
  "orig_nbformat": 4
 },
 "nbformat": 4,
 "nbformat_minor": 2
}
