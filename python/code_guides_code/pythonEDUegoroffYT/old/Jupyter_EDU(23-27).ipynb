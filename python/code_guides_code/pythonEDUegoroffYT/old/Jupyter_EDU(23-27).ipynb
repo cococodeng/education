{
 "cells": [
  {
   "cell_type": "markdown",
   "metadata": {},
   "source": [
    "# 23 Функция range и итерируемые объекты\n"
   ]
  },
  {
   "cell_type": "code",
   "execution_count": null,
   "metadata": {},
   "outputs": [],
   "source": [
    "print(range(5))\n",
    "print(type(range(5)))\n",
    "print(list(range(5)))\n",
    "print(list(range(10)))\n",
    "print(list(range(0)))\n",
    "print(list(range(10,20)))\n",
    "print(list(range(10,20,2)))\n",
    "print(list(range(1,102,10)))\n",
    "print(list(range(10,0,-1)))\n",
    "print(list(range(0,101,2)))"
   ]
  },
  {
   "cell_type": "code",
   "execution_count": null,
   "metadata": {},
   "outputs": [],
   "source": [
    "print(sum((range(1,101))))\n",
    "print(len(range(5,15,5)))\n",
    "a,b,c=range(5,8)\n",
    "print(a,b,c)"
   ]
  },
  {
   "cell_type": "code",
   "execution_count": null,
   "metadata": {},
   "outputs": [],
   "source": [
    "r=range(1,7)\n",
    "print(len(r))\n",
    "print(r[2])"
   ]
  },
  {
   "cell_type": "code",
   "execution_count": null,
   "metadata": {},
   "outputs": [],
   "source": [
    "v = iter(range(5))\n",
    "print(v)\n",
    "print(next(v))\n",
    "print(next(v))\n",
    "print(v.__next__())\n",
    "print(v.__next__())\n",
    "print(v.__next__())"
   ]
  },
  {
   "cell_type": "code",
   "execution_count": null,
   "metadata": {},
   "outputs": [],
   "source": [
    "n = iter([43,True,'Hello'])\n",
    "print(next(n))\n",
    "print(next(n))\n",
    "print(next(n))\n"
   ]
  },
  {
   "cell_type": "code",
   "execution_count": null,
   "metadata": {},
   "outputs": [],
   "source": [
    "m = iter('Hi Ben')\n",
    "print(next(m))\n",
    "print(next(m))\n",
    "print(next(m))\n",
    "print(next(m))\n",
    "print(next(m))\n",
    "print(next(m))"
   ]
  },
  {
   "cell_type": "markdown",
   "metadata": {},
   "source": [
    "# 24 Цикл for. Обход элементов функции range Python\n"
   ]
  },
  {
   "cell_type": "code",
   "execution_count": null,
   "metadata": {},
   "outputs": [],
   "source": [
    "for i in range(4):\n",
    "    print(i)"
   ]
  },
  {
   "cell_type": "code",
   "execution_count": null,
   "metadata": {},
   "outputs": [],
   "source": [
    "for i in range(4):\n",
    "    print(i)\n",
    "    i='hello'\n",
    "    "
   ]
  },
  {
   "cell_type": "code",
   "execution_count": null,
   "metadata": {},
   "outputs": [],
   "source": [
    "for i in range(4):\n",
    "    print(i)\n",
    "    i='hello'\n",
    "    print(i)\n",
    "    "
   ]
  },
  {
   "cell_type": "code",
   "execution_count": null,
   "metadata": {},
   "outputs": [],
   "source": [
    "for i in range(4):\n",
    "    print('inside ', i)\n",
    "print('outside', i)\n"
   ]
  },
  {
   "cell_type": "code",
   "execution_count": null,
   "metadata": {},
   "outputs": [],
   "source": [
    "for i in range(100,1000):\n",
    "    if i%2==0 and i%7==0:\n",
    "        print(i)"
   ]
  },
  {
   "cell_type": "code",
   "execution_count": null,
   "metadata": {},
   "outputs": [],
   "source": [
    "for i in range(1,11):\n",
    "    print(i,i**2)"
   ]
  },
  {
   "cell_type": "code",
   "execution_count": null,
   "metadata": {},
   "outputs": [],
   "source": [
    "s=0\n",
    "for i in range (1,101):\n",
    "    s=s+i\n",
    "print(s)"
   ]
  },
  {
   "cell_type": "code",
   "execution_count": null,
   "metadata": {},
   "outputs": [],
   "source": [
    "pr=1\n",
    "for i in range(1,5):\n",
    "    pr = pr * i\n",
    "print(pr)"
   ]
  },
  {
   "cell_type": "code",
   "execution_count": null,
   "metadata": {},
   "outputs": [],
   "source": [
    "n=int(input())\n",
    "pr=1\n",
    "for i in range(1,n+1):\n",
    "    pr = pr * i\n",
    "print(pr)"
   ]
  },
  {
   "cell_type": "code",
   "execution_count": null,
   "metadata": {},
   "outputs": [],
   "source": [
    "n=int(input())\n",
    "for i in range(n):\n",
    "    print('hello')\n"
   ]
  },
  {
   "cell_type": "code",
   "execution_count": null,
   "metadata": {},
   "outputs": [],
   "source": [
    "from random import randint\n",
    "for i in range(10):\n",
    "    a = randint(1,1000)\n",
    "    print(a,end=' ')"
   ]
  },
  {
   "cell_type": "code",
   "execution_count": null,
   "metadata": {},
   "outputs": [],
   "source": [
    "from random import randint\n",
    "s=0\n",
    "for i in range(10):\n",
    "    a = randint(1,1000)\n",
    "    s+=a\n",
    "    print(a,end=' ')\n",
    "print()\n",
    "print(s)"
   ]
  },
  {
   "cell_type": "code",
   "execution_count": null,
   "metadata": {},
   "outputs": [],
   "source": [
    "for i in range(1,11):\n",
    "    print('*'*i)"
   ]
  },
  {
   "cell_type": "code",
   "execution_count": null,
   "metadata": {},
   "outputs": [],
   "source": [
    "for i in range(1,11):\n",
    "    print(2**i)"
   ]
  },
  {
   "cell_type": "code",
   "execution_count": null,
   "metadata": {},
   "outputs": [],
   "source": [
    "n=int(input())\n",
    "s=0\n",
    "for i in range(n):\n",
    "    a=int(input())\n",
    "    print(f'{a} was inputted')\n",
    "    s+=a\n",
    "    print(f's={s}')\n",
    "print(f'total s {s}  average {s/n}')"
   ]
  },
  {
   "cell_type": "markdown",
   "metadata": {},
   "source": [
    "# 25 Цикл for. Обход списков и строк Python"
   ]
  },
  {
   "cell_type": "code",
   "execution_count": null,
   "metadata": {},
   "outputs": [],
   "source": [
    "a = [43,65,3,54,6]\n",
    "for i in a:\n",
    "    print(i)"
   ]
  },
  {
   "cell_type": "code",
   "execution_count": null,
   "metadata": {},
   "outputs": [],
   "source": [
    "a = [43,65,3,54,6]\n",
    "count=0\n",
    "for i in a:\n",
    "    print(i)\n",
    "    count+=1\n",
    "    print(count,'Обход')\n",
    "    input()"
   ]
  },
  {
   "cell_type": "code",
   "execution_count": null,
   "metadata": {},
   "outputs": [],
   "source": [
    "a = [43,65,3,54,6]\n",
    "count=0\n",
    "print(a)\n",
    "for i in a:\n",
    "    print(f'{i:>8}',end='')\n",
    "    i+=5\n",
    "    print(f' {i:>8}')\n",
    "print(a)"
   ]
  },
  {
   "cell_type": "code",
   "execution_count": null,
   "metadata": {},
   "outputs": [],
   "source": [
    "a = [43,65,3,54,6]\n",
    "count =0\n",
    "for i in a:\n",
    "    print(i, a.index(i))"
   ]
  },
  {
   "cell_type": "code",
   "execution_count": null,
   "metadata": {},
   "outputs": [],
   "source": [
    "a = [43,65,3,54,6,3] # Обход по значениям\n",
    "count =0\n",
    "for i in a:\n",
    "    print(i, a.index(i))"
   ]
  },
  {
   "cell_type": "code",
   "execution_count": null,
   "metadata": {},
   "outputs": [],
   "source": [
    "a = [43,65,3,54,6,3,5,5,5,5] # Обоход по индексам\n",
    "for i in range(len(a)):\n",
    "    print(i, a[i])"
   ]
  },
  {
   "cell_type": "code",
   "execution_count": null,
   "metadata": {},
   "outputs": [],
   "source": [
    "a = [43,65,3,54,6,3,5,5,5,5] # Обоход по индексам\n",
    "print(a)\n",
    "for i in range(len(a)):\n",
    "    print(i, a[i])\n",
    "    a[i]+=5\n",
    "print(a)"
   ]
  },
  {
   "cell_type": "code",
   "execution_count": null,
   "metadata": {},
   "outputs": [],
   "source": [
    "# Remove Doubes\n",
    "a=[1,2,3,4,32,4,5,3,5]\n",
    "b=[]\n",
    "for i in a:\n",
    "    # 1 in a (True)\n",
    "    # 9 in a (False)\n",
    "    if not (i in b):\n",
    "        b.append(i)\n",
    "print(a)\n",
    "print(b)\n"
   ]
  },
  {
   "cell_type": "code",
   "execution_count": null,
   "metadata": {},
   "outputs": [],
   "source": [
    "a=[1,2,3,4,32,4,5,3,5]\n",
    "chet=[]\n",
    "nechet=[]\n",
    "n=len(a)\n",
    "for i in range(n):\n",
    "    if a[i]%2==0:\n",
    "        chet.append(i+1)\n",
    "    else:\n",
    "        nechet.append(i+1)\n",
    "print(a)\n",
    "print(chet)\n",
    "print(nechet)\n"
   ]
  },
  {
   "cell_type": "code",
   "execution_count": null,
   "metadata": {},
   "outputs": [],
   "source": [
    "s='hello world'\n",
    "for i in s:\n",
    "    print(i)"
   ]
  },
  {
   "cell_type": "code",
   "execution_count": null,
   "metadata": {},
   "outputs": [],
   "source": [
    "s='helLo WOrld'\n",
    "for i in s:\n",
    "    if i>='a' and i<= 'z':\n",
    "        print(i,'small')\n",
    "    elif \"A\"<=i<=\"Z\":\n",
    "        print(i, 'big')\n",
    "    else:\n",
    "        print(i)"
   ]
  },
  {
   "cell_type": "code",
   "execution_count": null,
   "metadata": {},
   "outputs": [],
   "source": [
    "vowels = 'aeiou'\n",
    "s = 'aertiooikjoaikl'\n",
    "n=len(s)\n",
    "for i in range(n-1):\n",
    "    if (s[i] in vowels) and (s[i+1] in vowels):\n",
    "        print(s[i],s[i+1])"
   ]
  }
 ],
 "metadata": {
  "interpreter": {
   "hash": "c072b5b97b769e545e4a30fe0c2899590d05a0279abf2521fc01dee924670526"
  },
  "kernelspec": {
   "display_name": "Python 3.9.7 64-bit ('.venv': venv)",
   "name": "python3"
  },
  "language_info": {
   "codemirror_mode": {
    "name": "ipython",
    "version": 3
   },
   "file_extension": ".py",
   "mimetype": "text/x-python",
   "name": "python",
   "nbconvert_exporter": "python",
   "pygments_lexer": "ipython3",
   "version": "3.9.7"
  },
  "orig_nbformat": 4
 },
 "nbformat": 4,
 "nbformat_minor": 2
}
