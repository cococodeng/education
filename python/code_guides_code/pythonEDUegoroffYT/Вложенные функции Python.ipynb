{
 "cells": [
  {
   "cell_type": "markdown",
   "metadata": {},
   "source": [
    "# Вложенные функции Python\n"
   ]
  },
  {
   "cell_type": "code",
   "execution_count": 1,
   "metadata": {},
   "outputs": [
    {
     "name": "stdout",
     "output_type": "stream",
     "text": [
      "red\n",
      "blue\n"
     ]
    }
   ],
   "source": [
    "def colors():\n",
    "\n",
    "\n",
    "    def print_red():\n",
    "        print('red')\n",
    "\n",
    "    def print_blue():\n",
    "        print('blue')\n",
    "\n",
    "    print_red()\n",
    "    print_blue()\n",
    "\n",
    "colors()"
   ]
  },
  {
   "cell_type": "code",
   "execution_count": 2,
   "metadata": {},
   "outputs": [
    {
     "name": "stdout",
     "output_type": "stream",
     "text": [
      "blue\n",
      "red\n"
     ]
    }
   ],
   "source": [
    "def colors():\n",
    "\n",
    "\n",
    "    def print_red():\n",
    "        print('red')\n",
    "\n",
    "    def print_blue():\n",
    "        print('blue')\n",
    "\n",
    "    print_blue()\n",
    "    print_red()\n",
    "\n",
    "colors()"
   ]
  },
  {
   "cell_type": "code",
   "execution_count": 3,
   "metadata": {},
   "outputs": [
    {
     "name": "stdout",
     "output_type": "stream",
     "text": [
      "blue\n",
      "red\n"
     ]
    }
   ],
   "source": [
    "def colors():\n",
    "\n",
    "\n",
    "    def print_red():\n",
    "        print('red')\n",
    "\n",
    "    def print_blue():\n",
    "        print('blue')\n",
    "\n",
    "    print_blue()\n",
    "    print_red()\n",
    "\n",
    "# print_red() error\n",
    "colors()"
   ]
  },
  {
   "cell_type": "code",
   "execution_count": 4,
   "metadata": {},
   "outputs": [
    {
     "name": "stdout",
     "output_type": "stream",
     "text": [
      "blue\n",
      "red\n"
     ]
    }
   ],
   "source": [
    "def colors():\n",
    "\n",
    "\n",
    "    def print_red():\n",
    "        r = 'red'\n",
    "        print(r)\n",
    "        # print(r,b) error\n",
    "\n",
    "    def print_blue():\n",
    "        b = 'blue'\n",
    "        print(b)\n",
    "    \n",
    "    # print(r,b) error\n",
    "    print_blue()\n",
    "    print_red()\n",
    "\n",
    "colors()"
   ]
  },
  {
   "cell_type": "code",
   "execution_count": 5,
   "metadata": {},
   "outputs": [
    {
     "name": "stdout",
     "output_type": "stream",
     "text": [
      "blue yellow\n",
      "red yellow\n"
     ]
    }
   ],
   "source": [
    "def colors():\n",
    "    y = 'yellow'\n",
    "\n",
    "    def print_red():\n",
    "        r = 'red'\n",
    "        print(r,y)\n",
    "\n",
    "    def print_blue():\n",
    "        b = 'blue'\n",
    "        print(b,y)\n",
    "    \n",
    "    print_blue()\n",
    "    print_red()\n",
    "\n",
    "colors()"
   ]
  },
  {
   "cell_type": "code",
   "execution_count": 6,
   "metadata": {},
   "outputs": [
    {
     "name": "stdout",
     "output_type": "stream",
     "text": [
      "blue yellow gray\n",
      "red yellow gray\n"
     ]
    }
   ],
   "source": [
    "g = 'gray'\n",
    "def colors():\n",
    "    y = 'yellow'\n",
    "    def print_red():\n",
    "        r = 'red'\n",
    "        print(r,y,g)\n",
    "\n",
    "    def print_blue():\n",
    "        b = 'blue'\n",
    "        print(b,y,g)\n",
    "    \n",
    "    print_blue()\n",
    "    print_red()\n",
    "\n",
    "colors()"
   ]
  },
  {
   "cell_type": "code",
   "execution_count": 7,
   "metadata": {},
   "outputs": [
    {
     "name": "stdout",
     "output_type": "stream",
     "text": [
      "blue yellow green\n",
      "red yellow green\n"
     ]
    }
   ],
   "source": [
    "g = 'gray'\n",
    "def colors():\n",
    "    y = 'yellow'\n",
    "    g = 'green' # replaces gray, priority to local variables\n",
    "    def print_red():\n",
    "        r = 'red'\n",
    "        print(r,y,g)\n",
    "\n",
    "    def print_blue():\n",
    "        b = 'blue'\n",
    "        print(b,y,g)\n",
    "    \n",
    "    print_blue()\n",
    "    print_red()\n",
    "\n",
    "colors()"
   ]
  },
  {
   "cell_type": "code",
   "execution_count": 8,
   "metadata": {},
   "outputs": [
    {
     "name": "stdout",
     "output_type": "stream",
     "text": [
      "blue yellow green\n",
      "red yellow green\n"
     ]
    }
   ],
   "source": [
    "g = 'gray'\n",
    "def colors():\n",
    "    y = 'yellow'\n",
    "    g = 'green' # replaces gray, priority to local variables\n",
    "    def print_red():\n",
    "        nonlocal y\n",
    "        r = 'red'\n",
    "        print(r,y,g)\n",
    "        y = 'was changed'\n",
    "\n",
    "    def print_blue():\n",
    "        b = 'blue'\n",
    "        print(b,y,g)\n",
    "    \n",
    "    print_blue()\n",
    "    print_red()\n",
    "\n",
    "colors()"
   ]
  },
  {
   "cell_type": "code",
   "execution_count": 9,
   "metadata": {},
   "outputs": [
    {
     "name": "stdout",
     "output_type": "stream",
     "text": [
      "red yellow green\n",
      "blue was changed green\n"
     ]
    }
   ],
   "source": [
    "g = 'gray'\n",
    "def colors():\n",
    "    y = 'yellow'\n",
    "    g = 'green' # replaces gray, priority to local variables\n",
    "    def print_red():\n",
    "        nonlocal y\n",
    "        r = 'red'\n",
    "        print(r,y,g)\n",
    "        y = 'was changed'\n",
    "\n",
    "    def print_blue():\n",
    "        b = 'blue'\n",
    "        print(b,y,g)\n",
    "    \n",
    "    print_red()\n",
    "    print_blue()\n",
    "\n",
    "colors()"
   ]
  },
  {
   "cell_type": "code",
   "execution_count": 10,
   "metadata": {},
   "outputs": [
    {
     "name": "stdout",
     "output_type": "stream",
     "text": [
      "red\n",
      "blue\n",
      "I don't know this color\n"
     ]
    }
   ],
   "source": [
    "g = 'gray'\n",
    "def colors(param='r'):\n",
    "    y = 'yellow'\n",
    "    g = 'green' \n",
    "    def print_red():\n",
    "        r = 'red'\n",
    "        print(r)\n",
    "\n",
    "    def print_blue():\n",
    "        b = 'blue'\n",
    "        print(b)\n",
    "    \n",
    "    if param =='r':\n",
    "        print_red()\n",
    "    elif param =='b':\n",
    "        print_blue()\n",
    "    else:\n",
    "        print(\"I don't know this color\")\n",
    "\n",
    "colors()\n",
    "colors('b')\n",
    "colors(512)"
   ]
  }
 ],
 "metadata": {
  "kernelspec": {
   "display_name": "Python 3.8.12 64-bit",
   "language": "python",
   "name": "python3"
  },
  "language_info": {
   "codemirror_mode": {
    "name": "ipython",
    "version": 3
   },
   "file_extension": ".py",
   "mimetype": "text/x-python",
   "name": "python",
   "nbconvert_exporter": "python",
   "pygments_lexer": "ipython3",
   "version": "3.8.12"
  },
  "orig_nbformat": 4,
  "vscode": {
   "interpreter": {
    "hash": "5b3ded1ccb95c1d9bd405e7b823d9e85424cde40fbb5985eb47e999ef50e15b4"
   }
  }
 },
 "nbformat": 4,
 "nbformat_minor": 2
}
