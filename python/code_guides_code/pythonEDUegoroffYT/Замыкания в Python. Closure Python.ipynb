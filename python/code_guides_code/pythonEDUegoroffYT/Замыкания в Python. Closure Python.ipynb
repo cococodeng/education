{
 "cells": [
  {
   "cell_type": "markdown",
   "metadata": {},
   "source": [
    "# Замыкания в Python. Closure Python\n"
   ]
  },
  {
   "cell_type": "code",
   "execution_count": 1,
   "metadata": {},
   "outputs": [
    {
     "name": "stdout",
     "output_type": "stream",
     "text": [
      "Hello, my friend\n"
     ]
    }
   ],
   "source": [
    "def main_function(): # No return, default return = None\n",
    "\n",
    "    def inner_function():\n",
    "        print('Hello, my friend')\n",
    "    \n",
    "    inner_function()\n",
    "\n",
    "main_function()\n",
    "\n"
   ]
  },
  {
   "cell_type": "code",
   "execution_count": 2,
   "metadata": {},
   "outputs": [
    {
     "name": "stdout",
     "output_type": "stream",
     "text": [
      "<function main_function.<locals>.inner_function at 0x7f15ba7535e0>\n",
      "Hello, my friend\n"
     ]
    }
   ],
   "source": [
    "def main_function(): # No return, default return = None\n",
    "\n",
    "    def inner_function():\n",
    "        print('Hello, my friend')\n",
    "    \n",
    "    return inner_function\n",
    "\n",
    "b = main_function()\n",
    "print(b)\n",
    "b()\n",
    "\n",
    "\n"
   ]
  },
  {
   "cell_type": "code",
   "execution_count": 3,
   "metadata": {},
   "outputs": [
    {
     "name": "stdout",
     "output_type": "stream",
     "text": [
      "<function main_function.<locals>.inner_function at 0x7f15d0236e50>\n",
      "Hello, my friend\n",
      "Hello, my friend\n"
     ]
    }
   ],
   "source": [
    "def main_function(): # No return, default return = None\n",
    "\n",
    "    def inner_function():\n",
    "        print('Hello, my friend')\n",
    "    \n",
    "    return inner_function\n",
    "\n",
    "b = main_function()\n",
    "print(b)\n",
    "b()\n",
    "c = main_function()\n",
    "c()\n",
    "\n",
    "\n"
   ]
  },
  {
   "cell_type": "code",
   "execution_count": 4,
   "metadata": {},
   "outputs": [
    {
     "name": "stdout",
     "output_type": "stream",
     "text": [
      "Hello, my friend Ivan\n"
     ]
    }
   ],
   "source": [
    "# Замыкание - когда вложенная функция пользуется переменными, не объявленными в её теле\n",
    "\n",
    "def main_function(): # No return, default return = None\n",
    "    name = 'Ivan'\n",
    "    def inner_function():\n",
    "        print('Hello, my friend', name)\n",
    "    \n",
    "    return inner_function\n",
    "\n",
    "d = main_function()\n",
    "d()\n"
   ]
  },
  {
   "cell_type": "code",
   "execution_count": 5,
   "metadata": {},
   "outputs": [
    {
     "name": "stdout",
     "output_type": "stream",
     "text": [
      "Hello, my friend Misha\n",
      "Hello, my friend Vasya\n"
     ]
    }
   ],
   "source": [
    "# Замыкание - когда вложенная функция пользуется переменными, не объявленными в её теле\n",
    "\n",
    "def main_function(value): # No return, default return = None\n",
    "    name = value\n",
    "    def inner_function():\n",
    "        print('Hello, my friend', name)\n",
    "    \n",
    "    return inner_function\n",
    "\n",
    "r = main_function('Misha') # Создаются 2 области видимости функций\n",
    "r()\n",
    "v = main_function('Vasya')\n",
    "v()\n"
   ]
  },
  {
   "cell_type": "code",
   "execution_count": 6,
   "metadata": {},
   "outputs": [
    {
     "name": "stdout",
     "output_type": "stream",
     "text": [
      "Hello, my friend Misha\n",
      "Hello, my friend Vasya\n"
     ]
    }
   ],
   "source": [
    "# Замыкание - когда вложенная функция пользуется переменными, не объявленными в её теле\n",
    "\n",
    "def main_function(name): # No return, default return = None\n",
    "    def inner_function():\n",
    "        print('Hello, my friend', name)\n",
    "    \n",
    "    return inner_function\n",
    "\n",
    "r = main_function('Misha') # Создаются 2 области видимости функций\n",
    "r()\n",
    "v = main_function('Vasya')\n",
    "v()\n"
   ]
  },
  {
   "cell_type": "code",
   "execution_count": 7,
   "metadata": {},
   "outputs": [
    {
     "data": {
      "text/plain": [
       "14"
      ]
     },
     "execution_count": 7,
     "metadata": {},
     "output_type": "execute_result"
    }
   ],
   "source": [
    "def adder(value):\n",
    "    def inner(a):\n",
    "        return value + a\n",
    "    \n",
    "    return inner\n",
    "\n",
    "a2 = adder(2)\n",
    "a2(12)\n",
    "# a5 = adder(5)\n",
    "# a5(10)"
   ]
  },
  {
   "cell_type": "code",
   "execution_count": 8,
   "metadata": {},
   "outputs": [
    {
     "data": {
      "text/plain": [
       "4"
      ]
     },
     "execution_count": 8,
     "metadata": {},
     "output_type": "execute_result"
    }
   ],
   "source": [
    "def counter():\n",
    "    count = 0\n",
    "    def inner():\n",
    "        nonlocal count\n",
    "        count += 1\n",
    "        return count\n",
    "    \n",
    "    return inner\n",
    "\n",
    "q = counter()\n",
    "q()\n",
    "q()\n",
    "q()\n",
    "q()\n"
   ]
  },
  {
   "cell_type": "code",
   "execution_count": 9,
   "metadata": {},
   "outputs": [
    {
     "data": {
      "text/plain": [
       "7"
      ]
     },
     "execution_count": 9,
     "metadata": {},
     "output_type": "execute_result"
    }
   ],
   "source": [
    "def counter():\n",
    "    count = 0\n",
    "    def inner():\n",
    "        nonlocal count\n",
    "        count += 1\n",
    "        return count\n",
    "    \n",
    "    return inner\n",
    "\n",
    "q = counter()\n",
    "q()\n",
    "q()\n",
    "q()\n",
    "q()\n",
    "r = counter()\n",
    "r()\n",
    "r()\n",
    "r()\n",
    "r()\n",
    "r()\n",
    "r()\n",
    "r()\n"
   ]
  }
 ],
 "metadata": {
  "kernelspec": {
   "display_name": "Python 3.8.12 64-bit",
   "language": "python",
   "name": "python3"
  },
  "language_info": {
   "codemirror_mode": {
    "name": "ipython",
    "version": 3
   },
   "file_extension": ".py",
   "mimetype": "text/x-python",
   "name": "python",
   "nbconvert_exporter": "python",
   "pygments_lexer": "ipython3",
   "version": "3.8.12"
  },
  "orig_nbformat": 4,
  "vscode": {
   "interpreter": {
    "hash": "5b3ded1ccb95c1d9bd405e7b823d9e85424cde40fbb5985eb47e999ef50e15b4"
   }
  }
 },
 "nbformat": 4,
 "nbformat_minor": 2
}
