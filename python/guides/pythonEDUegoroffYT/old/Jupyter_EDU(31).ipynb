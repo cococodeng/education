{
 "cells": [
  {
   "cell_type": "markdown",
   "metadata": {},
   "source": [
    "# 31 Множества в Python. Тип данных set\n"
   ]
  },
  {
   "cell_type": "code",
   "execution_count": null,
   "metadata": {},
   "outputs": [],
   "source": [
    "a = {1,2,3}\n",
    "print(a, type(a))"
   ]
  },
  {
   "cell_type": "code",
   "execution_count": null,
   "metadata": {},
   "outputs": [],
   "source": [
    "a = {1,2,3,1,2,3,4}\n",
    "print(a, type(a))"
   ]
  },
  {
   "cell_type": "code",
   "execution_count": null,
   "metadata": {},
   "outputs": [],
   "source": [
    "a = {1,2,3,1,2,3,4}\n",
    "b = {'hi','ha','hi','ha','ho'}\n",
    "print(a,b)"
   ]
  },
  {
   "cell_type": "code",
   "execution_count": null,
   "metadata": {},
   "outputs": [],
   "source": [
    "c = set ('abracadabra')\n",
    "print(c)\n",
    "d = set ([1,2,3,4,5,6,1])\n",
    "print(d)\n",
    "e = set(range(5))\n",
    "print(e)\n",
    "f = set()\n",
    "print(f, type(f))\n",
    "# g = set ([[1,2],[2,3],[1,2],[2,5]])\n",
    "# print(g)\n",
    "# Множества только неизмняемые, строки числа и кортежи\n"
   ]
  },
  {
   "cell_type": "code",
   "execution_count": null,
   "metadata": {},
   "outputs": [],
   "source": [
    "a = [1,2,3,1,2,3,1,2,3,4]\n",
    "a = list(set(a))\n",
    "print(a)"
   ]
  },
  {
   "cell_type": "code",
   "execution_count": null,
   "metadata": {},
   "outputs": [],
   "source": [
    "a = {54,32,54,3,4,2}\n",
    "a.add(9)\n",
    "print(a)\n",
    "a= a.add(9)\n",
    "print(a)"
   ]
  },
  {
   "cell_type": "code",
   "execution_count": 17,
   "metadata": {},
   "outputs": [
    {
     "name": "stdout",
     "output_type": "stream",
     "text": [
      "{32, 2, 3, 4, 54, 9}\n",
      "{2, 3, 4, 5, 6, 7, 9, 32, 54}\n",
      "{0, 1, 2, 3, 4, 5, 6, 7, 'b', 9, 7888, 32, 'a', 54}\n",
      "{0, 1, 2, 3, 5, 6, 7, 'b', 9, 7888, 32, 'a', 54}\n",
      "{0, 1, 2, 5, 6, 7, 'b', 9, 7888, 32, 'a', 54}\n",
      "{1, 2, 5, 6, 7, 'b', 9, 7888, 32, 'a', 54}\n",
      "11\n",
      "False True\n",
      "set()\n"
     ]
    }
   ],
   "source": [
    "a = {54,32,54,3,4,2}\n",
    "a.add(9)\n",
    "print(a)\n",
    "a.update([5,6,7])\n",
    "print(a)\n",
    "a.update('a','b',range(4),{2,4,7888})\n",
    "print(a)\n",
    "a.discard(4)\n",
    "print(a)\n",
    "a.remove(3) #if no elem = error\n",
    "print(a)\n",
    "a.pop() #remove random elem\n",
    "print(a)\n",
    "print(len(a))\n",
    "print(4 in a, 7 in a)\n",
    "a.clear()\n",
    "print(a)\n",
    "\n"
   ]
  },
  {
   "cell_type": "code",
   "execution_count": 33,
   "metadata": {},
   "outputs": [
    {
     "name": "stdout",
     "output_type": "stream",
     "text": [
      "1\n",
      "2\n",
      "3\n",
      "4\n"
     ]
    }
   ],
   "source": [
    "a = {4,3,2,1}\n",
    "b = {3,4,5,6,7}\n",
    "c = {10,11,12}\n",
    "# print(a.intersection(b))\n",
    "# print(a.intersection_update(b))\n",
    "# print( a & b )\n",
    "# a&=c\n",
    "# print(a,b)\n",
    "# print(a | b)\n",
    "# print(a.union(b))\n",
    "# print(a)\n",
    "# a=a.union(b)\n",
    "# print(a)\n",
    "\n",
    "# print(b-a)\n",
    "# b-=a\n",
    "# print(b)\n",
    "\n",
    "# print( a ^ b)\n",
    "\n",
    "# print( a == b)\n",
    "\n",
    "# print(a<b) #подмножество\n",
    "# print(b<a)\n",
    "\n",
    "# for i in a:\n",
    "#     print(i)"
   ]
  },
  {
   "cell_type": "code",
   "execution_count": 39,
   "metadata": {},
   "outputs": [
    {
     "name": "stdout",
     "output_type": "stream",
     "text": [
      "6\n"
     ]
    }
   ],
   "source": [
    "text = input()\n",
    "a = set()\n",
    "while text!=\"\":\n",
    "    # print(text.split())\n",
    "    slova = text.split()\n",
    "    a.update(slova)\n",
    "    # print(a)\n",
    "    text = input()\n",
    "print(len(a))"
   ]
  }
 ],
 "metadata": {
  "interpreter": {
   "hash": "c072b5b97b769e545e4a30fe0c2899590d05a0279abf2521fc01dee924670526"
  },
  "kernelspec": {
   "display_name": "Python 3.9.7 64-bit ('.venv': venv)",
   "language": "python",
   "name": "python3"
  },
  "language_info": {
   "codemirror_mode": {
    "name": "ipython",
    "version": 3
   },
   "file_extension": ".py",
   "mimetype": "text/x-python",
   "name": "python",
   "nbconvert_exporter": "python",
   "pygments_lexer": "ipython3",
   "version": "3.9.7"
  },
  "orig_nbformat": 4
 },
 "nbformat": 4,
 "nbformat_minor": 2
}
