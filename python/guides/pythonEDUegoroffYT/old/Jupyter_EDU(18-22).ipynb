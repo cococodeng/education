{
 "cells": [
  {
   "cell_type": "markdown",
   "metadata": {},
   "source": [
    "# 18 Цикл while Python\n"
   ]
  },
  {
   "cell_type": "code",
   "execution_count": null,
   "metadata": {},
   "outputs": [],
   "source": [
    "##1 2 3 4 5 || 6 7 8\n",
    "i=1\n",
    "while i<6:\n",
    "    print(i)\n",
    "    i+=1"
   ]
  },
  {
   "cell_type": "code",
   "execution_count": null,
   "metadata": {},
   "outputs": [],
   "source": [
    "##1 2 3 4 5 || 6 7 8\n",
    "i=1\n",
    "while i<22:\n",
    "    print(i)\n",
    "    i+=2"
   ]
  },
  {
   "cell_type": "code",
   "execution_count": null,
   "metadata": {},
   "outputs": [],
   "source": [
    "##1 2 3 4 5 || 6 7 8\n",
    "i=1\n",
    "while i<600:\n",
    "    print(i)\n",
    "    i=i*2"
   ]
  },
  {
   "cell_type": "code",
   "execution_count": null,
   "metadata": {},
   "outputs": [],
   "source": [
    "##1 2 3 4 5 || 6 7 8\n",
    "n=int(input())\n",
    "i=1\n",
    "while i<=n:\n",
    "    print('hello')\n",
    "    i+=1"
   ]
  },
  {
   "cell_type": "code",
   "execution_count": null,
   "metadata": {},
   "outputs": [],
   "source": [
    "##1 2 3 4 5 || 6 7 8\n",
    "i=20\n",
    "while i>9:\n",
    "    print(i)\n",
    "    i-=1"
   ]
  },
  {
   "cell_type": "code",
   "execution_count": null,
   "metadata": {},
   "outputs": [],
   "source": [
    "a=int(input())\n",
    "while a!=0:\n",
    "    print('repeat input')\n",
    "    a=int((input()))"
   ]
  },
  {
   "cell_type": "code",
   "execution_count": null,
   "metadata": {},
   "outputs": [],
   "source": [
    "a=input()\n",
    "password='qwerty'\n",
    "while a!='qwerty':\n",
    "    print('Wrong Password')\n",
    "    a=(input())\n",
    "print('access granted')"
   ]
  },
  {
   "cell_type": "code",
   "execution_count": null,
   "metadata": {},
   "outputs": [],
   "source": [
    "a=[1,2,3,4,5]*5\n",
    "print(a)\n",
    "a.remove(3)\n",
    "print(a)\n",
    "while 3 in a:\n",
    "    a.remove(3)\n",
    "    print(a)\n",
    "\n",
    "while 5 in a:\n",
    "    a.remove(5)\n",
    "    print(a)\n",
    "    \n"
   ]
  },
  {
   "cell_type": "code",
   "execution_count": null,
   "metadata": {},
   "outputs": [],
   "source": [
    "s='privet'\n",
    "while len(s)>0:\n",
    "    print(s[0],s[1:])\n",
    "    s=s[1:]"
   ]
  },
  {
   "cell_type": "code",
   "execution_count": null,
   "metadata": {},
   "outputs": [],
   "source": [
    "s='gsdahgdskjgbnsdakKJGDSBKDGSGSD3t2t3223t@@'\n",
    "while len(s)>0:\n",
    "    bukva=s[0]\n",
    "    if bukva>='a' and bukva <='z':\n",
    "        print(bukva,'small')\n",
    "    elif bukva>='A' and bukva <='Z':\n",
    "        print(bukva,'big')\n",
    "    elif bukva.isdigit():\n",
    "        print(bukva,'digit')\n",
    "    else:\n",
    "        print(bukva,'symbol')\n",
    "\n",
    "    s=s[1:]"
   ]
  },
  {
   "cell_type": "markdown",
   "metadata": {},
   "source": [
    "# Задачи"
   ]
  },
  {
   "cell_type": "code",
   "execution_count": null,
   "metadata": {},
   "outputs": [],
   "source": [
    "N = int(input())\n",
    "i=1\n",
    "while i*i<N:\n",
    "    print(i*i)\n",
    "    i+=1\n"
   ]
  },
  {
   "cell_type": "code",
   "execution_count": null,
   "metadata": {},
   "outputs": [],
   "source": [
    "x,y=map(int,input().split())\n",
    "day=1\n",
    "while x<y:\n",
    "    x=x*1.1\n",
    "    day=day+1\n",
    "print(day)"
   ]
  },
  {
   "cell_type": "code",
   "execution_count": null,
   "metadata": {},
   "outputs": [],
   "source": [
    "a,b=map(int,input().split())\n",
    "# ves a < ves b\n",
    "# a x3 every year b x2 every year\n",
    "# year a>b?\n",
    "year=0\n",
    "while a<=b:\n",
    "    a=a*3\n",
    "    b=b*2\n",
    "    year=year+1\n",
    "    print(f'a {a:<12} b {b:<12} year {year:<12}')\n",
    "print(year)\n"
   ]
  },
  {
   "cell_type": "code",
   "execution_count": null,
   "metadata": {},
   "outputs": [],
   "source": [
    "# У Васи есть n пар носков. Утром каждого дня, собираясь в школу, Вася должен надеть пару носков. Вечером, прийдя со школы, Вася снимает надетые носки и выбрасывает их. Каждый m-й день (в дни с номерами m, 2m, 3m, ...) мама покупает Васе одну пару носков. Она делает это поздно вечером, поэтому Вася может надеть новые носки не раньше следующего дня. На сколько подряд идущих дней Васе хватит носков?\n",
    "\n",
    "n,m=map(int,input().split())\n",
    "days=0\n",
    "while n>0 and m>0:\n",
    "    print(f'n {n:<5} m {m:<5} days {days:<5}')\n",
    "    n=n-1\n",
    "    days=days+1\n",
    "    if days%m ==0:\n",
    "        n=n+1\n",
    "print(days)"
   ]
  },
  {
   "cell_type": "code",
   "execution_count": null,
   "metadata": {},
   "outputs": [],
   "source": [
    "n,m=map(int,input('input n m; n(1:100) m(2:100)').split()) ## n(1:100) m(2:100)\n",
    "print(n+(n-1)//(m-1))"
   ]
  },
  {
   "cell_type": "code",
   "execution_count": null,
   "metadata": {},
   "outputs": [],
   "source": [
    "n=int(input('>0'))\n",
    "i=0\n",
    "cubeBlox=0\n",
    "while n-cubeBlox>0:\n",
    "    print(f'i={i}   n={n}   cubeBlox={cubeBlox}')\n",
    "    i=i+1\n",
    "    cubeBlox=(1+i)*i/2\n",
    "    n=n-cubeBlox\n",
    "print(f'FINAL: i={i}   n={n}   cubeBlox={cubeBlox}')\n",
    "print(i)"
   ]
  },
  {
   "cell_type": "markdown",
   "metadata": {},
   "source": [
    "# 20 Цикл while Алгоритм Евклида Python"
   ]
  },
  {
   "cell_type": "code",
   "execution_count": null,
   "metadata": {},
   "outputs": [],
   "source": [
    "a,b = map(int,input().split())\n",
    "\n",
    "while a!=b:\n",
    "    if a>b:\n",
    "        a=a-b\n",
    "    else: \n",
    "        b=b-a\n",
    "print(a)"
   ]
  },
  {
   "cell_type": "code",
   "execution_count": null,
   "metadata": {},
   "outputs": [],
   "source": [
    "a,b = map(int,input().split())\n",
    "aOrig = a\n",
    "bOrig = b\n",
    "while b>0:\n",
    "    # c=a%b\n",
    "    # a=b\n",
    "    # b=c\n",
    "    a,b=b,a%b\n",
    "print(f'НОД={a}')\n",
    "print(f'НОК={aOrig*bOrig//a}')"
   ]
  },
  {
   "cell_type": "markdown",
   "metadata": {},
   "source": [
    "# 22 Цикл while. Инструкции break, continue, else"
   ]
  },
  {
   "cell_type": "code",
   "execution_count": null,
   "metadata": {},
   "outputs": [],
   "source": [
    "i=1\n",
    "while i>0:\n",
    "    print('Итерация №', i)\n",
    "    i=i+1"
   ]
  },
  {
   "cell_type": "code",
   "execution_count": null,
   "metadata": {},
   "outputs": [],
   "source": [
    "i=1\n",
    "while 5>1:\n",
    "    print('Итерация №', i)\n",
    "    i=i+1"
   ]
  },
  {
   "cell_type": "code",
   "execution_count": null,
   "metadata": {},
   "outputs": [],
   "source": [
    "i=1\n",
    "while True:\n",
    "    print('Итерация №', i)\n",
    "    i=i+1"
   ]
  },
  {
   "cell_type": "code",
   "execution_count": null,
   "metadata": {},
   "outputs": [],
   "source": [
    "i=1\n",
    "while True:\n",
    "    print('Итерация №', i)\n",
    "    if i==10:\n",
    "        break\n",
    "        print('after break')\n",
    "    i=i+1\n",
    "print('hello')"
   ]
  },
  {
   "cell_type": "code",
   "execution_count": null,
   "metadata": {},
   "outputs": [],
   "source": [
    "while True:\n",
    "    a=input()\n",
    "    if a == 'exit':\n",
    "        break # Выводит из цикла\n",
    "    print(a, len(a))"
   ]
  },
  {
   "cell_type": "code",
   "execution_count": null,
   "metadata": {},
   "outputs": [],
   "source": [
    "while True:\n",
    "    a=input()\n",
    "    if len(a)<3:\n",
    "        continue # Кидает в начало цикла\n",
    "    if a == 'exit':\n",
    "        break\n",
    "    print(a, len(a))"
   ]
  },
  {
   "cell_type": "code",
   "execution_count": null,
   "metadata": {},
   "outputs": [],
   "source": [
    "i=1\n",
    "while i<=15:\n",
    "    print(i)\n",
    "    i+=1\n",
    "else:\n",
    "    print('Good')\n",
    "    print('Job')\n",
    "print('End')"
   ]
  },
  {
   "cell_type": "code",
   "execution_count": null,
   "metadata": {},
   "outputs": [],
   "source": [
    "i=1\n",
    "while i<=15:\n",
    "    print(i)\n",
    "    if i==5:\n",
    "        break #Пропускает блок Else\n",
    "    i+=1\n",
    "else:\n",
    "    print('Good') # Не сработает из-за break\n",
    "    print('Job') # Не сработает из-за break\n",
    "print('End')"
   ]
  },
  {
   "cell_type": "code",
   "execution_count": null,
   "metadata": {},
   "outputs": [],
   "source": [
    "a=[532,512,522,22,12,15212]\n",
    "# Yes - all Even\n",
    "# No - all Odd\n",
    "while len(a)>0:\n",
    "    last=a.pop()\n",
    "    if last%2!=0:\n",
    "        print('NO', last)\n",
    "        break\n",
    "else:\n",
    "    print('YES')\n"
   ]
  }
 ],
 "metadata": {
  "interpreter": {
   "hash": "c072b5b97b769e545e4a30fe0c2899590d05a0279abf2521fc01dee924670526"
  },
  "kernelspec": {
   "display_name": "Python 3.9.7 64-bit ('.venv': venv)",
   "name": "python3"
  },
  "language_info": {
   "codemirror_mode": {
    "name": "ipython",
    "version": 3
   },
   "file_extension": ".py",
   "mimetype": "text/x-python",
   "name": "python",
   "nbconvert_exporter": "python",
   "pygments_lexer": "ipython3",
   "version": "3.9.7"
  },
  "orig_nbformat": 4
 },
 "nbformat": 4,
 "nbformat_minor": 2
}
