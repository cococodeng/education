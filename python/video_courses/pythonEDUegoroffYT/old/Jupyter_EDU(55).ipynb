{
 "cells": [
  {
   "cell_type": "markdown",
   "metadata": {},
   "source": [
    "# 55 Установка модулей в Python || Установка пакета Python || Установка библиотеки в python\n"
   ]
  },
  {
   "cell_type": "markdown",
   "metadata": {},
   "source": [
    "Команды\n",
    "pip freeze - отобразить список установленных модулей/пакетов\n",
    "pip install flask - установить пакет flask\n",
    "pip install requst==2.10 - установить пакет requrest v 2.10, новая версия удалится\n",
    "pip freeze>requirements.txt - создать список пакетов\n",
    "pip install -r requirements.txt - установить пакеты из списка\n",
    "#pypi.org - поиск модулей\n"
   ]
  },
  {
   "cell_type": "markdown",
   "metadata": {},
   "source": [
    "# 56 Функции all и any. Программирование Python\n"
   ]
  },
  {
   "cell_type": "code",
   "execution_count": null,
   "metadata": {},
   "outputs": [],
   "source": [
    "print(bool(45))\n",
    "print(bool(0))\n",
    "print(bool())\n",
    "print(bool('  '))\n",
    "print(bool([4,5]))\n",
    "print(bool([]))\n"
   ]
  },
  {
   "cell_type": "code",
   "execution_count": null,
   "metadata": {},
   "outputs": [],
   "source": [
    "print('ALL')\n",
    "a = ['hello','hi','world']\n",
    "print(all(a)) # принимает коллекцию и преобразует их в bool, истинна когда все элементы непустые\n",
    "a = ['hello','','world']\n",
    "print(all(a)) # принимает коллекцию и преобразует их в bool, истинна когда все элементы непустые\n",
    "\n",
    "print('ANY')\n",
    "a = ['hello','hi','world']\n",
    "print(any(a)) # принимает коллекцию, истинно когда хотя бы один элемент непустой\n",
    "a = ['','','']\n",
    "print(any(a)) # принимает коллекцию, истинно когда хотя бы один элемент непустой\n"
   ]
  },
  {
   "cell_type": "code",
   "execution_count": null,
   "metadata": {},
   "outputs": [],
   "source": [
    "a = [1,0,3]\n",
    "print(all(a))\n",
    "print(any(a))"
   ]
  },
  {
   "cell_type": "code",
   "execution_count": null,
   "metadata": {},
   "outputs": [],
   "source": [
    "a = 100\n",
    "condition_1 = a%2==0\n",
    "condition_2 = a>50\n",
    "condition_3 = a<1000\n",
    "# print(all(condition_1,condition_2,condition_3)) #error\n",
    "# print(any(condition_1,condition_2,condition_3)) #error\n",
    "print(all([condition_1,condition_2,condition_3])) # must be a list or tuple (collection)\n",
    "print(any([condition_1,condition_2,condition_3])) # must be a list or tuple (collection)\n",
    "print(all((condition_1,condition_2,condition_3))) # must be a list or tuple (collection)\n",
    "print(any((condition_1,condition_2,condition_3))) # must be a list or tuple (collection)\n",
    "\n"
   ]
  },
  {
   "cell_type": "code",
   "execution_count": null,
   "metadata": {},
   "outputs": [],
   "source": [
    "a = 99\n",
    "condition_1 = a%2==0\n",
    "condition_2 = a>50\n",
    "condition_3 = a<1000\n",
    "# print(all(condition_1,condition_2,condition_3)) #error\n",
    "# print(any(condition_1,condition_2,condition_3)) #error\n",
    "print(all([condition_1,condition_2,condition_3])) # must be a list or tuple (collection)\n",
    "print(any([condition_1,condition_2,condition_3])) # must be a list or tuple (collection)\n",
    "print(all((condition_1,condition_2,condition_3))) # must be a list or tuple (collection)\n",
    "print(any((condition_1,condition_2,condition_3))) # must be a list or tuple (collection)\n",
    "print('--- not inversion ---')\n",
    "print(not not any((condition_1,condition_2,condition_3))) # must be a list or tuple (collection)\n",
    "print(not any((condition_1,condition_2,condition_3))) # must be a list or tuple (collection)\n",
    "\n"
   ]
  }
 ],
 "metadata": {
  "interpreter": {
   "hash": "c072b5b97b769e545e4a30fe0c2899590d05a0279abf2521fc01dee924670526"
  },
  "kernelspec": {
   "display_name": "Python 3.9.7 64-bit ('.venv': venv)",
   "language": "python",
   "name": "python3"
  },
  "language_info": {
   "codemirror_mode": {
    "name": "ipython",
    "version": 3
   },
   "file_extension": ".py",
   "mimetype": "text/x-python",
   "name": "python",
   "nbconvert_exporter": "python",
   "pygments_lexer": "ipython3",
   "version": "3.9.7"
  },
  "orig_nbformat": 4
 },
 "nbformat": 4,
 "nbformat_minor": 2
}
