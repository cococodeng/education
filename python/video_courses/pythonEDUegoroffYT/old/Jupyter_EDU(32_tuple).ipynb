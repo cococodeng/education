{
 "cells": [
  {
   "cell_type": "markdown",
   "metadata": {},
   "source": [
    "# Кортежи\n",
    "Обезопасить данные от изменения\n",
    "Кортежи экономичнее и быстрее"
   ]
  },
  {
   "cell_type": "code",
   "execution_count": null,
   "metadata": {},
   "outputs": [],
   "source": [
    "a = [1,2,3,4]\n",
    "tpl = (1,2,3,4)\n",
    "print(a.__sizeof__())\n",
    "print(tpl.__sizeof__())\n",
    "\n",
    "a[1]=22\n",
    "print(a)"
   ]
  },
  {
   "cell_type": "code",
   "execution_count": null,
   "metadata": {},
   "outputs": [],
   "source": [
    "a = ()\n",
    "b = tuple()\n",
    "print(type(a),type(b))"
   ]
  },
  {
   "cell_type": "code",
   "execution_count": null,
   "metadata": {},
   "outputs": [],
   "source": [
    "a = (1,2,3,4)\n",
    "print(a)\n",
    "print(a[0])\n",
    "# a[1]=22 error\n",
    "print(a[0:3])\n",
    "del a\n",
    "print(a)"
   ]
  },
  {
   "cell_type": "code",
   "execution_count": 12,
   "metadata": {},
   "outputs": [
    {
     "name": "stdout",
     "output_type": "stream",
     "text": [
      "alex 27 True\n"
     ]
    }
   ],
   "source": [
    "user = ('alex', 27, True)\n",
    "name, age, admin = user\n",
    "print(name,age,admin)"
   ]
  },
  {
   "cell_type": "code",
   "execution_count": 15,
   "metadata": {},
   "outputs": [
    {
     "name": "stdout",
     "output_type": "stream",
     "text": [
      "<class 'list'>\n",
      "<class 'tuple'>\n"
     ]
    }
   ],
   "source": [
    "lst = [1,2,3]\n",
    "print(type(lst))\n",
    "tpl = tuple(lst)\n",
    "print(type(tpl))"
   ]
  },
  {
   "cell_type": "code",
   "execution_count": 17,
   "metadata": {},
   "outputs": [
    {
     "name": "stdout",
     "output_type": "stream",
     "text": [
      "Alex\n",
      "27\n",
      "False\n"
     ]
    }
   ],
   "source": [
    "def get_User():\n",
    "    name = 'Alex'\n",
    "    age = 27\n",
    "    admin = False\n",
    "    return name, age, admin\n",
    "\n",
    "user = get_User()\n",
    "print(user[0])\n",
    "print(user[1])\n",
    "print(user[2])\n"
   ]
  },
  {
   "cell_type": "code",
   "execution_count": 19,
   "metadata": {},
   "outputs": [
    {
     "name": "stdout",
     "output_type": "stream",
     "text": [
      "Alex\n",
      "27\n",
      "False\n",
      "Alex\n",
      "27\n",
      "False\n"
     ]
    }
   ],
   "source": [
    "user = ('Alex',27,False)\n",
    "for item in user:\n",
    "    print(item)\n",
    "\n",
    "i = 0\n",
    "while i < len(user):\n",
    "    print(user[i])\n",
    "    i+=1\n"
   ]
  },
  {
   "cell_type": "code",
   "execution_count": 20,
   "metadata": {},
   "outputs": [
    {
     "name": "stdout",
     "output_type": "stream",
     "text": [
      "Found\n"
     ]
    }
   ],
   "source": [
    "user = ('Alex',27,False)\n",
    "name = \"Alex\"\n",
    "if name in user:\n",
    "    print('Found')"
   ]
  }
 ],
 "metadata": {
  "interpreter": {
   "hash": "c072b5b97b769e545e4a30fe0c2899590d05a0279abf2521fc01dee924670526"
  },
  "kernelspec": {
   "display_name": "Python 3.9.7 64-bit ('.venv': venv)",
   "language": "python",
   "name": "python3"
  },
  "language_info": {
   "codemirror_mode": {
    "name": "ipython",
    "version": 3
   },
   "file_extension": ".py",
   "mimetype": "text/x-python",
   "name": "python",
   "nbconvert_exporter": "python",
   "pygments_lexer": "ipython3",
   "version": "3.9.7"
  },
  "orig_nbformat": 4
 },
 "nbformat": 4,
 "nbformat_minor": 2
}
