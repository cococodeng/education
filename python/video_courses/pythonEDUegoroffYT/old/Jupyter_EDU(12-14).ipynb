{
 "cells": [
  {
   "cell_type": "markdown",
   "metadata": {},
   "source": [
    "# 12 Списки и операции над ними Python"
   ]
  },
  {
   "cell_type": "code",
   "execution_count": null,
   "metadata": {},
   "outputs": [],
   "source": [
    "marks=[4,5,4,3]\n",
    "t1=20\n",
    "t2=24\n",
    "t_july=[20,25,32,12]\n",
    "print(t_july, marks)\n",
    "a=[True,43,'hello',5.4,[2,3,4]]\n",
    "b=[]\n",
    "print(type(a))\n",
    "print(len([1,2,3]))\n",
    "print(len([]))\n",
    "print(len(a))\n",
    "print([12,13]+[14,15])\n",
    "a=a+[3]\n",
    "print(a)\n",
    "a=['hi']+a\n",
    "print(a)"
   ]
  },
  {
   "cell_type": "code",
   "execution_count": null,
   "metadata": {},
   "outputs": [],
   "source": [
    "print(['hi']*5)\n",
    "list = [1,2,3]\n",
    "print(list)\n",
    "list = list*3\n",
    "print(list)\n",
    "print(list[1:-1:])\n",
    "print(list[0:1:]+list[1:-1:]+list[:-2:-1])\n",
    "\n"
   ]
  },
  {
   "cell_type": "code",
   "execution_count": null,
   "metadata": {},
   "outputs": [],
   "source": [
    "# проверка вхождения\n",
    "a = [5.4,1,2,3]\n",
    "print(5.4 in a)\n",
    "print('h' in a)\n"
   ]
  },
  {
   "cell_type": "code",
   "execution_count": null,
   "metadata": {},
   "outputs": [],
   "source": [
    "w=[54,54,632,2626,-43]\n",
    "print(w,'print(max(w))',max(w))\n",
    "print(min(w))\n",
    "print(sum(w))\n",
    "print(sum([1,2,3,4]))\n",
    "print(sorted(w)) #sort\n",
    "print(sorted(w,reverse=True)) #reverse sort\n",
    "# print(max([1,2,3,'asd'])) #unsupported operation\n",
    "# print(sum([1,2,3,'asd'])) #unsupported operation\n",
    "print([100,54]>[34,5435,623263,26362],'::print([100,54]>[34,5435,623263,26362])') #copmaring first elements\n",
    "print([1,2,3]==[1,2,3],'print([1,2,3]==[1,2,3])')"
   ]
  },
  {
   "cell_type": "code",
   "execution_count": null,
   "metadata": {},
   "outputs": [],
   "source": [
    "marks = [4,5,3,2,3,5,4,4,5]\n",
    "print(sum(marks)/len(marks))"
   ]
  },
  {
   "cell_type": "markdown",
   "metadata": {},
   "source": [
    "# 13 Списки: индексы и срезы Python\n"
   ]
  },
  {
   "cell_type": "code",
   "execution_count": null,
   "metadata": {},
   "outputs": [],
   "source": [
    "a=[43,54,2,54,32]\n",
    "print(a[4])\n",
    "# a[7] out of index range\n",
    "print(a[-1])\n",
    "b=[3,4,5,6,7,8,9,10,11]\n",
    "print(b[-1])\n",
    "print(b[1:4])\n",
    "print(b[1:5])\n",
    "print(b[2:-1])\n",
    "print(b[2:9999])\n",
    "print(b[2:])\n",
    "print(b[2:9999])\n",
    "print(b[:2])\n",
    "print(b[:])\n",
    "print(b[::2]) # 2 is step\n",
    "print(b[1::2]) # 2 is step\n",
    "print(b[3:7:3]) # 3 is step\n",
    "print(b[3:6:3]) # 3 is step\n",
    "print(b[::-1]) #backwards\n",
    "print(b[::-2]) #backwards by 2 step"
   ]
  },
  {
   "cell_type": "code",
   "execution_count": null,
   "metadata": {},
   "outputs": [],
   "source": [
    "b=[3,4,5,6,7,8,9,10,11]\n",
    "print(b)\n",
    "b[2]=100\n",
    "print('b[2]=100')\n",
    "print(b)\n",
    "b[3:5]=34,23\n",
    "print('b[3:5]=34,23')\n",
    "print(b)\n",
    "b[2:5]=23,34\n",
    "print('b[2:5]=23,34')\n",
    "print(b)\n",
    "del b[2]\n",
    "print('del b[2]')\n",
    "print(b)\n"
   ]
  },
  {
   "cell_type": "code",
   "execution_count": null,
   "metadata": {},
   "outputs": [],
   "source": [
    "a=[1,2,3]\n",
    "d=a\n",
    "print(f'a={a}')\n",
    "print(f'd=a')\n",
    "print(f'a={a} d={d}')\n",
    "d[1]=100\n",
    "print('d[1]=100')\n",
    "print(f'd={d}')\n",
    "print(f'a={a}')\n",
    "a=[1,2,3]\n",
    "print(f'a={a}')\n",
    "d=a[:]\n",
    "print(f'd=a[:]')\n",
    "print(f'd={d}')\n",
    "d[1]=100\n",
    "print(f'd[1]=100')\n",
    "print('a',a,'d',d)"
   ]
  },
  {
   "cell_type": "markdown",
   "metadata": {},
   "source": [
    "# 14 Списки и их методы Python"
   ]
  },
  {
   "cell_type": "code",
   "execution_count": null,
   "metadata": {},
   "outputs": [],
   "source": [
    "a = [12,43,54,65,76,3]\n",
    "#append - добавить одно значение\n",
    "print(a)\n",
    "print('a.append(56)')\n",
    "a.append(56)\n",
    "print(a)\n"
   ]
  },
  {
   "cell_type": "code",
   "execution_count": null,
   "metadata": {},
   "outputs": [],
   "source": [
    "a = [12,43,54,65,76,3]\n",
    "#append - добавить одно значение\n",
    "print(a)\n",
    "print('a.append(string)')\n",
    "a.append('string')\n",
    "print(a)\n"
   ]
  },
  {
   "cell_type": "code",
   "execution_count": null,
   "metadata": {},
   "outputs": [],
   "source": [
    "a = [12,43,54,65,76,3]\n",
    "a.clear()\n",
    "print(a)"
   ]
  },
  {
   "cell_type": "code",
   "execution_count": null,
   "metadata": {},
   "outputs": [],
   "source": [
    "a = [12,43,54,65,76,3]\n",
    "b=a.copy()\n",
    "print(a)\n",
    "print(b)\n"
   ]
  },
  {
   "cell_type": "code",
   "execution_count": null,
   "metadata": {},
   "outputs": [],
   "source": [
    "a = [12,43,54,65,76,3]\n",
    "print(a.count(12))\n",
    "print(a.count(0))"
   ]
  },
  {
   "cell_type": "code",
   "execution_count": null,
   "metadata": {},
   "outputs": [],
   "source": [
    "a = [12,43,54,65,76,3]\n",
    "print(a)\n",
    "a.extend([1,2,3])\n",
    "print(a)"
   ]
  },
  {
   "cell_type": "code",
   "execution_count": null,
   "metadata": {},
   "outputs": [],
   "source": [
    "a = [12,43,54,12,76,3]\n",
    "print(a.index(12))\n",
    "print(a.index(12,3))\n",
    "print(a.index(12,6,88)) #no in list 6-88\n"
   ]
  },
  {
   "cell_type": "code",
   "execution_count": null,
   "metadata": {},
   "outputs": [],
   "source": [
    "a = [12,43,54,12,76,3]\n",
    "print(a)\n",
    "a.insert(2,100)\n",
    "print('a.insert(2,100)') #только один объект\n",
    "print(a)"
   ]
  },
  {
   "cell_type": "code",
   "execution_count": null,
   "metadata": {},
   "outputs": [],
   "source": [
    "a = [12,43,54,12,76,3]\n",
    "print(a)\n",
    "a.pop() #deletes last \n",
    "print(a)\n",
    "\n",
    "a = [12,43,54,12,76,3]\n",
    "print(a)\n",
    "last = a.pop()\n",
    "print(last)\n",
    "print(a)\n",
    "\n",
    "a = [12,43,54,12,76,3]\n",
    "print(a)\n",
    "a.pop(3)\n",
    "print(a)\n",
    "\n"
   ]
  },
  {
   "cell_type": "code",
   "execution_count": null,
   "metadata": {},
   "outputs": [],
   "source": [
    "a = [100,12,43,54,12,76,3]\n",
    "print(a)\n",
    "a.remove(100)\n",
    "print(a)\n",
    "# a.remove(532235) value error\n",
    "\n",
    "a = [100,12,43,54,12,76,3,100]\n",
    "print(a)\n",
    "a.remove(100)\n",
    "print(a)\n",
    "\n",
    "a = [100,12,43,54,12,76,3,100]\n",
    "print(f'a before removing 100 {a}')\n",
    "while a.count(100)!=0:\n",
    "    a.remove(100)\n",
    "print(f'a after removing 100 {a}')\n"
   ]
  },
  {
   "cell_type": "code",
   "execution_count": null,
   "metadata": {},
   "outputs": [],
   "source": [
    "a = [100,12,43,54,12,76,3,200]\n",
    "print(a)\n",
    "a.reverse()\n",
    "print(a)\n"
   ]
  },
  {
   "cell_type": "code",
   "execution_count": null,
   "metadata": {},
   "outputs": [],
   "source": [
    "a = [100,12,43,54,12,76,3,200]\n",
    "print(a)\n",
    "a.sort()\n",
    "print(a)\n",
    "a = [100,12,43,54,12,76,3,200]\n",
    "a.sort(reverse=True)\n",
    "print(a)\n",
    "a.sort(reverse=False)\n",
    "print(a)"
   ]
  },
  {
   "cell_type": "markdown",
   "metadata": {},
   "source": [
    "# Задачи"
   ]
  },
  {
   "cell_type": "code",
   "execution_count": null,
   "metadata": {},
   "outputs": [],
   "source": [
    "# Начиная очередной чемпионат, координаторы Codeforces всегда стараются сделать первую задачу максимально простой. В этот раз координатор выбрал некоторую задачу и спросил у n человек, достаточно ли она простая. Каждый человек ответил, что задача простая, или что задача сложная.\n",
    "\n",
    "# Если хоть кто-то из этих n человек ответил, что задача сложная, ее нужно заменить, иначе не нужно. По данным ответам определите, нужно ли заменить задачу.\n",
    "\n",
    "# Входные данные\n",
    "# В первой строке задано одно целое число n (1≤n≤100) — количество опрошенных человек.\n",
    "\n",
    "# Во второй строке заданы n целых чисел, каждое из которых равно либо 0, либо 1 — ответы опрошенных. Если i-е число равно 0, то i-й человек считает задачу простой, а если оно равно 1, то i-й человек считает задачу сложной.\n",
    "\n",
    "# Выходные данные\n",
    "# Выведите одно слово: «EASY», если задача по мнению всех опрошенных является легкой, либо «HARD», если хотя бы один опрошенный считает задачу сложной.\n",
    "\n",
    "# Вы можете выводить каждую из букв в любом регистре (как строчную или как заглавную): «EASY», «easy», «EaSY» и «eAsY» будут распознаны корректно.\n",
    "\n",
    "\n",
    "n=int(input('Number of respondents:'))\n",
    "e=[]\n",
    "for i in range(0,n):\n",
    "    e.append(int(input('Easy 0 or hard 1?')))\n",
    "\n",
    "print(f'n={n} e={e}')\n",
    "if e.count(1)!=0:\n",
    "    print ('HARD')\n",
    "else:\n",
    "    print ('EASY')"
   ]
  },
  {
   "cell_type": "code",
   "execution_count": null,
   "metadata": {},
   "outputs": [],
   "source": [
    "# A. Новый год: встреча друзей\n",
    "# ограничение по времени на тест1 секунда\n",
    "# ограничение по памяти на тест256 мегабайт\n",
    "# вводстандартный ввод\n",
    "# выводстандартный вывод\n",
    "# В Лайнландии на прямой Ox живут три друга. Первый живет в точке x1, второй живет в точке x2, а третий — в точке x3. Они собираются вместе встретить Новый Год, для чего им необходимо всем оказаться в одной точке. Какое минимальное суммарное расстояние им надо пройти, чтобы собраться вместе в одной точке и встретить Новый год?\n",
    "\n",
    "# Гарантируется, что правильный ответ всегда является целым числом.\n",
    "\n",
    "# Входные данные\n",
    "# В первой строке следует три различных целых числа x1, x2 и x3 (1 ≤ x1, x2, x3 ≤ 100) — координаты домов первого, второго и третьего друга.\n",
    "\n",
    "# Выходные данные\n",
    "# Выведите единственное целое число — минимальное суммарное расстояние, которое нужно пройти друзьям, чтобы собраться вместе.\n",
    "import math\n",
    "coord=[]\n",
    "for i in range(0,3):\n",
    "    coord.append(int(input(f'Coordinate x{i+1}?')))\n",
    "print(coord)\n",
    "coord.sort()\n",
    "print(coord)\n",
    "randevu = (coord[0] + coord[1] + coord[2])/len(coord)\n",
    "print(f'randevu={randevu}')\n",
    "dist=abs(coord[0]-randevu) + abs(coord[1]-randevu) + abs(coord[2]-randevu)\n",
    "print(dist)\n",
    "print(math.ceil(dist))\n",
    "\n",
    "# print(min(math.floor(),math.ceil()))\n"
   ]
  }
 ],
 "metadata": {
  "interpreter": {
   "hash": "856d3b0b82f66cdc734fd320041960aabb58f24e72a50cf80d1b4b97d1d67ae7"
  },
  "kernelspec": {
   "display_name": "Python 3.9.2 64-bit",
   "name": "python3"
  },
  "language_info": {
   "codemirror_mode": {
    "name": "ipython",
    "version": 3
   },
   "file_extension": ".py",
   "mimetype": "text/x-python",
   "name": "python",
   "nbconvert_exporter": "python",
   "pygments_lexer": "ipython3",
   "version": "3.9.2"
  },
  "orig_nbformat": 4
 },
 "nbformat": 4,
 "nbformat_minor": 2
}
