{
 "cells": [
  {
   "cell_type": "markdown",
   "metadata": {},
   "source": [
    "# 41 Рекурсия в Python. Рекурсивная функция Часть 1\n"
   ]
  },
  {
   "cell_type": "code",
   "execution_count": null,
   "metadata": {},
   "outputs": [],
   "source": [
    "def rec(x):\n",
    "    if x<4:\n",
    "        print(x)\n",
    "        rec(x+1)\n",
    "        print(x)\n",
    "\n",
    "rec(1)"
   ]
  },
  {
   "cell_type": "code",
   "execution_count": null,
   "metadata": {},
   "outputs": [],
   "source": [
    "def fact(x):\n",
    "    if x==1:\n",
    "        return 1\n",
    "    return fact(x-1)*x\n",
    "\n",
    "print(fact(5))\n",
    "print(fact(6))\n"
   ]
  },
  {
   "cell_type": "code",
   "execution_count": null,
   "metadata": {},
   "outputs": [],
   "source": [
    "#fibo\n",
    "def fib(n):\n",
    "    if n==1:\n",
    "        return 0\n",
    "    if n==2:\n",
    "        return 1\n",
    "    return fib(n-1) + fib(n-2)\n",
    "\n",
    "print(fib(5))\n",
    "print(fib(7))\n",
    "print(fib(8))\n",
    "# print(fib(70))\n"
   ]
  },
  {
   "cell_type": "code",
   "execution_count": null,
   "metadata": {},
   "outputs": [],
   "source": [
    "#palind\n",
    "def palindrom(s):\n",
    "    if len(s)<=1:\n",
    "        return True\n",
    "    if s[0]!=s[-1]:\n",
    "        return False\n",
    "    return palindrom(s[1:-1])\n",
    "\n",
    "print(palindrom('fafaff'))"
   ]
  },
  {
   "cell_type": "code",
   "execution_count": null,
   "metadata": {},
   "outputs": [],
   "source": [
    "import os\n",
    "\n",
    "path = 'D:\\\\Someshit\\\\Coding\\\\Python\\\\taskTestFolder\\\\'\n",
    "\n",
    "def obxodFile(path, level=1):\n",
    "    print('Level = ', level, 'Content: ', os.listdir(path))\n",
    "    for i in os.listdir(path):\n",
    "        if os.path.isdir(path+'\\\\'+i):\n",
    "            print('Спускаемся', path+'\\\\'+i)\n",
    "            obxodFile(path+'\\\\'+i,level+1)\n",
    "            print('Возвращаемся в',path)\n",
    "obxodFile(path)\n",
    "\n",
    "\n",
    "\n",
    "\n",
    "print(os.listdir(path))\n",
    "for i in os.listdir(path):\n",
    "    print(i,type(i),path+'\\\\'+i,os.path.isdir(path+'\\\\'+i))"
   ]
  },
  {
   "cell_type": "code",
   "execution_count": 13,
   "metadata": {},
   "outputs": [
    {
     "name": "stdout",
     "output_type": "stream",
     "text": [
      "<enumerate object at 0x000001FF11E71FC0>\n",
      "[(0, 10), (1, 20), (2, 30), (3, 40), (4, 50), (5, 60), (6, 70)]\n",
      "(0, 10)\n",
      "(1, 20)\n",
      "(2, 30)\n",
      "(3, 40)\n",
      "(4, 50)\n",
      "(5, 60)\n",
      "(6, 70)\n",
      "0 10\n",
      "1 20\n",
      "2 30\n",
      "3 40\n",
      "4 50\n",
      "5 60\n",
      "6 70\n",
      "1 20\n",
      "3 40\n",
      "5 60\n"
     ]
    }
   ],
   "source": [
    "# enumerate\n",
    "a = [10,20,30,40,50,60,70]\n",
    "print(enumerate(a))\n",
    "print(list(enumerate(a)))\n",
    "\n",
    "for para in enumerate (a):\n",
    "    print(para)\n",
    "\n",
    "for index,value in enumerate (a):\n",
    "    print(index,value)\n",
    "\n",
    "\n",
    "for index,value in enumerate (a):\n",
    "    if value%20==0:\n",
    "        print(index,value)    "
   ]
  },
  {
   "cell_type": "code",
   "execution_count": 15,
   "metadata": {},
   "outputs": [
    {
     "name": "stdout",
     "output_type": "stream",
     "text": [
      "[10, 20, 30, 40, 50, 60, 70]\n",
      "[11, 21, 31, 41, 51, 61, 71]\n"
     ]
    }
   ],
   "source": [
    "a = [10,20,30,40,50,60,70]\n",
    "for index,value in enumerate(a):\n",
    "    value+=1\n",
    "print(a)\n",
    "\n",
    "a = [10,20,30,40,50,60,70]\n",
    "for index,value in enumerate(a):\n",
    "    a[index]+=1\n",
    "print(a)"
   ]
  },
  {
   "cell_type": "code",
   "execution_count": 16,
   "metadata": {},
   "outputs": [
    {
     "name": "stdout",
     "output_type": "stream",
     "text": [
      "0 h\n",
      "1 e\n",
      "2 l\n",
      "3 l\n",
      "4 o\n"
     ]
    }
   ],
   "source": [
    "a = [10,20,30,40,50,60,70]\n",
    "s = 'hello'\n",
    "\n",
    "for index,value in enumerate(s):\n",
    "    print(index,value)"
   ]
  },
  {
   "cell_type": "code",
   "execution_count": 21,
   "metadata": {},
   "outputs": [
    {
     "name": "stdout",
     "output_type": "stream",
     "text": [
      "0 a\n",
      "1 b\n",
      "2 c\n",
      "0 apple\n",
      "1 banana\n",
      "2 mango\n",
      "10 apple\n",
      "11 banana\n",
      "12 mango\n",
      "0 10\n",
      "1 11\n",
      "2 12\n",
      "3 13\n",
      "4 14\n",
      "5 15\n",
      "6 16\n",
      "7 17\n",
      "8 18\n",
      "9 19\n"
     ]
    }
   ],
   "source": [
    "a = [10,20,30,40,50,60,70]\n",
    "s = 'hello'\n",
    "t = ('apple','banana','mango')\n",
    "d = {'a':1,'b':2,'c':3}\n",
    "\n",
    "for index,value in enumerate(d):\n",
    "    print(index,value)\n",
    "\n",
    "for index,value in enumerate(t):\n",
    "    print(index,value)\n",
    "\n",
    "for index,value in enumerate(t,10): #initial index\n",
    "    print(index,value)\n",
    "\n",
    "for index,value in enumerate(range(10,20)):\n",
    "    print(index,value)"
   ]
  },
  {
   "cell_type": "markdown",
   "metadata": {},
   "source": [
    "# lambda"
   ]
  }
 ],
 "metadata": {
  "interpreter": {
   "hash": "c072b5b97b769e545e4a30fe0c2899590d05a0279abf2521fc01dee924670526"
  },
  "kernelspec": {
   "display_name": "Python 3.9.7 64-bit ('.venv': venv)",
   "language": "python",
   "name": "python3"
  },
  "language_info": {
   "codemirror_mode": {
    "name": "ipython",
    "version": 3
   },
   "file_extension": ".py",
   "mimetype": "text/x-python",
   "name": "python",
   "nbconvert_exporter": "python",
   "pygments_lexer": "ipython3",
   "version": "3.9.7"
  },
  "orig_nbformat": 4
 },
 "nbformat": 4,
 "nbformat_minor": 2
}
