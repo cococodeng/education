{
 "cells": [
  {
   "cell_type": "markdown",
   "metadata": {},
   "source": [
    "# Урок 7 Деление нацело и деление по остатку Python"
   ]
  },
  {
   "cell_type": "code",
   "execution_count": 1,
   "metadata": {},
   "outputs": [
    {
     "name": "stdout",
     "output_type": "stream",
     "text": [
      "3\n",
      "5\n",
      "===\n",
      "12345 % 10 =  5\n",
      "12345 % 100 =  45\n",
      "12345 % 1000 =  345\n",
      "12345 % 10000 =  2354\n",
      "12345 % 100000 =  12354\n",
      "12345 // 10 =  1234\n",
      "12345 // 100 =  123\n",
      "12345 // 1000 =  12\n",
      "12345 // 10000 =  1\n",
      "12345 // 100000 =  0\n",
      "8//10= 0\n",
      "47865 - > 7\n",
      "47865//1000= 47\n",
      "47%10= 7\n",
      "47865//1000%10= 7\n"
     ]
    }
   ],
   "source": [
    "print(41//12)\n",
    "print(41%12)\n",
    "print('===')\n",
    "print(\"12345 % 10 = \",12345%10)\n",
    "print(\"12345 % 100 = \",12345%100)\n",
    "print(\"12345 % 1000 = \",12345%1000)\n",
    "print(\"12345 % 10000 = \",12354%10000)\n",
    "print(\"12345 % 100000 = \",12354%100000)\n",
    "print(\"12345 // 10 = \",12345//10)\n",
    "print(\"12345 // 100 = \",12345//100)\n",
    "print(\"12345 // 1000 = \",12345//1000)\n",
    "print(\"12345 // 10000 = \",12345//10000)\n",
    "print(\"12345 // 100000 = \",12345//100000)\n",
    "print(\"8//10=\",8//10)\n",
    "\n",
    "print(\"47865 - > 7\")\n",
    "print(\"47865//1000=\",47865//1000)\n",
    "print(\"47%10=\",47%10)\n",
    "print(\"47865//1000%10=\",47865//1000%10)"
   ]
  },
  {
   "cell_type": "code",
   "execution_count": null,
   "metadata": {},
   "outputs": [],
   "source": [
    "x = 47865\n",
    "a = x//10000\n",
    "b = x//1000%10\n",
    "c = x//100%10\n",
    "d = x//10%10\n",
    "e = x%10\n",
    "print('x = 47865:',a,b,c,d,e)\n"
   ]
  },
  {
   "cell_type": "code",
   "execution_count": null,
   "metadata": {},
   "outputs": [],
   "source": [
    "x = int(input())\n",
    "a = x//10000\n",
    "b = x//1000%10\n",
    "c = x//100%10\n",
    "d = x//10%10\n",
    "e = x%10\n",
    "print('x:',a,b,c,d,e)"
   ]
  },
  {
   "cell_type": "markdown",
   "metadata": {},
   "source": [
    "# Задачи"
   ]
  },
  {
   "cell_type": "code",
   "execution_count": null,
   "metadata": {},
   "outputs": [],
   "source": [
    "n = int(input())\n",
    "k = int(input())\n",
    "print(k//n)"
   ]
  },
  {
   "cell_type": "code",
   "execution_count": null,
   "metadata": {},
   "outputs": [],
   "source": [
    "n = int(input())\n",
    "k = int(input())\n",
    "print(k%n)"
   ]
  },
  {
   "cell_type": "code",
   "execution_count": null,
   "metadata": {},
   "outputs": [],
   "source": [
    "print(int(input())%10)"
   ]
  },
  {
   "cell_type": "code",
   "execution_count": null,
   "metadata": {},
   "outputs": [],
   "source": [
    "print(int(input())//10%10)\n"
   ]
  },
  {
   "cell_type": "code",
   "execution_count": null,
   "metadata": {},
   "outputs": [],
   "source": [
    "x = int(input('Trehznachnoe chislo = '))\n",
    "a = x//100\n",
    "b = x//10%10\n",
    "c = x%10\n",
    "print(a+b+c)"
   ]
  },
  {
   "cell_type": "code",
   "execution_count": null,
   "metadata": {},
   "outputs": [],
   "source": [
    "n = int(input())\n",
    "m = int(input())\n",
    "print((n+m-1)//n)"
   ]
  },
  {
   "cell_type": "code",
   "execution_count": null,
   "metadata": {},
   "outputs": [],
   "source": [
    "a = int(input()) # rub\n",
    "b = int(input()) # kop\n",
    "n = int(input()) # count\n",
    "\n",
    "print(n*a+(n*b//100), b*n%100)"
   ]
  },
  {
   "cell_type": "code",
   "execution_count": null,
   "metadata": {},
   "outputs": [],
   "source": [
    "# Задача №2945. Следующее четное\n",
    "n = int(input())\n",
    "print(n+2 - (n%2))"
   ]
  },
  {
   "cell_type": "code",
   "execution_count": null,
   "metadata": {},
   "outputs": [],
   "source": [
    "# Задача №2947. Электронные часы - 1\n",
    "# Дано число n. С начала суток прошло n минут. Определите, сколько часов и минут будут показывать электронные часы в этот момент. Программа должна вывести два числа: количество часов (от 0 до 23) и количество минут (от 0 до 59). Учтите, что число n может быть больше, чем количество минут в сутках.\n",
    "\n",
    "# Входные данные\n",
    "# Вводится целое число n.\n",
    "\n",
    "# Выходные данные\n",
    "# Выведите ответ на задачу.\n",
    "\n",
    "n = int(input())\n",
    "print(n)\n",
    "n = n%(24*60)\n",
    "print(n)\n",
    "print(n//60,n%60)"
   ]
  },
  {
   "cell_type": "code",
   "execution_count": null,
   "metadata": {},
   "outputs": [],
   "source": [
    "# Задача №3467. Парты\n",
    "# В некоторой школе решили набрать три новых математических класса и оборудовать кабинеты для них новыми партами. За каждой партой может сидеть два учащихся. Известно количество учащихся в каждом из трех классов. Выведите наименьшее число парт, которое нужно приобрести для них.\n",
    "\n",
    "# Входные данные\n",
    "# Программа получает на вход три натуральных числа: количество учащихся в каждом из трех классов (числа не превышают 1000).\n",
    "\n",
    "# Выходные данные\n",
    "# Выведите ответ на задачу.\n",
    "\n",
    "a = int(input())\n",
    "b = int(input())\n",
    "c = int(input())\n",
    "\n",
    "print((a//2 + a%2)+(b//2 + b%2)+(c//2 + c%2))"
   ]
  },
  {
   "cell_type": "code",
   "execution_count": null,
   "metadata": {},
   "outputs": [],
   "source": [
    "# Как-то раз хипстер Вася решил посчитать, сколько у него носков. Оказалось, что у Васи есть a красных носков и b синих носков.\n",
    "\n",
    "# Согласно последним веяниям моды, хипстеры должны носить носки разных цветов: на левой ноге красный, а на правой — синий.\n",
    "\n",
    "# Каждый день с утра Вася надевает новые носки, а перед сном выкидывает их, ведь стирать ему их очень не хочется.\n",
    "\n",
    "# Васе стало интересно, какое максимальное количество дней, в которые он сможет быть одетым по моде и носить разноцветные носки, и сколько затем дней он сможет ходить в одноцветных носках, пока носки либо не закончатся, либо из оставшихся носков нельзя будет составить ни одной пары.\n",
    "k = int(input())\n",
    "s = int(input())\n",
    "\n",
    "print(\n",
    "    min(k,s), (max(k,s)-min(k,s))//2\n",
    ")"
   ]
  },
  {
   "cell_type": "code",
   "execution_count": null,
   "metadata": {},
   "outputs": [],
   "source": [
    "# Задача №3469. Электронные часы - 2\n",
    "# Электронные часы показывают время в формате h:mm:ss, то есть сначала записывается количество часов в диапазоне от 0 до 23, потом обязательно двузначное количество минут, затем обязательно двузначное количество секунд. Количество минут и секунд при необходимости дополняются до двузначного числа нулями.\n",
    "\n",
    "# С начала некоторых суток прошло n секунд. Выведите, что покажут часы. Задачу необходимо решить без использования условных операторов (в том числе без тернарного оператора ?: в С++) и\\или циклов.\n",
    "\n",
    "# Входные данные\n",
    "# Вводится число n - целое, положительное, не превышает 107.\n",
    "\n",
    "# Выходные данные\n",
    "# Выведите показания часов, соблюдая формат.\n",
    "\n",
    "n = int(input())\n",
    "h = n % (24*60*60) // 3600\n",
    "mm= n % (24*60*60) // 60 % 60\n",
    "ss= n % (24*60*60) %  60 % 60\n",
    "print(\"%s:%s%s:%s%s\"%(h,mm//60,mm%10,ss//10,ss%10))"
   ]
  },
  {
   "cell_type": "code",
   "execution_count": null,
   "metadata": {},
   "outputs": [],
   "source": [
    "n = int(input()) % 86400\n",
    "print(n // 3600, str(n // 60 % 60).zfill(2), str(n % 60).zfill(2), sep=':')\n"
   ]
  },
  {
   "cell_type": "markdown",
   "metadata": {},
   "source": [
    "# Функции trunc, floor, ceil. Округление вверх и вниз в python"
   ]
  },
  {
   "cell_type": "code",
   "execution_count": null,
   "metadata": {},
   "outputs": [],
   "source": [
    "import math\n",
    "print('Trunc')\n",
    "print(math.trunc(32.3))\n",
    "print(math.trunc(32.99))\n",
    "print(math.trunc(-32.3))\n",
    "print(math.trunc(-32.99))\n",
    "\n",
    "print(int(32.99))\n",
    "print(int(-32.99))\n",
    "print('Floor')\n",
    "print(\"Floor(32.1)\",math.floor(32.1))\n",
    "print(\"Floor(32.8)\",math.floor(32.8))\n",
    "print(\"Floor(-3.1)\",math.floor(-3.1))\n",
    "print(\"Floor(-3.8)\",math.floor(-3.8))\n",
    "print('Ceil')\n",
    "\n",
    "print(\"Floor(4.5)\",math.ceil(4.5))\n",
    "print(\"Floor(4.8)\",math.ceil(4.8))\n",
    "print(\"Floor(-4.5)\",math.ceil(-4.5))\n",
    "print(\"Floor(-4.8)\",math.ceil(-4.8))\n",
    "\n"
   ]
  },
  {
   "cell_type": "code",
   "execution_count": null,
   "metadata": {},
   "outputs": [],
   "source": [
    "import math\n",
    "for i in range(-10, 10, 1):\n",
    "    print(\"I = %s Floor: %s Ceil: %s\"%(i/5,math.floor(i/5),math.ceil(i/5)))"
   ]
  },
  {
   "cell_type": "markdown",
   "metadata": {},
   "source": [
    "# Урок 8 Логический тип Bool. Операции сравнения Python\n"
   ]
  },
  {
   "cell_type": "code",
   "execution_count": null,
   "metadata": {},
   "outputs": [],
   "source": [
    "#True False\n",
    "print(5>1)\n",
    "print(6<4)\n",
    "# > < >= <= == !=\n",
    "print(2==-4+6)\n",
    "print(2!=3)"
   ]
  },
  {
   "cell_type": "code",
   "execution_count": null,
   "metadata": {},
   "outputs": [],
   "source": [
    "x=6\n",
    "print(x>0)\n",
    "x=0\n",
    "print(x>0)\n",
    "\n",
    "x=-7\n",
    "print(x%2==0)\n",
    "\n",
    "x=16\n",
    "print(x%4==0)\n",
    "\n",
    "x=15\n",
    "print(x%4!=0)\n",
    "print(not(x%4==0))\n"
   ]
  },
  {
   "cell_type": "code",
   "execution_count": null,
   "metadata": {},
   "outputs": [],
   "source": [
    "a = 5\n",
    "b = 7\n",
    "print(a>0 and b>0)"
   ]
  },
  {
   "cell_type": "code",
   "execution_count": null,
   "metadata": {},
   "outputs": [],
   "source": [
    "a = -5\n",
    "b = -7\n",
    "print(a>0 or b>0)"
   ]
  },
  {
   "cell_type": "code",
   "execution_count": null,
   "metadata": {},
   "outputs": [],
   "source": [
    "a = 5\n",
    "print(a%2==0 and a%3 == 0)\n",
    "a = 6\n",
    "print(a%2==0 and a%3 == 0)\n"
   ]
  },
  {
   "cell_type": "code",
   "execution_count": null,
   "metadata": {},
   "outputs": [],
   "source": [
    "# a [12;31]\n",
    "\n",
    "a = 31\n",
    "print(a>=12 and a<=31)"
   ]
  },
  {
   "cell_type": "code",
   "execution_count": null,
   "metadata": {},
   "outputs": [],
   "source": [
    "a = 517\n",
    "print(a%10==7)"
   ]
  },
  {
   "cell_type": "markdown",
   "metadata": {},
   "source": [
    "Priority:\n",
    "( )\n",
    "not\n",
    "and\n",
    "or"
   ]
  },
  {
   "cell_type": "code",
   "execution_count": null,
   "metadata": {},
   "outputs": [],
   "source": [
    "print(bool(1))\n",
    "print(bool(0))\n",
    "print(bool(5215))\n",
    "print(bool(-51251))\n",
    "print(bool('HGhsdha'))\n",
    "print(bool(''))"
   ]
  },
  {
   "cell_type": "code",
   "execution_count": null,
   "metadata": {},
   "outputs": [],
   "source": [
    "x = 5>2\n",
    "print(x)"
   ]
  },
  {
   "cell_type": "code",
   "execution_count": null,
   "metadata": {},
   "outputs": [],
   "source": [
    "s = 'abc''dfg'\n",
    "print(s)\n",
    "s = 'abc'+'dfg'\n",
    "print(s)\n"
   ]
  },
  {
   "cell_type": "markdown",
   "metadata": {},
   "source": [
    "# Задачи"
   ]
  },
  {
   "cell_type": "code",
   "execution_count": null,
   "metadata": {},
   "outputs": [],
   "source": [
    "# #1) Проверка на положительность\n",
    "# На вход поступает целое число. Программа должна вывести True, если введенное значение является положительным числом, в противном случае - False. \n",
    "\n",
    "print(int(input())>0)"
   ]
  },
  {
   "cell_type": "code",
   "execution_count": null,
   "metadata": {},
   "outputs": [],
   "source": [
    "print(int(input())%2==0)"
   ]
  },
  {
   "cell_type": "code",
   "execution_count": null,
   "metadata": {},
   "outputs": [],
   "source": [
    "# 3) Проверка  на кратность 6\n",
    "# На вход поступает целое число. Программа должна вывести True, если введенное значение кратно 6 (без остатка делится на 6), в противном случае - False. \n",
    "\n",
    "print(int(input())%6==0)"
   ]
  },
  {
   "cell_type": "code",
   "execution_count": null,
   "metadata": {},
   "outputs": [],
   "source": [
    "print(int(input())%9!=0)"
   ]
  },
  {
   "cell_type": "code",
   "execution_count": null,
   "metadata": {},
   "outputs": [],
   "source": [
    "print(int(input())%10==2)"
   ]
  },
  {
   "cell_type": "code",
   "execution_count": null,
   "metadata": {},
   "outputs": [],
   "source": [
    "x, y = map(int, input().split())\n",
    "print(x%7==0 and y%7==0)"
   ]
  },
  {
   "cell_type": "code",
   "execution_count": null,
   "metadata": {},
   "outputs": [],
   "source": [
    "print(int(input())%7==0 and int(input())%7==0)"
   ]
  },
  {
   "cell_type": "code",
   "execution_count": null,
   "metadata": {},
   "outputs": [],
   "source": [
    "a,b,c=map(int, input().split())\n",
    "print(a==b==c)"
   ]
  },
  {
   "cell_type": "code",
   "execution_count": null,
   "metadata": {},
   "outputs": [],
   "source": [
    "a = int(input())\n",
    "print (a>5 and a <=19)"
   ]
  },
  {
   "cell_type": "code",
   "execution_count": null,
   "metadata": {},
   "outputs": [],
   "source": [
    "print(int(input()),int(input()))"
   ]
  },
  {
   "cell_type": "code",
   "execution_count": null,
   "metadata": {},
   "outputs": [],
   "source": [
    "a,b,c,d=map(int,input().split())\n",
    "print(a%4==0 or b%4==0 or c%4==0 or d%4==0)"
   ]
  },
  {
   "cell_type": "code",
   "execution_count": null,
   "metadata": {},
   "outputs": [],
   "source": [
    "a,b,c=map(int,input().split())\n",
    "print(a==b or b==c or c==a)"
   ]
  },
  {
   "cell_type": "code",
   "execution_count": null,
   "metadata": {},
   "outputs": [],
   "source": [
    "print(11<=int(input())<=99)"
   ]
  },
  {
   "cell_type": "code",
   "execution_count": null,
   "metadata": {},
   "outputs": [],
   "source": [
    "a,b,c=map(int,input().split())\n",
    "print(a*a==b*b+c*c or b*b==c*c+a*a or c*c==b*b+a*a)"
   ]
  }
 ],
 "metadata": {
  "interpreter": {
   "hash": "856d3b0b82f66cdc734fd320041960aabb58f24e72a50cf80d1b4b97d1d67ae7"
  },
  "kernelspec": {
   "display_name": "Python 3.9.2 64-bit",
   "name": "python3"
  },
  "language_info": {
   "codemirror_mode": {
    "name": "ipython",
    "version": 3
   },
   "file_extension": ".py",
   "mimetype": "text/x-python",
   "name": "python",
   "nbconvert_exporter": "python",
   "pygments_lexer": "ipython3",
   "version": "3.9.7"
  },
  "orig_nbformat": 4
 },
 "nbformat": 4,
 "nbformat_minor": 2
}
