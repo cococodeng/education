{
 "cells": [
  {
   "cell_type": "markdown",
   "metadata": {},
   "source": [
    "# 46 Генераторы списков Python | List comprehension\n"
   ]
  },
  {
   "cell_type": "code",
   "execution_count": 35,
   "metadata": {},
   "outputs": [
    {
     "name": "stdout",
     "output_type": "stream",
     "text": [
      "[0, 0, 0, 0, 0, 0, 0]\n"
     ]
    }
   ],
   "source": [
    "#[выражение for val in коллекция]\n",
    "\n",
    "a = [0 for i in range(7)]\n",
    "print(a)"
   ]
  },
  {
   "cell_type": "code",
   "execution_count": null,
   "metadata": {},
   "outputs": [],
   "source": [
    "#[выражение for val in коллекция]\n",
    "\n",
    "a = [i for i in range(7)]\n",
    "print(a)"
   ]
  },
  {
   "cell_type": "code",
   "execution_count": null,
   "metadata": {},
   "outputs": [],
   "source": [
    "#[выражение for val in коллекция]\n",
    "\n",
    "a = [i**2 for i in range(1,55)]\n",
    "print(a)"
   ]
  },
  {
   "cell_type": "code",
   "execution_count": null,
   "metadata": {},
   "outputs": [],
   "source": [
    "a = [i%4 for i in range (1,15)]\n",
    "print(a)"
   ]
  },
  {
   "cell_type": "code",
   "execution_count": null,
   "metadata": {},
   "outputs": [],
   "source": [
    "a = [i for i in 'hello']\n",
    "print(a)\n",
    "a = [i*5 for i in 'hello']\n",
    "print(a)"
   ]
  },
  {
   "cell_type": "code",
   "execution_count": null,
   "metadata": {},
   "outputs": [],
   "source": [
    "a = [ord(i) for i in 'abcdefg']\n",
    "print(a)"
   ]
  },
  {
   "cell_type": "code",
   "execution_count": null,
   "metadata": {},
   "outputs": [],
   "source": [
    "import random\n",
    "a = [random.randint(-10,10) for i in range(10)]\n",
    "print(a)\n",
    "b = [abs(elem) for elem in a]\n",
    "print(b)"
   ]
  },
  {
   "cell_type": "code",
   "execution_count": null,
   "metadata": {},
   "outputs": [],
   "source": [
    "import random\n",
    "a = [random.randint(-10,10) for i in range(10)]\n",
    "print(a)\n",
    "a = [elem+1 for elem in a]\n",
    "print(a)"
   ]
  },
  {
   "cell_type": "code",
   "execution_count": null,
   "metadata": {},
   "outputs": [],
   "source": [
    "# [выражение for val in коллекция if условие]\n",
    "import random\n",
    "a = [random.randint(-10,10) for i in range(10)]\n",
    "print(a)\n",
    "b = [elem for elem in a if (elem%2==0 and elem%3==0)]\n",
    "print(b)"
   ]
  },
  {
   "cell_type": "code",
   "execution_count": null,
   "metadata": {},
   "outputs": [],
   "source": [
    "a = input().split()\n",
    "a = [int(i) for i in a]\n",
    "print(a)"
   ]
  },
  {
   "cell_type": "code",
   "execution_count": null,
   "metadata": {},
   "outputs": [],
   "source": [
    "n = 5\n",
    "m = 4\n",
    "\n",
    "a = [[0]*m for i in range(n)]\n",
    "for i in a:\n",
    "    print(i)\n",
    "\n",
    "n = 3\n",
    "m = 6\n",
    "\n",
    "a = [[0]*m for i in range(n)]\n",
    "for i in a:\n",
    "    print(i)"
   ]
  },
  {
   "cell_type": "code",
   "execution_count": null,
   "metadata": {},
   "outputs": [],
   "source": [
    "n = 3\n",
    "m = 6\n",
    "\n",
    "a = [[0]*m for i in range(n)]\n",
    "a[1][3]=100\n",
    "for i in a:\n",
    "    print(i)"
   ]
  },
  {
   "cell_type": "code",
   "execution_count": null,
   "metadata": {},
   "outputs": [],
   "source": [
    "a = [(i,j) for i in 'abc' for j in [1,2,3]]\n",
    "print(a)"
   ]
  },
  {
   "cell_type": "code",
   "execution_count": null,
   "metadata": {},
   "outputs": [],
   "source": [
    "a = [i*j for i in [2,3,4,5] for j in [1,2,3] if i*j>=10]\n",
    "print(a)"
   ]
  },
  {
   "cell_type": "code",
   "execution_count": null,
   "metadata": {},
   "outputs": [],
   "source": [
    "# Генератор списка\n",
    "a = [i**2 for i in range (1,6)]\n",
    "print(a)"
   ]
  },
  {
   "cell_type": "code",
   "execution_count": null,
   "metadata": {},
   "outputs": [],
   "source": [
    "#Выражения-генераторы\n",
    "b = (i**2 for i in range(1,6))\n",
    "print(b)\n",
    "print(list(b))"
   ]
  },
  {
   "cell_type": "markdown",
   "metadata": {},
   "source": [
    "Геренатор - итератор, элементы которого можно итерировать только один раз\n",
    "\n",
    "Итератор - объект, который поддерживакет функцию next(). Помнит о том, какой элемент будет браться следующим\n",
    "\n",
    "Итерируемый объект - объект, который предоставляет возможность обойти поочерёдно свои элементы. Может быть преобразован к итератору.\n"
   ]
  },
  {
   "cell_type": "code",
   "execution_count": null,
   "metadata": {},
   "outputs": [],
   "source": [
    "# s=[1,2,3]\n",
    "# next(s)\n",
    "s=[1,2,3]\n",
    "d = iter(s)\n",
    "next(d)\n",
    "next(d)\n",
    "next(d)\n",
    "# next(d) #error stop iteration\n",
    "\n",
    "\n"
   ]
  },
  {
   "cell_type": "code",
   "execution_count": null,
   "metadata": {},
   "outputs": [],
   "source": [
    "b = (i**2 for i in range(1,6))\n",
    "print(next(b))\n",
    "print(next(b))\n",
    "print(next(b))\n",
    "print(next(b))\n",
    "print(next(b))\n",
    "# print(next(b))"
   ]
  },
  {
   "cell_type": "code",
   "execution_count": null,
   "metadata": {},
   "outputs": [],
   "source": [
    "b = (i**2 for i in range(1,6))\n",
    "print('First')\n",
    "for i in b:\n",
    "    print(i)\n",
    "print('Second')\n",
    "for i in b:\n",
    "    print(i)"
   ]
  },
  {
   "cell_type": "code",
   "execution_count": null,
   "metadata": {},
   "outputs": [],
   "source": [
    "b = (i**2 for i in range(1,6))\n",
    "print(sum(b))\n",
    "print(sum(b))"
   ]
  },
  {
   "cell_type": "code",
   "execution_count": null,
   "metadata": {},
   "outputs": [],
   "source": [
    "# c = list(range(10000000000000)) #memory error\n",
    "# c = [i for i in range(10000000000000)] #memory error\n",
    "c = (i for i in range(10000000000))\n",
    "for i in c:\n",
    "    print(i)"
   ]
  },
  {
   "cell_type": "code",
   "execution_count": 2,
   "metadata": {},
   "outputs": [
    {
     "name": "stdout",
     "output_type": "stream",
     "text": [
      "[1, 4, 9, 16, 25]\n",
      "<generator object <genexpr> at 0x0000023E75C95DD0>\n",
      "[1, 4, 9, 16, 25]\n"
     ]
    }
   ],
   "source": [
    "# Генератор списка\n",
    "a = [i**2 for i in range(1,6)]\n",
    "print(a)\n",
    "c = (i**2 for i in range(1,6))\n",
    "print(c)\n",
    "print(list(c))"
   ]
  },
  {
   "cell_type": "code",
   "execution_count": 4,
   "metadata": {},
   "outputs": [
    {
     "name": "stdout",
     "output_type": "stream",
     "text": [
      "[1, 4, 9, 16, 25]\n",
      "<generator object <genexpr> at 0x0000023E763673C0>\n",
      "[1, 4, 9, 16, 25]\n"
     ]
    }
   ],
   "source": [
    "# Генератор списка\n",
    "a = [i**2 for i in range(1,6)]\n",
    "print(a)\n",
    "c = (i**2 for i in range(1,6))\n",
    "print(c)\n",
    "# print(len(c)) #error, has no len\n",
    "print(list(c))"
   ]
  },
  {
   "cell_type": "code",
   "execution_count": 6,
   "metadata": {},
   "outputs": [
    {
     "name": "stdout",
     "output_type": "stream",
     "text": [
      "[1, 4, 9, 16, 25]\n",
      "[1, 4, 9, 16, 25]\n"
     ]
    }
   ],
   "source": [
    "# Генератор списка\n",
    "a = [i**2 for i in range(1,6)]\n",
    "print(a)\n",
    "c = (i**2 for i in range(1,6))\n",
    "#print(c[3]) #errorm no index\n",
    "# print(len(c)) #error, has no len\n",
    "print(list(c))"
   ]
  },
  {
   "cell_type": "code",
   "execution_count": 7,
   "metadata": {},
   "outputs": [
    {
     "name": "stdout",
     "output_type": "stream",
     "text": [
      "[<generator object <genexpr> at 0x0000023E76367510>] <class 'list'>\n"
     ]
    }
   ],
   "source": [
    "c = [(i**2 for i in range(1,6))] #still a generator\n",
    "print(c,type(c))\n"
   ]
  },
  {
   "cell_type": "code",
   "execution_count": 27,
   "metadata": {},
   "outputs": [
    {
     "name": "stdout",
     "output_type": "stream",
     "text": [
      "[1, 4, 9, 16, 25]\n",
      "<generator object <genexpr> at 0x0000023E763B5580>\n",
      "[1, 4, 9, 16, 25]\n",
      "[]\n"
     ]
    }
   ],
   "source": [
    "# Генератор списка\n",
    "a = [i**2 for i in range(1,6)]\n",
    "print(a)\n",
    "c = (i**2 for i in range(1,6))\n",
    "print(c)\n",
    "print(list(c))\n",
    "print(list(c)) #empty"
   ]
  },
  {
   "cell_type": "markdown",
   "metadata": {},
   "source": [
    "# 49 Функция генератор. Создание генератора при помощи yield Python\n"
   ]
  },
  {
   "cell_type": "code",
   "execution_count": 29,
   "metadata": {},
   "outputs": [
    {
     "name": "stdout",
     "output_type": "stream",
     "text": [
      "[1, 2, 3]\n"
     ]
    }
   ],
   "source": [
    "def f():\n",
    "    return [1,2,3]\n",
    "print(f())"
   ]
  },
  {
   "cell_type": "code",
   "execution_count": 36,
   "metadata": {},
   "outputs": [
    {
     "name": "stdout",
     "output_type": "stream",
     "text": [
      "<generator object genf at 0x0000023E763C4740>\n",
      "1\n",
      "2\n",
      "3\n"
     ]
    }
   ],
   "source": [
    "def genf():\n",
    "    for i in [1,2,3]:\n",
    "        yield i\n",
    "\n",
    "s = genf()\n",
    "print(s)\n",
    "print(next(s))\n",
    "print(next(s))\n",
    "print(next(s))\n",
    "\n"
   ]
  },
  {
   "cell_type": "code",
   "execution_count": 37,
   "metadata": {},
   "outputs": [
    {
     "name": "stdout",
     "output_type": "stream",
     "text": [
      "1\n",
      "2\n",
      "3\n"
     ]
    }
   ],
   "source": [
    "def genf():\n",
    "    for i in [1,2,3]:\n",
    "        yield i\n",
    "\n",
    "for i in genf():\n",
    "    print(i)\n"
   ]
  },
  {
   "cell_type": "code",
   "execution_count": 48,
   "metadata": {},
   "outputs": [
    {
     "name": "stdout",
     "output_type": "stream",
     "text": [
      "1\n",
      "7\n",
      "2\n",
      "77\n",
      "3\n",
      "777\n"
     ]
    },
    {
     "ename": "StopIteration",
     "evalue": "",
     "output_type": "error",
     "traceback": [
      "\u001b[1;31m---------------------------------------------------------------------------\u001b[0m",
      "\u001b[1;31mStopIteration\u001b[0m                             Traceback (most recent call last)",
      "\u001b[1;32m~\\AppData\\Local\\Temp/ipykernel_7696/1531648960.py\u001b[0m in \u001b[0;36m<module>\u001b[1;34m\u001b[0m\n\u001b[0;32m     10\u001b[0m \u001b[0mprint\u001b[0m\u001b[1;33m(\u001b[0m\u001b[0mnext\u001b[0m\u001b[1;33m(\u001b[0m\u001b[0mg\u001b[0m\u001b[1;33m)\u001b[0m\u001b[1;33m)\u001b[0m\u001b[1;33m\u001b[0m\u001b[1;33m\u001b[0m\u001b[0m\n\u001b[0;32m     11\u001b[0m \u001b[0mprint\u001b[0m\u001b[1;33m(\u001b[0m\u001b[0mnext\u001b[0m\u001b[1;33m(\u001b[0m\u001b[0mg\u001b[0m\u001b[1;33m)\u001b[0m\u001b[1;33m)\u001b[0m\u001b[1;33m\u001b[0m\u001b[1;33m\u001b[0m\u001b[0m\n\u001b[1;32m---> 12\u001b[1;33m \u001b[0mprint\u001b[0m\u001b[1;33m(\u001b[0m\u001b[0mnext\u001b[0m\u001b[1;33m(\u001b[0m\u001b[0mg\u001b[0m\u001b[1;33m)\u001b[0m\u001b[1;33m)\u001b[0m\u001b[1;33m\u001b[0m\u001b[1;33m\u001b[0m\u001b[0m\n\u001b[0m",
      "\u001b[1;31mStopIteration\u001b[0m: "
     ]
    }
   ],
   "source": [
    "def genf():\n",
    "    s = 7\n",
    "    for i in [1,2,3]:\n",
    "        yield i #freezes run here, then continue at next iteration\n",
    "        print(s)\n",
    "        s = s*10 + 7\n",
    "\n",
    "g = genf()\n",
    "print(next(g))\n",
    "print(next(g))\n",
    "print(next(g))\n",
    "print(next(g))"
   ]
  },
  {
   "cell_type": "code",
   "execution_count": 49,
   "metadata": {},
   "outputs": [
    {
     "name": "stdout",
     "output_type": "stream",
     "text": [
      "[1, 2, 6, 24, 120, 720, 5040, 40320, 362880, 3628800]\n"
     ]
    }
   ],
   "source": [
    "def fact(n):\n",
    "    pr=1\n",
    "    a=[]\n",
    "    for i in range(1,n+1):\n",
    "        pr=pr*i\n",
    "        a.append(pr)\n",
    "    return a\n",
    "print(fact(10)) #uses a lot of memory for list"
   ]
  },
  {
   "cell_type": "code",
   "execution_count": 54,
   "metadata": {},
   "outputs": [
    {
     "name": "stdout",
     "output_type": "stream",
     "text": [
      "<generator object fact at 0x0000023E763D3BA0>\n",
      "1\n",
      "2\n",
      "6\n",
      "24\n",
      "120\n",
      "720\n"
     ]
    }
   ],
   "source": [
    "def fact(n):\n",
    "    pr=1\n",
    "    for i in range(1,n+1):\n",
    "        pr=pr*i\n",
    "        yield pr\n",
    "print(fact(10))\n",
    "s = fact(10)\n",
    "print(next(s))\n",
    "print(next(s))\n",
    "print(next(s))\n",
    "print(next(s))\n",
    "print(next(s))\n",
    "print(next(s))"
   ]
  },
  {
   "cell_type": "code",
   "execution_count": 55,
   "metadata": {},
   "outputs": [
    {
     "name": "stdout",
     "output_type": "stream",
     "text": [
      "1 2 6 24 120 720 5040 40320 362880 3628800 "
     ]
    }
   ],
   "source": [
    "def fact(n):\n",
    "    pr=1\n",
    "    for i in range(1,n+1):\n",
    "        pr=pr*i\n",
    "        yield pr\n",
    "\n",
    "for i in fact(10):\n",
    "    print(i, end=\" \")"
   ]
  },
  {
   "cell_type": "markdown",
   "metadata": {},
   "source": [
    "# 50 Функция map Python. Что делает функция map в Python\n"
   ]
  },
  {
   "cell_type": "code",
   "execution_count": 3,
   "metadata": {},
   "outputs": [
    {
     "name": "stdout",
     "output_type": "stream",
     "text": [
      "<map object at 0x000002102E661520>\n",
      "[1, 2, 3, 4, 5]\n"
     ]
    }
   ],
   "source": [
    "# #class map (object)\n",
    "# map(func, *iterables) -> map object\n",
    "# make an iterator that computes the function\n",
    "# using arguments from each of he iterables.\n",
    "\n",
    "a = [-1,2,-3,4,5]\n",
    "b = map(abs,a)\n",
    "print(b)\n",
    "b = list(b)\n",
    "print(b)"
   ]
  },
  {
   "cell_type": "code",
   "execution_count": 4,
   "metadata": {},
   "outputs": [
    {
     "name": "stdout",
     "output_type": "stream",
     "text": [
      "[1, 2, 3, 4, 5]\n"
     ]
    }
   ],
   "source": [
    "a = [-1,2,-3,4,5]\n",
    "\n",
    "c = [abs(i) for i in a]\n",
    "print(c)"
   ]
  },
  {
   "cell_type": "code",
   "execution_count": 5,
   "metadata": {},
   "outputs": [
    {
     "name": "stdout",
     "output_type": "stream",
     "text": [
      "[1, 4, 9, 16, 25]\n"
     ]
    }
   ],
   "source": [
    "def f(x):\n",
    "    return x**2\n",
    "\n",
    "a = [-1,2,-3,4,5]\n",
    "b = list(map(f,a))\n",
    "print(b)"
   ]
  },
  {
   "cell_type": "code",
   "execution_count": 6,
   "metadata": {},
   "outputs": [
    {
     "name": "stdout",
     "output_type": "stream",
     "text": [
      "[5, 2, 4]\n"
     ]
    }
   ],
   "source": [
    "a = ['hello','hi','good']\n",
    "b = list(map(len,a))\n",
    "print(b)"
   ]
  },
  {
   "cell_type": "code",
   "execution_count": 8,
   "metadata": {},
   "outputs": [
    {
     "name": "stdout",
     "output_type": "stream",
     "text": [
      "['HELLO', 'HI', 'GOOD']\n"
     ]
    }
   ],
   "source": [
    "a = ['hello','hi','good']\n",
    "b = list(map(str.upper,a))\n",
    "print(b)"
   ]
  },
  {
   "cell_type": "code",
   "execution_count": 10,
   "metadata": {},
   "outputs": [
    {
     "name": "stdout",
     "output_type": "stream",
     "text": [
      "['olleh', 'ih', 'doog']\n",
      "['olleh', 'ih', 'doog']\n"
     ]
    }
   ],
   "source": [
    "a = ['hello','hi','good']\n",
    "b = list(map(lambda x: x[::-1],a))\n",
    "c = [i[::-1] for i in a]\n",
    "print(b)\n",
    "print(c)"
   ]
  },
  {
   "cell_type": "code",
   "execution_count": 11,
   "metadata": {},
   "outputs": [
    {
     "name": "stdout",
     "output_type": "stream",
     "text": [
      "['hello!', 'hi!', 'good!']\n",
      "['olleh', 'ih', 'doog']\n"
     ]
    }
   ],
   "source": [
    "a = ['hello','hi','good']\n",
    "b = list(map(lambda x: x+'!',a))\n",
    "print(b)"
   ]
  },
  {
   "cell_type": "code",
   "execution_count": 13,
   "metadata": {},
   "outputs": [
    {
     "name": "stdout",
     "output_type": "stream",
     "text": [
      "[['h', 'e', 'l', 'l', 'o'], ['h', 'i'], ['g', 'o', 'o', 'd']]\n",
      "[['e', 'h', 'l', 'l', 'o'], ['h', 'i'], ['d', 'g', 'o', 'o']]\n"
     ]
    }
   ],
   "source": [
    "a = ['hello','hi','good']\n",
    "b = list(map(list,a))\n",
    "c = list(map(sorted,b))\n",
    "print(b)\n",
    "print(c)"
   ]
  },
  {
   "cell_type": "code",
   "execution_count": 17,
   "metadata": {},
   "outputs": [
    {
     "name": "stdout",
     "output_type": "stream",
     "text": [
      "[1, 2, 3, 4]\n"
     ]
    }
   ],
   "source": [
    "# s = int(input())\n",
    "# print(s)\n",
    "\n",
    "s = list(map(int,(input().split())))\n",
    "print(s)"
   ]
  },
  {
   "cell_type": "markdown",
   "metadata": {},
   "source": [
    "# 52 Функция zip python. Что делает функция zip в Python\n"
   ]
  },
  {
   "cell_type": "code",
   "execution_count": 18,
   "metadata": {},
   "outputs": [
    {
     "name": "stdout",
     "output_type": "stream",
     "text": [
      "5 100\n",
      "6 200\n",
      "7 300\n",
      "8 400\n"
     ]
    }
   ],
   "source": [
    "a = [5,6,7,8]\n",
    "b = [100,200,300,400]\n",
    "\n",
    "for i in range(4):\n",
    "    print(a[i],b[i])\n",
    "    "
   ]
  },
  {
   "cell_type": "code",
   "execution_count": 19,
   "metadata": {},
   "outputs": [
    {
     "name": "stdout",
     "output_type": "stream",
     "text": [
      "5 100\n",
      "6 200\n",
      "7 300\n"
     ]
    },
    {
     "ename": "IndexError",
     "evalue": "list index out of range",
     "output_type": "error",
     "traceback": [
      "\u001b[1;31m---------------------------------------------------------------------------\u001b[0m",
      "\u001b[1;31mIndexError\u001b[0m                                Traceback (most recent call last)",
      "\u001b[1;32m~\\AppData\\Local\\Temp/ipykernel_10980/2385080378.py\u001b[0m in \u001b[0;36m<module>\u001b[1;34m\u001b[0m\n\u001b[0;32m      4\u001b[0m \u001b[1;33m\u001b[0m\u001b[0m\n\u001b[0;32m      5\u001b[0m \u001b[1;32mfor\u001b[0m \u001b[0mi\u001b[0m \u001b[1;32min\u001b[0m \u001b[0mrange\u001b[0m\u001b[1;33m(\u001b[0m\u001b[1;36m4\u001b[0m\u001b[1;33m)\u001b[0m\u001b[1;33m:\u001b[0m\u001b[1;33m\u001b[0m\u001b[1;33m\u001b[0m\u001b[0m\n\u001b[1;32m----> 6\u001b[1;33m     \u001b[0mprint\u001b[0m\u001b[1;33m(\u001b[0m\u001b[0ma\u001b[0m\u001b[1;33m[\u001b[0m\u001b[0mi\u001b[0m\u001b[1;33m]\u001b[0m\u001b[1;33m,\u001b[0m\u001b[0mb\u001b[0m\u001b[1;33m[\u001b[0m\u001b[0mi\u001b[0m\u001b[1;33m]\u001b[0m\u001b[1;33m)\u001b[0m\u001b[1;33m\u001b[0m\u001b[1;33m\u001b[0m\u001b[0m\n\u001b[0m\u001b[0;32m      7\u001b[0m \u001b[1;33m\u001b[0m\u001b[0m\n",
      "\u001b[1;31mIndexError\u001b[0m: list index out of range"
     ]
    }
   ],
   "source": [
    "#error\n",
    "a = [5,6,7]\n",
    "b = [100,200,300,400]\n",
    "\n",
    "for i in range(4):\n",
    "    print(a[i],b[i])\n",
    "    "
   ]
  },
  {
   "cell_type": "code",
   "execution_count": 21,
   "metadata": {},
   "outputs": [
    {
     "name": "stdout",
     "output_type": "stream",
     "text": [
      "<zip object at 0x000002102E72A900>\n",
      "[(5, 100), (6, 200), (7, 300), (8, 400)]\n"
     ]
    }
   ],
   "source": [
    "a = [5,6,7,8]\n",
    "b = [100,200,300,400]\n",
    "\n",
    "rez = zip(a,b)    #zip object\n",
    "print(rez)\n",
    "print(list(rez))\n"
   ]
  },
  {
   "cell_type": "code",
   "execution_count": 22,
   "metadata": {},
   "outputs": [
    {
     "name": "stdout",
     "output_type": "stream",
     "text": [
      "<zip object at 0x000002102E72A0C0>\n",
      "[(5, 100), (6, 200)]\n"
     ]
    }
   ],
   "source": [
    "a = [5,6]\n",
    "b = [100,200,300,400]\n",
    "\n",
    "rez = zip(a,b)    #zip object\n",
    "print(rez)\n",
    "print(list(rez))\n"
   ]
  },
  {
   "cell_type": "code",
   "execution_count": 26,
   "metadata": {},
   "outputs": [
    {
     "name": "stdout",
     "output_type": "stream",
     "text": [
      "(5, 100)\n",
      "(6, 200)\n",
      "(7, 300)\n",
      "(8, 400)\n",
      "---\n"
     ]
    }
   ],
   "source": [
    "a = [5,6,7,8]\n",
    "b = [100,200,300,400]\n",
    "\n",
    "rez = zip(a,b)    #zip object\n",
    "#print(len(rez)) #error\n",
    "#print(rez[0]) #error\n",
    "for i in rez:\n",
    "    print(i)\n",
    "print('---')\n",
    "for i in rez:\n",
    "    print(i)\n",
    "\n",
    "    "
   ]
  },
  {
   "cell_type": "code",
   "execution_count": 31,
   "metadata": {},
   "outputs": [
    {
     "name": "stdout",
     "output_type": "stream",
     "text": [
      "[(5, 100, 'a'), (6, 200, 'b'), (7, 300, 'c'), (8, 400, 'd')]\n",
      "5 100 a\n",
      "6 200 b\n",
      "7 300 c\n",
      "8 400 d\n"
     ]
    }
   ],
   "source": [
    "a = [5,6,7,8]\n",
    "b = [100,200,300,400]\n",
    "c = 'abcd'\n",
    "\n",
    "rez = list(zip(a,b,c))    #zip object\n",
    "print(rez)\n",
    "\n",
    "for t1,t2,t3 in zip(a,b,c):\n",
    "    print(t1,t2,t3)\n"
   ]
  },
  {
   "cell_type": "code",
   "execution_count": 34,
   "metadata": {},
   "outputs": [
    {
     "name": "stdout",
     "output_type": "stream",
     "text": [
      "(5, 6, 7, 8) (100, 200, 300, 400) ('a', 'b', 'c', 'd')\n"
     ]
    }
   ],
   "source": [
    "a = [5,6,7,8]\n",
    "b = [100,200,300,400]\n",
    "c = 'abcd'\n",
    "\n",
    "rez = zip(a,b,c)\n",
    "coll1,coll2,coll3 = zip(*rez)\n",
    "print(coll1,coll2,coll3)\n",
    "\n",
    "# print(list(rez))\n"
   ]
  }
 ],
 "metadata": {
  "interpreter": {
   "hash": "c072b5b97b769e545e4a30fe0c2899590d05a0279abf2521fc01dee924670526"
  },
  "kernelspec": {
   "display_name": "Python 3.9.7 64-bit ('.venv': venv)",
   "language": "python",
   "name": "python3"
  },
  "language_info": {
   "codemirror_mode": {
    "name": "ipython",
    "version": 3
   },
   "file_extension": ".py",
   "mimetype": "text/x-python",
   "name": "python",
   "nbconvert_exporter": "python",
   "pygments_lexer": "ipython3",
   "version": "3.9.7"
  },
  "orig_nbformat": 4
 },
 "nbformat": 4,
 "nbformat_minor": 2
}
