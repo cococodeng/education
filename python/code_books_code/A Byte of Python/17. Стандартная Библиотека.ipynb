{
 "cells": [
  {
   "cell_type": "code",
   "execution_count": null,
   "metadata": {},
   "outputs": [],
   "source": [
    "# 17.1 Модуль sys\n",
    "\n",
    "import sys\n",
    "print(sys.version_info)\n",
    "print(sys.version_info[0] >= 3)"
   ]
  },
  {
   "cell_type": "code",
   "execution_count": null,
   "metadata": {},
   "outputs": [],
   "source": [
    "# versioncheck.py\n",
    "\n",
    "import sys, warnings\n",
    "if sys.version_info[0] < 3:\n",
    "    warnings.warn(\"Для выполнения этой программы необходима как минимум \\\n",
    "        версия Python 3.0\",\n",
    "        RuntimeWarning)\n",
    "else:\n",
    "    print('Нормальное продолжение')"
   ]
  },
  {
   "cell_type": "code",
   "execution_count": null,
   "metadata": {},
   "outputs": [],
   "source": [
    "# 17.2 Модуль logging\n",
    "\n",
    "# use_logging.py\n",
    "\n",
    "import os, platform, logging\n",
    "\n",
    "if platform.platform().startswith('Windows'):\n",
    "    logging_file = os.path.join(os.getenv('HOMEDRIVE'), \\\n",
    "                    os.getenv('HOMEPATH)'),\\\n",
    "                        'test.log')\n",
    "else:\n",
    "    logging_file = os.path.join(os.getenv('HOME'), 'test.log')\n",
    "    \n",
    "print(\"Сохраняем лог в\", logging_file)\n",
    "\n",
    "logging.basicConfig(\n",
    "    level=logging.DEBUG,\n",
    "    format='%(asctime)s : %(levelname)s : %(message)s',\n",
    "    filename=logging_file,\n",
    "    filemode='w',\n",
    ")\n",
    "\n",
    "logging.debug(\"Начало программы\")\n",
    "logging.info(\"Какие-то действия\")\n",
    "logging.warning(\"Программа умирает\")"
   ]
  }
 ],
 "metadata": {
  "kernelspec": {
   "display_name": "Python 3.8.12 64-bit",
   "language": "python",
   "name": "python3"
  },
  "language_info": {
   "codemirror_mode": {
    "name": "ipython",
    "version": 3
   },
   "file_extension": ".py",
   "mimetype": "text/x-python",
   "name": "python",
   "nbconvert_exporter": "python",
   "pygments_lexer": "ipython3",
   "version": "3.8.12"
  },
  "orig_nbformat": 4,
  "vscode": {
   "interpreter": {
    "hash": "5b3ded1ccb95c1d9bd405e7b823d9e85424cde40fbb5985eb47e999ef50e15b4"
   }
  }
 },
 "nbformat": 4,
 "nbformat_minor": 2
}
