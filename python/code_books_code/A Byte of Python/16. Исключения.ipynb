{
 "cells": [
  {
   "cell_type": "markdown",
   "metadata": {},
   "source": [
    "# Исключения"
   ]
  },
  {
   "cell_type": "code",
   "execution_count": null,
   "metadata": {},
   "outputs": [],
   "source": [
    "# 16.1 Ошибки\n",
    "Print('Привет, Мир!')"
   ]
  },
  {
   "cell_type": "code",
   "execution_count": null,
   "metadata": {},
   "outputs": [],
   "source": [
    "print('Привет, Мир!')"
   ]
  },
  {
   "cell_type": "code",
   "execution_count": null,
   "metadata": {},
   "outputs": [],
   "source": [
    "# 16.2 Исключения\n",
    "\n",
    "s = input('Введите что-нибудь --> ')\n",
    "# EOFError: EOF when reading a line"
   ]
  },
  {
   "cell_type": "code",
   "execution_count": null,
   "metadata": {},
   "outputs": [],
   "source": [
    "# 16.3 Обработка исключений\n",
    "try:\n",
    "    text = input('Введите что-нибудь - > ')\n",
    "except EOFError:\n",
    "    print('Ну зачем вы сделали мне EOF?')\n",
    "except KeyboardInterrupt:\n",
    "    print('Вы отменили операцию')\n",
    "else:\n",
    "    print('Вы ввели {0}'.format(text))\n",
    "\n",
    "# Можно также добавить пункт else к соответствующему блоку try..except. Этот пункт\n",
    "# будет выполнен тогда, когда исключений не возникает."
   ]
  },
  {
   "cell_type": "code",
   "execution_count": null,
   "metadata": {},
   "outputs": [],
   "source": [
    "# 16.4 Вызов исключения\n",
    "class ShortInputException(Exception):\n",
    "    '''User Class of Exception'''\n",
    "    def __init__(self, length, atleast):\n",
    "        Exception.__init__(self)\n",
    "        self.length = length\n",
    "        self.atleast = atleast\n",
    "\n",
    "try:\n",
    "    text = input('Input something - > ')\n",
    "    if len(text) < 3:\n",
    "        raise ShortInputException(len(text), 3)\n",
    "    # . . . ordinary work done here . . .\n",
    "except EOFError:\n",
    "    print(\"You've entered EOF\")\n",
    "except ShortInputException as ex:\n",
    "    print('ShortInputException: Length of input string -- {0};\\\n",
    "           At least {1} characters expected'.format(ex.length, ex.atleast))\n",
    "else:\n",
    "    print('There were no exceptions')"
   ]
  },
  {
   "cell_type": "code",
   "execution_count": null,
   "metadata": {},
   "outputs": [],
   "source": [
    "# 16.5 Try .. Finally\n",
    "import time\n",
    "\n",
    "try:\n",
    "    f = open('poem.txt')\n",
    "    while True: \n",
    "        line = f.readline()\n",
    "        if len(line) == 0:\n",
    "            break\n",
    "        print(line, end='')\n",
    "        time.sleep(2)\n",
    "except KeyboardInterrupt:\n",
    "    print('!! You cancelled file reading')\n",
    "finally:\n",
    "    f.close()\n",
    "    print('Cleaning. Closing file.')"
   ]
  },
  {
   "cell_type": "code",
   "execution_count": null,
   "metadata": {},
   "outputs": [],
   "source": [
    "# 16.6 Оператор with\n",
    "with open(\"poem.txt\") as f:\n",
    "    for line in f:\n",
    "        print(line, end='')"
   ]
  },
  {
   "cell_type": "code",
   "execution_count": null,
   "metadata": {},
   "outputs": [],
   "source": []
  }
 ],
 "metadata": {
  "kernelspec": {
   "display_name": "Python 3.8.12 64-bit",
   "language": "python",
   "name": "python3"
  },
  "language_info": {
   "codemirror_mode": {
    "name": "ipython",
    "version": 3
   },
   "file_extension": ".py",
   "mimetype": "text/x-python",
   "name": "python",
   "nbconvert_exporter": "python",
   "pygments_lexer": "ipython3",
   "version": "3.8.12"
  },
  "orig_nbformat": 4,
  "vscode": {
   "interpreter": {
    "hash": "5b3ded1ccb95c1d9bd405e7b823d9e85424cde40fbb5985eb47e999ef50e15b4"
   }
  }
 },
 "nbformat": 4,
 "nbformat_minor": 2
}
