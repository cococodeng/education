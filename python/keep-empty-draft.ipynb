{
 "cells": [
  {
   "cell_type": "code",
   "execution_count": null,
   "metadata": {},
   "outputs": [],
   "source": []
  }
 ],
 "metadata": {
  "kernelspec": {
   "display_name": ".venv",
   "language": "python",
   "name": "python3"
  },
  "language_info": {
   "name": "python",
   "version": "3.6.8 (default, Oct 26 2022, 09:13:21) \n[GCC 8.5.0 20210514 (Red Hat 8.5.0-17)]"
  },
  "orig_nbformat": 4,
  "vscode": {
   "interpreter": {
    "hash": "8b4ed5e26e8f70440c74308bf05acd586e8e1867e406c4b0c485e602cf6ee9fb"
   }
  }
 },
 "nbformat": 4,
 "nbformat_minor": 2
}
