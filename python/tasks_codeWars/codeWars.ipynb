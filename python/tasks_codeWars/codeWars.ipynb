{
 "cells": [
  {
   "cell_type": "code",
   "execution_count": 9,
   "metadata": {},
   "outputs": [],
   "source": [
    "# DNA\n",
    "\n",
    "# A T - C G\n",
    "\n",
    "def DNA_strand(dna):\n",
    "    dna = dna.split()\n",
    "    for nucleotide in dna:\n",
    "        if nucleotide == 'A': nucleotide = 'T'\n",
    "        if nucleotide == 'T': nucleotide = 'A'\n",
    "        if nucleotide == 'C': nucleotide = 'G'\n",
    "        if nucleotide == 'G': nucleotide = 'C'\n",
    "    dna = ''.join(dna)\n",
    "    return dna\n",
    "    # solved"
   ]
  },
  {
   "cell_type": "code",
   "execution_count": null,
   "metadata": {},
   "outputs": [],
   "source": []
  },
  {
   "cell_type": "code",
   "execution_count": null,
   "metadata": {},
   "outputs": [],
   "source": []
  }
 ],
 "metadata": {
  "kernelspec": {
   "display_name": "Python 3.9.10 ('.venv': venv)",
   "language": "python",
   "name": "python3"
  },
  "language_info": {
   "codemirror_mode": {
    "name": "ipython",
    "version": 3
   },
   "file_extension": ".py",
   "mimetype": "text/x-python",
   "name": "python",
   "nbconvert_exporter": "python",
   "pygments_lexer": "ipython3",
   "version": "3.9.10"
  },
  "orig_nbformat": 4,
  "vscode": {
   "interpreter": {
    "hash": "ee5b7d8a7c17ac945ceff1b448c84f277669e4bf414729266781a6cc4bd61562"
   }
  }
 },
 "nbformat": 4,
 "nbformat_minor": 2
}
